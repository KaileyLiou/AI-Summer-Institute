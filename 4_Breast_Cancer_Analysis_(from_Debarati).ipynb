{
  "cells": [
    {
      "cell_type": "markdown",
      "id": "de1647ca",
      "metadata": {
        "id": "de1647ca"
      },
      "source": [
        "# Breast Cancer Classification with Logistic Regression & Gradient Boosting\n",
        "This notebook performs the following:\n",
        "- Basic EDA (mean, median, heatmap)\n",
        "- Model training: Logistic Regression & GBM\n",
        "- Evaluation: Accuracy, ROC AUC, KS Statistic\n",
        "- Visualizations: Histogram and KS Curve"
      ]
    },
    {
      "cell_type": "code",
      "execution_count": null,
      "id": "0199ab55",
      "metadata": {
        "id": "0199ab55"
      },
      "outputs": [],
      "source": [
        "import pandas as pd\n",
        "import numpy as np\n",
        "import matplotlib.pyplot as plt\n",
        "import seaborn as sns\n",
        "\n",
        "from sklearn.datasets import load_breast_cancer\n",
        "from sklearn.model_selection import train_test_split\n",
        "from sklearn.preprocessing import StandardScaler\n",
        "from sklearn.linear_model import LogisticRegression\n",
        "from sklearn.ensemble import GradientBoostingClassifier\n",
        "from sklearn.metrics import classification_report, accuracy_score, roc_auc_score\n",
        "from scipy.stats import ks_2samp"
      ]
    },
    {
      "cell_type": "code",
      "execution_count": null,
      "id": "f229296b",
      "metadata": {
        "id": "f229296b"
      },
      "outputs": [],
      "source": [
        "# Load dataset\n",
        "data = load_breast_cancer()\n",
        "df = pd.DataFrame(data.data, columns=data.feature_names)\n",
        "df['target'] = data.target\n",
        "df.head()"
      ]
    },
    {
      "cell_type": "code",
      "execution_count": null,
      "id": "bd9d4fb3",
      "metadata": {
        "id": "bd9d4fb3"
      },
      "outputs": [],
      "source": [
        "# Mean and Median\n",
        "print(\"=== Mean of Features ===\")\n",
        "print(df.mean().round(2))\n",
        "\n",
        "print(\"\\n=== Median of Features ===\")\n",
        "print(df.median().round(2))"
      ]
    },
    {
      "cell_type": "code",
      "execution_count": null,
      "id": "2206ebd7",
      "metadata": {
        "id": "2206ebd7"
      },
      "outputs": [],
      "source": [
        "# Target Distribution\n",
        "sns.countplot(x='target', data=df)\n",
        "plt.title('Target Class Distribution')\n",
        "plt.xticks([0, 1], ['Malignant', 'Benign'])\n",
        "plt.show()"
      ]
    },
    {
      "cell_type": "code",
      "execution_count": null,
      "id": "a9a9ba32",
      "metadata": {
        "id": "a9a9ba32"
      },
      "outputs": [],
      "source": [
        "# Mean vs Median\n",
        "mean_vals = df.mean()\n",
        "median_vals = df.median()\n",
        "plt.figure(figsize=(12, 4))\n",
        "mean_vals.drop('target').plot(label='Mean', linestyle='--')\n",
        "median_vals.drop('target').plot(label='Median', alpha=0.7)\n",
        "plt.title('Mean vs Median of Features')\n",
        "plt.legend()\n",
        "plt.xticks(rotation=90)\n",
        "plt.tight_layout()\n",
        "plt.show()"
      ]
    },
    {
      "cell_type": "code",
      "execution_count": null,
      "id": "47e9e062",
      "metadata": {
        "id": "47e9e062"
      },
      "outputs": [],
      "source": [
        "# Correlation Heatmap\n",
        "plt.figure(figsize=(10, 8))\n",
        "sns.heatmap(df.corr(), cmap='coolwarm', linewidths=0.5)\n",
        "plt.title('Feature Correlation Heatmap')\n",
        "plt.show()"
      ]
    },
    {
      "cell_type": "code",
      "execution_count": null,
      "id": "f818d1ad",
      "metadata": {
        "id": "f818d1ad"
      },
      "outputs": [],
      "source": [
        "# Train-test split\n",
        "X = df.drop('target', axis=1)\n",
        "y = df['target']\n",
        "X_train, X_test, y_train, y_test = train_test_split(X, y, test_size=0.2, random_state=42)\n",
        "\n",
        "# Feature Scaling\n",
        "scaler = StandardScaler()\n",
        "X_train_scaled = scaler.fit_transform(X_train)\n",
        "X_test_scaled = scaler.transform(X_test)"
      ]
    },
    {
      "cell_type": "code",
      "execution_count": null,
      "id": "69343a1c",
      "metadata": {
        "id": "69343a1c"
      },
      "outputs": [],
      "source": [
        "# Logistic Regression\n",
        "log_reg = LogisticRegression()\n",
        "log_reg.fit(X_train_scaled, y_train)\n",
        "log_preds = log_reg.predict(X_test_scaled)\n",
        "log_proba = log_reg.predict_proba(X_test_scaled)[:, 1]"
      ]
    },
    {
      "cell_type": "code",
      "execution_count": null,
      "id": "b731180e",
      "metadata": {
        "id": "b731180e"
      },
      "outputs": [],
      "source": [
        "# Gradient Boosting\n",
        "gbm = GradientBoostingClassifier()\n",
        "gbm.fit(X_train, y_train)\n",
        "gbm_preds = gbm.predict(X_test)\n",
        "gbm_proba = gbm.predict_proba(X_test)[:, 1]"
      ]
    },
    {
      "cell_type": "code",
      "execution_count": null,
      "id": "bd9bf230",
      "metadata": {
        "id": "bd9bf230"
      },
      "outputs": [],
      "source": [
        "# KS Function\n",
        "def ks_score(y_true, y_pred_proba):\n",
        "    return ks_2samp(y_pred_proba[y_true == 1], y_pred_proba[y_true == 0]).statistic"
      ]
    },
    {
      "cell_type": "code",
      "execution_count": null,
      "id": "3068b599",
      "metadata": {
        "id": "3068b599"
      },
      "outputs": [],
      "source": [
        "# Model Evaluation\n",
        "print(\"=== Logistic Regression ===\")\n",
        "print(\"Accuracy:\", accuracy_score(y_test, log_preds))\n",
        "print(\"ROC AUC:\", roc_auc_score(y_test, log_proba))\n",
        "print(\"KS Statistic:\", ks_score(y_test, log_proba))\n",
        "print(classification_report(y_test, log_preds))\n",
        "\n",
        "print(\"=== Gradient Boosting ===\")\n",
        "print(\"Accuracy:\", accuracy_score(y_test, gbm_preds))\n",
        "print(\"ROC AUC:\", roc_auc_score(y_test, gbm_proba))\n",
        "print(\"KS Statistic:\", ks_score(y_test, gbm_proba))\n",
        "print(classification_report(y_test, gbm_preds))"
      ]
    },
    {
      "cell_type": "code",
      "execution_count": null,
      "id": "726f941c",
      "metadata": {
        "id": "726f941c"
      },
      "outputs": [],
      "source": [
        "# Predicted Probabilities Histogram\n",
        "plt.figure(figsize=(8, 4))\n",
        "sns.histplot(log_proba, color='blue', label='Logistic Regression', kde=True, stat='density', bins=25)\n",
        "sns.histplot(gbm_proba, color='green', label='Gradient Boosting', kde=True, stat='density', bins=25, alpha=0.6)\n",
        "plt.title('Predicted Probabilities Histogram')\n",
        "plt.xlabel('Predicted Probability')\n",
        "plt.legend()\n",
        "plt.show()"
      ]
    },
    {
      "cell_type": "code",
      "execution_count": null,
      "id": "0f765c99",
      "metadata": {
        "id": "0f765c99"
      },
      "outputs": [],
      "source": [
        "# KS Curve\n",
        "def plot_ks_curve(y_true, y_proba, model_name):\n",
        "    data = pd.DataFrame({'y': y_true, 'proba': y_proba})\n",
        "    data = data.sort_values(by='proba', ascending=False)\n",
        "    data['cum_pct_total'] = np.arange(len(data)) / len(data)\n",
        "    data['cum_pct_pos'] = data['y'].cumsum() / data['y'].sum()\n",
        "    data['cum_pct_neg'] = ((1 - data['y']).cumsum()) / (1 - data['y']).sum()\n",
        "    data['ks'] = np.abs(data['cum_pct_pos'] - data['cum_pct_neg'])\n",
        "\n",
        "    plt.figure(figsize=(7, 4))\n",
        "    plt.plot(data['cum_pct_total'], data['cum_pct_pos'], label='Positive CDF')\n",
        "    plt.plot(data['cum_pct_total'], data['cum_pct_neg'], label='Negative CDF')\n",
        "    plt.title(f\"KS Curve - {model_name}\")\n",
        "    plt.xlabel('Cumulative % of Population')\n",
        "    plt.ylabel('Cumulative % of Class')\n",
        "    plt.legend()\n",
        "    plt.grid(True)\n",
        "    plt.show()\n",
        "\n",
        "plot_ks_curve(y_test.values, log_proba, 'Logistic Regression')\n",
        "plot_ks_curve(y_test.values, gbm_proba, 'Gradient Boosting')"
      ]
    }
  ],
  "metadata": {
    "colab": {
      "provenance": []
    }
  },
  "nbformat": 4,
  "nbformat_minor": 5
}