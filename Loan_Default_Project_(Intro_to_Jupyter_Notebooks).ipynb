{
  "cells": [
    {
      "cell_type": "code",
      "execution_count": null,
      "metadata": {
        "id": "5L1IM8Q5Dwyp"
      },
      "outputs": [],
      "source": [
        "#Name: Kailey\n",
        "\n",
        "#Dataset is from a fictional bank.\n",
        "#Their business consists of issuing loans. Their problem is that they know very little about\n",
        "#their data. They have a data file that has over 300k loans they have issued. The dataset describes information\n",
        "#about each loan. The dataset contains loan amount issued and many other fields that describe the client’s\n",
        "#credit factors, such as whether they own their own home or not, their income, how long it has been since they\n",
        "#were delinquent on an account, how many years since they received their first credit line, etc.\n",
        "#The problem is that the bank has no idea who their clients are and what their data can tell them about their business."
      ]
    },
    {
      "cell_type": "code",
      "execution_count": null,
      "metadata": {
        "id": "lfZjgbT9Dwyt"
      },
      "outputs": [],
      "source": [
        "#Here are the steps to take:\n",
        "# 1. Cleanse\n",
        "# Look for null data in the table, and use the appropriate strategy to handle null data for each column.\n",
        "\n",
        "# 2. Outliers\n",
        "# Search the data for outliers and remove them.\n",
        "\n",
        "# 3. Macro information Data.\n",
        "# How much (total) does the bank have out in loans? How much are in default/late? What percentage of the business are\n",
        "# default and late?\n",
        "\n",
        "# 4. Who defaults or has problems repaying loans?\n",
        "# Create visualizations to show who are in default/late.\n",
        "\n",
        "# 5. Regression analysis with scoring and confusion matrix."
      ]
    },
    {
      "cell_type": "code",
      "execution_count": null,
      "metadata": {
        "id": "urOyPLj9Dwyu"
      },
      "outputs": [],
      "source": [
        "#Libraries we need to run the code below:\n",
        "import numpy as np\n",
        "import pandas as pd\n",
        "import matplotlib.pyplot as plt"
      ]
    },
    {
      "cell_type": "code",
      "execution_count": null,
      "metadata": {
        "id": "n-jakfTXDwyv"
      },
      "outputs": [],
      "source": [
        "df = pd.read_csv('loans.csv')"
      ]
    },
    {
      "cell_type": "code",
      "execution_count": null,
      "metadata": {
        "colab": {
          "base_uri": "https://localhost:8080/",
          "height": 273
        },
        "id": "46Hlt7tlDwyv",
        "outputId": "3c3e651d-6e1d-4a21-b783-ff82826d7ad8"
      },
      "outputs": [
        {
          "output_type": "execute_result",
          "data": {
            "text/plain": [
              "   SK_ID_CURR  Unnamed: 1 NAME_CONTRACT_TYPE CODE_GENDER FLAG_OWN_CAR  \\\n",
              "0      100002         NaN         Cash loans           M            N   \n",
              "1      100003         NaN         Cash loans           F            N   \n",
              "2      100004         NaN    Revolving loans           M            Y   \n",
              "3      100006         NaN         Cash loans           F            N   \n",
              "4      100007         NaN         Cash loans           M            N   \n",
              "\n",
              "  FLAG_OWN_REALTY  CNT_CHILDREN  AMT_INCOME_TOTAL  AMT_CREDIT  AMT_ANNUITY  \\\n",
              "0               Y             0          202500.0    406597.5      24700.5   \n",
              "1               N             0          270000.0   1293502.5      35698.5   \n",
              "2               Y             0           67500.0    135000.0       6750.0   \n",
              "3               Y             0          135000.0    312682.5      29686.5   \n",
              "4               Y             0          121500.0    513000.0      21865.5   \n",
              "\n",
              "   ...  OCCUPATION_TYPE CNT_FAM_MEMBERS REG_REGION_NOT_LIVE_REGION  \\\n",
              "0  ...         Laborers             1.0                          0   \n",
              "1  ...       Core staff             2.0                          0   \n",
              "2  ...         Laborers             1.0                          0   \n",
              "3  ...         Laborers             2.0                          0   \n",
              "4  ...       Core staff             1.0                          0   \n",
              "\n",
              "  REG_REGION_NOT_WORK_REGION LIVE_REGION_NOT_WORK_REGION  \\\n",
              "0                          0                           0   \n",
              "1                          0                           0   \n",
              "2                          0                           0   \n",
              "3                          0                           0   \n",
              "4                          0                           0   \n",
              "\n",
              "  REG_CITY_NOT_LIVE_CITY  REG_CITY_NOT_WORK_CITY  LIVE_CITY_NOT_WORK_CITY  \\\n",
              "0                      0                       0                        0   \n",
              "1                      0                       0                        0   \n",
              "2                      0                       0                        0   \n",
              "3                      0                       0                        0   \n",
              "4                      0                       1                        1   \n",
              "\n",
              "        ORGANIZATION_TYPE  TARGET  \n",
              "0  Business Entity Type 3       1  \n",
              "1                  School       0  \n",
              "2              Government       0  \n",
              "3  Business Entity Type 3       0  \n",
              "4                Religion       0  \n",
              "\n",
              "[5 rows x 37 columns]"
            ],
            "text/html": [
              "\n",
              "  <div id=\"df-49b8f474-e24f-4cd3-abd4-e2c5c372052a\" class=\"colab-df-container\">\n",
              "    <div>\n",
              "<style scoped>\n",
              "    .dataframe tbody tr th:only-of-type {\n",
              "        vertical-align: middle;\n",
              "    }\n",
              "\n",
              "    .dataframe tbody tr th {\n",
              "        vertical-align: top;\n",
              "    }\n",
              "\n",
              "    .dataframe thead th {\n",
              "        text-align: right;\n",
              "    }\n",
              "</style>\n",
              "<table border=\"1\" class=\"dataframe\">\n",
              "  <thead>\n",
              "    <tr style=\"text-align: right;\">\n",
              "      <th></th>\n",
              "      <th>SK_ID_CURR</th>\n",
              "      <th>Unnamed: 1</th>\n",
              "      <th>NAME_CONTRACT_TYPE</th>\n",
              "      <th>CODE_GENDER</th>\n",
              "      <th>FLAG_OWN_CAR</th>\n",
              "      <th>FLAG_OWN_REALTY</th>\n",
              "      <th>CNT_CHILDREN</th>\n",
              "      <th>AMT_INCOME_TOTAL</th>\n",
              "      <th>AMT_CREDIT</th>\n",
              "      <th>AMT_ANNUITY</th>\n",
              "      <th>...</th>\n",
              "      <th>OCCUPATION_TYPE</th>\n",
              "      <th>CNT_FAM_MEMBERS</th>\n",
              "      <th>REG_REGION_NOT_LIVE_REGION</th>\n",
              "      <th>REG_REGION_NOT_WORK_REGION</th>\n",
              "      <th>LIVE_REGION_NOT_WORK_REGION</th>\n",
              "      <th>REG_CITY_NOT_LIVE_CITY</th>\n",
              "      <th>REG_CITY_NOT_WORK_CITY</th>\n",
              "      <th>LIVE_CITY_NOT_WORK_CITY</th>\n",
              "      <th>ORGANIZATION_TYPE</th>\n",
              "      <th>TARGET</th>\n",
              "    </tr>\n",
              "  </thead>\n",
              "  <tbody>\n",
              "    <tr>\n",
              "      <th>0</th>\n",
              "      <td>100002</td>\n",
              "      <td>NaN</td>\n",
              "      <td>Cash loans</td>\n",
              "      <td>M</td>\n",
              "      <td>N</td>\n",
              "      <td>Y</td>\n",
              "      <td>0</td>\n",
              "      <td>202500.0</td>\n",
              "      <td>406597.5</td>\n",
              "      <td>24700.5</td>\n",
              "      <td>...</td>\n",
              "      <td>Laborers</td>\n",
              "      <td>1.0</td>\n",
              "      <td>0</td>\n",
              "      <td>0</td>\n",
              "      <td>0</td>\n",
              "      <td>0</td>\n",
              "      <td>0</td>\n",
              "      <td>0</td>\n",
              "      <td>Business Entity Type 3</td>\n",
              "      <td>1</td>\n",
              "    </tr>\n",
              "    <tr>\n",
              "      <th>1</th>\n",
              "      <td>100003</td>\n",
              "      <td>NaN</td>\n",
              "      <td>Cash loans</td>\n",
              "      <td>F</td>\n",
              "      <td>N</td>\n",
              "      <td>N</td>\n",
              "      <td>0</td>\n",
              "      <td>270000.0</td>\n",
              "      <td>1293502.5</td>\n",
              "      <td>35698.5</td>\n",
              "      <td>...</td>\n",
              "      <td>Core staff</td>\n",
              "      <td>2.0</td>\n",
              "      <td>0</td>\n",
              "      <td>0</td>\n",
              "      <td>0</td>\n",
              "      <td>0</td>\n",
              "      <td>0</td>\n",
              "      <td>0</td>\n",
              "      <td>School</td>\n",
              "      <td>0</td>\n",
              "    </tr>\n",
              "    <tr>\n",
              "      <th>2</th>\n",
              "      <td>100004</td>\n",
              "      <td>NaN</td>\n",
              "      <td>Revolving loans</td>\n",
              "      <td>M</td>\n",
              "      <td>Y</td>\n",
              "      <td>Y</td>\n",
              "      <td>0</td>\n",
              "      <td>67500.0</td>\n",
              "      <td>135000.0</td>\n",
              "      <td>6750.0</td>\n",
              "      <td>...</td>\n",
              "      <td>Laborers</td>\n",
              "      <td>1.0</td>\n",
              "      <td>0</td>\n",
              "      <td>0</td>\n",
              "      <td>0</td>\n",
              "      <td>0</td>\n",
              "      <td>0</td>\n",
              "      <td>0</td>\n",
              "      <td>Government</td>\n",
              "      <td>0</td>\n",
              "    </tr>\n",
              "    <tr>\n",
              "      <th>3</th>\n",
              "      <td>100006</td>\n",
              "      <td>NaN</td>\n",
              "      <td>Cash loans</td>\n",
              "      <td>F</td>\n",
              "      <td>N</td>\n",
              "      <td>Y</td>\n",
              "      <td>0</td>\n",
              "      <td>135000.0</td>\n",
              "      <td>312682.5</td>\n",
              "      <td>29686.5</td>\n",
              "      <td>...</td>\n",
              "      <td>Laborers</td>\n",
              "      <td>2.0</td>\n",
              "      <td>0</td>\n",
              "      <td>0</td>\n",
              "      <td>0</td>\n",
              "      <td>0</td>\n",
              "      <td>0</td>\n",
              "      <td>0</td>\n",
              "      <td>Business Entity Type 3</td>\n",
              "      <td>0</td>\n",
              "    </tr>\n",
              "    <tr>\n",
              "      <th>4</th>\n",
              "      <td>100007</td>\n",
              "      <td>NaN</td>\n",
              "      <td>Cash loans</td>\n",
              "      <td>M</td>\n",
              "      <td>N</td>\n",
              "      <td>Y</td>\n",
              "      <td>0</td>\n",
              "      <td>121500.0</td>\n",
              "      <td>513000.0</td>\n",
              "      <td>21865.5</td>\n",
              "      <td>...</td>\n",
              "      <td>Core staff</td>\n",
              "      <td>1.0</td>\n",
              "      <td>0</td>\n",
              "      <td>0</td>\n",
              "      <td>0</td>\n",
              "      <td>0</td>\n",
              "      <td>1</td>\n",
              "      <td>1</td>\n",
              "      <td>Religion</td>\n",
              "      <td>0</td>\n",
              "    </tr>\n",
              "  </tbody>\n",
              "</table>\n",
              "<p>5 rows × 37 columns</p>\n",
              "</div>\n",
              "    <div class=\"colab-df-buttons\">\n",
              "\n",
              "  <div class=\"colab-df-container\">\n",
              "    <button class=\"colab-df-convert\" onclick=\"convertToInteractive('df-49b8f474-e24f-4cd3-abd4-e2c5c372052a')\"\n",
              "            title=\"Convert this dataframe to an interactive table.\"\n",
              "            style=\"display:none;\">\n",
              "\n",
              "  <svg xmlns=\"http://www.w3.org/2000/svg\" height=\"24px\" viewBox=\"0 -960 960 960\">\n",
              "    <path d=\"M120-120v-720h720v720H120Zm60-500h600v-160H180v160Zm220 220h160v-160H400v160Zm0 220h160v-160H400v160ZM180-400h160v-160H180v160Zm440 0h160v-160H620v160ZM180-180h160v-160H180v160Zm440 0h160v-160H620v160Z\"/>\n",
              "  </svg>\n",
              "    </button>\n",
              "\n",
              "  <style>\n",
              "    .colab-df-container {\n",
              "      display:flex;\n",
              "      gap: 12px;\n",
              "    }\n",
              "\n",
              "    .colab-df-convert {\n",
              "      background-color: #E8F0FE;\n",
              "      border: none;\n",
              "      border-radius: 50%;\n",
              "      cursor: pointer;\n",
              "      display: none;\n",
              "      fill: #1967D2;\n",
              "      height: 32px;\n",
              "      padding: 0 0 0 0;\n",
              "      width: 32px;\n",
              "    }\n",
              "\n",
              "    .colab-df-convert:hover {\n",
              "      background-color: #E2EBFA;\n",
              "      box-shadow: 0px 1px 2px rgba(60, 64, 67, 0.3), 0px 1px 3px 1px rgba(60, 64, 67, 0.15);\n",
              "      fill: #174EA6;\n",
              "    }\n",
              "\n",
              "    .colab-df-buttons div {\n",
              "      margin-bottom: 4px;\n",
              "    }\n",
              "\n",
              "    [theme=dark] .colab-df-convert {\n",
              "      background-color: #3B4455;\n",
              "      fill: #D2E3FC;\n",
              "    }\n",
              "\n",
              "    [theme=dark] .colab-df-convert:hover {\n",
              "      background-color: #434B5C;\n",
              "      box-shadow: 0px 1px 3px 1px rgba(0, 0, 0, 0.15);\n",
              "      filter: drop-shadow(0px 1px 2px rgba(0, 0, 0, 0.3));\n",
              "      fill: #FFFFFF;\n",
              "    }\n",
              "  </style>\n",
              "\n",
              "    <script>\n",
              "      const buttonEl =\n",
              "        document.querySelector('#df-49b8f474-e24f-4cd3-abd4-e2c5c372052a button.colab-df-convert');\n",
              "      buttonEl.style.display =\n",
              "        google.colab.kernel.accessAllowed ? 'block' : 'none';\n",
              "\n",
              "      async function convertToInteractive(key) {\n",
              "        const element = document.querySelector('#df-49b8f474-e24f-4cd3-abd4-e2c5c372052a');\n",
              "        const dataTable =\n",
              "          await google.colab.kernel.invokeFunction('convertToInteractive',\n",
              "                                                    [key], {});\n",
              "        if (!dataTable) return;\n",
              "\n",
              "        const docLinkHtml = 'Like what you see? Visit the ' +\n",
              "          '<a target=\"_blank\" href=https://colab.research.google.com/notebooks/data_table.ipynb>data table notebook</a>'\n",
              "          + ' to learn more about interactive tables.';\n",
              "        element.innerHTML = '';\n",
              "        dataTable['output_type'] = 'display_data';\n",
              "        await google.colab.output.renderOutput(dataTable, element);\n",
              "        const docLink = document.createElement('div');\n",
              "        docLink.innerHTML = docLinkHtml;\n",
              "        element.appendChild(docLink);\n",
              "      }\n",
              "    </script>\n",
              "  </div>\n",
              "\n",
              "\n",
              "    <div id=\"df-a2460e09-9869-464f-a0a9-12c502144348\">\n",
              "      <button class=\"colab-df-quickchart\" onclick=\"quickchart('df-a2460e09-9869-464f-a0a9-12c502144348')\"\n",
              "                title=\"Suggest charts\"\n",
              "                style=\"display:none;\">\n",
              "\n",
              "<svg xmlns=\"http://www.w3.org/2000/svg\" height=\"24px\"viewBox=\"0 0 24 24\"\n",
              "     width=\"24px\">\n",
              "    <g>\n",
              "        <path d=\"M19 3H5c-1.1 0-2 .9-2 2v14c0 1.1.9 2 2 2h14c1.1 0 2-.9 2-2V5c0-1.1-.9-2-2-2zM9 17H7v-7h2v7zm4 0h-2V7h2v10zm4 0h-2v-4h2v4z\"/>\n",
              "    </g>\n",
              "</svg>\n",
              "      </button>\n",
              "\n",
              "<style>\n",
              "  .colab-df-quickchart {\n",
              "      --bg-color: #E8F0FE;\n",
              "      --fill-color: #1967D2;\n",
              "      --hover-bg-color: #E2EBFA;\n",
              "      --hover-fill-color: #174EA6;\n",
              "      --disabled-fill-color: #AAA;\n",
              "      --disabled-bg-color: #DDD;\n",
              "  }\n",
              "\n",
              "  [theme=dark] .colab-df-quickchart {\n",
              "      --bg-color: #3B4455;\n",
              "      --fill-color: #D2E3FC;\n",
              "      --hover-bg-color: #434B5C;\n",
              "      --hover-fill-color: #FFFFFF;\n",
              "      --disabled-bg-color: #3B4455;\n",
              "      --disabled-fill-color: #666;\n",
              "  }\n",
              "\n",
              "  .colab-df-quickchart {\n",
              "    background-color: var(--bg-color);\n",
              "    border: none;\n",
              "    border-radius: 50%;\n",
              "    cursor: pointer;\n",
              "    display: none;\n",
              "    fill: var(--fill-color);\n",
              "    height: 32px;\n",
              "    padding: 0;\n",
              "    width: 32px;\n",
              "  }\n",
              "\n",
              "  .colab-df-quickchart:hover {\n",
              "    background-color: var(--hover-bg-color);\n",
              "    box-shadow: 0 1px 2px rgba(60, 64, 67, 0.3), 0 1px 3px 1px rgba(60, 64, 67, 0.15);\n",
              "    fill: var(--button-hover-fill-color);\n",
              "  }\n",
              "\n",
              "  .colab-df-quickchart-complete:disabled,\n",
              "  .colab-df-quickchart-complete:disabled:hover {\n",
              "    background-color: var(--disabled-bg-color);\n",
              "    fill: var(--disabled-fill-color);\n",
              "    box-shadow: none;\n",
              "  }\n",
              "\n",
              "  .colab-df-spinner {\n",
              "    border: 2px solid var(--fill-color);\n",
              "    border-color: transparent;\n",
              "    border-bottom-color: var(--fill-color);\n",
              "    animation:\n",
              "      spin 1s steps(1) infinite;\n",
              "  }\n",
              "\n",
              "  @keyframes spin {\n",
              "    0% {\n",
              "      border-color: transparent;\n",
              "      border-bottom-color: var(--fill-color);\n",
              "      border-left-color: var(--fill-color);\n",
              "    }\n",
              "    20% {\n",
              "      border-color: transparent;\n",
              "      border-left-color: var(--fill-color);\n",
              "      border-top-color: var(--fill-color);\n",
              "    }\n",
              "    30% {\n",
              "      border-color: transparent;\n",
              "      border-left-color: var(--fill-color);\n",
              "      border-top-color: var(--fill-color);\n",
              "      border-right-color: var(--fill-color);\n",
              "    }\n",
              "    40% {\n",
              "      border-color: transparent;\n",
              "      border-right-color: var(--fill-color);\n",
              "      border-top-color: var(--fill-color);\n",
              "    }\n",
              "    60% {\n",
              "      border-color: transparent;\n",
              "      border-right-color: var(--fill-color);\n",
              "    }\n",
              "    80% {\n",
              "      border-color: transparent;\n",
              "      border-right-color: var(--fill-color);\n",
              "      border-bottom-color: var(--fill-color);\n",
              "    }\n",
              "    90% {\n",
              "      border-color: transparent;\n",
              "      border-bottom-color: var(--fill-color);\n",
              "    }\n",
              "  }\n",
              "</style>\n",
              "\n",
              "      <script>\n",
              "        async function quickchart(key) {\n",
              "          const quickchartButtonEl =\n",
              "            document.querySelector('#' + key + ' button');\n",
              "          quickchartButtonEl.disabled = true;  // To prevent multiple clicks.\n",
              "          quickchartButtonEl.classList.add('colab-df-spinner');\n",
              "          try {\n",
              "            const charts = await google.colab.kernel.invokeFunction(\n",
              "                'suggestCharts', [key], {});\n",
              "          } catch (error) {\n",
              "            console.error('Error during call to suggestCharts:', error);\n",
              "          }\n",
              "          quickchartButtonEl.classList.remove('colab-df-spinner');\n",
              "          quickchartButtonEl.classList.add('colab-df-quickchart-complete');\n",
              "        }\n",
              "        (() => {\n",
              "          let quickchartButtonEl =\n",
              "            document.querySelector('#df-a2460e09-9869-464f-a0a9-12c502144348 button');\n",
              "          quickchartButtonEl.style.display =\n",
              "            google.colab.kernel.accessAllowed ? 'block' : 'none';\n",
              "        })();\n",
              "      </script>\n",
              "    </div>\n",
              "\n",
              "    </div>\n",
              "  </div>\n"
            ],
            "application/vnd.google.colaboratory.intrinsic+json": {
              "type": "dataframe",
              "variable_name": "df"
            }
          },
          "metadata": {},
          "execution_count": 6
        }
      ],
      "source": [
        "df.head()"
      ]
    },
    {
      "cell_type": "code",
      "execution_count": null,
      "metadata": {
        "id": "rRJG42_IDwyw"
      },
      "outputs": [],
      "source": [
        "df.drop(columns=['SK_ID_CURR', 'Unnamed: 1'], axis=1, inplace=True)"
      ]
    },
    {
      "cell_type": "code",
      "execution_count": null,
      "metadata": {
        "id": "zCymtxOvDwyw"
      },
      "outputs": [],
      "source": [
        "#del df['SK_ID_CURR']\n",
        "#or also can use:\n",
        "#df = df.drop(columns = ['SK_ID_CURR'])"
      ]
    },
    {
      "cell_type": "code",
      "execution_count": null,
      "metadata": {
        "id": "uNJ40CqDDwyw"
      },
      "outputs": [],
      "source": [
        "#Delete the empty column\n",
        "#df.drop(df.columns[0], axis=1, inplace=True)\n",
        "#df.drop(df.columns[0], axis=1, inplace=True)"
      ]
    },
    {
      "cell_type": "code",
      "execution_count": null,
      "metadata": {
        "id": "pOXQPA_VDwyx",
        "outputId": "1bb9128a-ae2d-4267-ed31-aa011953935d",
        "colab": {
          "base_uri": "https://localhost:8080/",
          "height": 256
        }
      },
      "outputs": [
        {
          "output_type": "execute_result",
          "data": {
            "text/plain": [
              "  NAME_CONTRACT_TYPE CODE_GENDER FLAG_OWN_CAR FLAG_OWN_REALTY  CNT_CHILDREN  \\\n",
              "0         Cash loans           M            N               Y             0   \n",
              "1         Cash loans           F            N               N             0   \n",
              "2    Revolving loans           M            Y               Y             0   \n",
              "3         Cash loans           F            N               Y             0   \n",
              "4         Cash loans           M            N               Y             0   \n",
              "\n",
              "   AMT_INCOME_TOTAL  AMT_CREDIT  AMT_ANNUITY  AMT_GOODS_PRICE NAME_TYPE_SUITE  \\\n",
              "0          202500.0    406597.5      24700.5         351000.0   Unaccompanied   \n",
              "1          270000.0   1293502.5      35698.5        1129500.0          Family   \n",
              "2           67500.0    135000.0       6750.0         135000.0   Unaccompanied   \n",
              "3          135000.0    312682.5      29686.5         297000.0   Unaccompanied   \n",
              "4          121500.0    513000.0      21865.5         513000.0   Unaccompanied   \n",
              "\n",
              "   ... OCCUPATION_TYPE CNT_FAM_MEMBERS REG_REGION_NOT_LIVE_REGION  \\\n",
              "0  ...        Laborers             1.0                          0   \n",
              "1  ...      Core staff             2.0                          0   \n",
              "2  ...        Laborers             1.0                          0   \n",
              "3  ...        Laborers             2.0                          0   \n",
              "4  ...      Core staff             1.0                          0   \n",
              "\n",
              "  REG_REGION_NOT_WORK_REGION  LIVE_REGION_NOT_WORK_REGION  \\\n",
              "0                          0                            0   \n",
              "1                          0                            0   \n",
              "2                          0                            0   \n",
              "3                          0                            0   \n",
              "4                          0                            0   \n",
              "\n",
              "   REG_CITY_NOT_LIVE_CITY  REG_CITY_NOT_WORK_CITY  LIVE_CITY_NOT_WORK_CITY  \\\n",
              "0                       0                       0                        0   \n",
              "1                       0                       0                        0   \n",
              "2                       0                       0                        0   \n",
              "3                       0                       0                        0   \n",
              "4                       0                       1                        1   \n",
              "\n",
              "        ORGANIZATION_TYPE  TARGET  \n",
              "0  Business Entity Type 3       1  \n",
              "1                  School       0  \n",
              "2              Government       0  \n",
              "3  Business Entity Type 3       0  \n",
              "4                Religion       0  \n",
              "\n",
              "[5 rows x 35 columns]"
            ],
            "text/html": [
              "\n",
              "  <div id=\"df-065f23f7-3443-459e-b85d-c70636bba9f3\" class=\"colab-df-container\">\n",
              "    <div>\n",
              "<style scoped>\n",
              "    .dataframe tbody tr th:only-of-type {\n",
              "        vertical-align: middle;\n",
              "    }\n",
              "\n",
              "    .dataframe tbody tr th {\n",
              "        vertical-align: top;\n",
              "    }\n",
              "\n",
              "    .dataframe thead th {\n",
              "        text-align: right;\n",
              "    }\n",
              "</style>\n",
              "<table border=\"1\" class=\"dataframe\">\n",
              "  <thead>\n",
              "    <tr style=\"text-align: right;\">\n",
              "      <th></th>\n",
              "      <th>NAME_CONTRACT_TYPE</th>\n",
              "      <th>CODE_GENDER</th>\n",
              "      <th>FLAG_OWN_CAR</th>\n",
              "      <th>FLAG_OWN_REALTY</th>\n",
              "      <th>CNT_CHILDREN</th>\n",
              "      <th>AMT_INCOME_TOTAL</th>\n",
              "      <th>AMT_CREDIT</th>\n",
              "      <th>AMT_ANNUITY</th>\n",
              "      <th>AMT_GOODS_PRICE</th>\n",
              "      <th>NAME_TYPE_SUITE</th>\n",
              "      <th>...</th>\n",
              "      <th>OCCUPATION_TYPE</th>\n",
              "      <th>CNT_FAM_MEMBERS</th>\n",
              "      <th>REG_REGION_NOT_LIVE_REGION</th>\n",
              "      <th>REG_REGION_NOT_WORK_REGION</th>\n",
              "      <th>LIVE_REGION_NOT_WORK_REGION</th>\n",
              "      <th>REG_CITY_NOT_LIVE_CITY</th>\n",
              "      <th>REG_CITY_NOT_WORK_CITY</th>\n",
              "      <th>LIVE_CITY_NOT_WORK_CITY</th>\n",
              "      <th>ORGANIZATION_TYPE</th>\n",
              "      <th>TARGET</th>\n",
              "    </tr>\n",
              "  </thead>\n",
              "  <tbody>\n",
              "    <tr>\n",
              "      <th>0</th>\n",
              "      <td>Cash loans</td>\n",
              "      <td>M</td>\n",
              "      <td>N</td>\n",
              "      <td>Y</td>\n",
              "      <td>0</td>\n",
              "      <td>202500.0</td>\n",
              "      <td>406597.5</td>\n",
              "      <td>24700.5</td>\n",
              "      <td>351000.0</td>\n",
              "      <td>Unaccompanied</td>\n",
              "      <td>...</td>\n",
              "      <td>Laborers</td>\n",
              "      <td>1.0</td>\n",
              "      <td>0</td>\n",
              "      <td>0</td>\n",
              "      <td>0</td>\n",
              "      <td>0</td>\n",
              "      <td>0</td>\n",
              "      <td>0</td>\n",
              "      <td>Business Entity Type 3</td>\n",
              "      <td>1</td>\n",
              "    </tr>\n",
              "    <tr>\n",
              "      <th>1</th>\n",
              "      <td>Cash loans</td>\n",
              "      <td>F</td>\n",
              "      <td>N</td>\n",
              "      <td>N</td>\n",
              "      <td>0</td>\n",
              "      <td>270000.0</td>\n",
              "      <td>1293502.5</td>\n",
              "      <td>35698.5</td>\n",
              "      <td>1129500.0</td>\n",
              "      <td>Family</td>\n",
              "      <td>...</td>\n",
              "      <td>Core staff</td>\n",
              "      <td>2.0</td>\n",
              "      <td>0</td>\n",
              "      <td>0</td>\n",
              "      <td>0</td>\n",
              "      <td>0</td>\n",
              "      <td>0</td>\n",
              "      <td>0</td>\n",
              "      <td>School</td>\n",
              "      <td>0</td>\n",
              "    </tr>\n",
              "    <tr>\n",
              "      <th>2</th>\n",
              "      <td>Revolving loans</td>\n",
              "      <td>M</td>\n",
              "      <td>Y</td>\n",
              "      <td>Y</td>\n",
              "      <td>0</td>\n",
              "      <td>67500.0</td>\n",
              "      <td>135000.0</td>\n",
              "      <td>6750.0</td>\n",
              "      <td>135000.0</td>\n",
              "      <td>Unaccompanied</td>\n",
              "      <td>...</td>\n",
              "      <td>Laborers</td>\n",
              "      <td>1.0</td>\n",
              "      <td>0</td>\n",
              "      <td>0</td>\n",
              "      <td>0</td>\n",
              "      <td>0</td>\n",
              "      <td>0</td>\n",
              "      <td>0</td>\n",
              "      <td>Government</td>\n",
              "      <td>0</td>\n",
              "    </tr>\n",
              "    <tr>\n",
              "      <th>3</th>\n",
              "      <td>Cash loans</td>\n",
              "      <td>F</td>\n",
              "      <td>N</td>\n",
              "      <td>Y</td>\n",
              "      <td>0</td>\n",
              "      <td>135000.0</td>\n",
              "      <td>312682.5</td>\n",
              "      <td>29686.5</td>\n",
              "      <td>297000.0</td>\n",
              "      <td>Unaccompanied</td>\n",
              "      <td>...</td>\n",
              "      <td>Laborers</td>\n",
              "      <td>2.0</td>\n",
              "      <td>0</td>\n",
              "      <td>0</td>\n",
              "      <td>0</td>\n",
              "      <td>0</td>\n",
              "      <td>0</td>\n",
              "      <td>0</td>\n",
              "      <td>Business Entity Type 3</td>\n",
              "      <td>0</td>\n",
              "    </tr>\n",
              "    <tr>\n",
              "      <th>4</th>\n",
              "      <td>Cash loans</td>\n",
              "      <td>M</td>\n",
              "      <td>N</td>\n",
              "      <td>Y</td>\n",
              "      <td>0</td>\n",
              "      <td>121500.0</td>\n",
              "      <td>513000.0</td>\n",
              "      <td>21865.5</td>\n",
              "      <td>513000.0</td>\n",
              "      <td>Unaccompanied</td>\n",
              "      <td>...</td>\n",
              "      <td>Core staff</td>\n",
              "      <td>1.0</td>\n",
              "      <td>0</td>\n",
              "      <td>0</td>\n",
              "      <td>0</td>\n",
              "      <td>0</td>\n",
              "      <td>1</td>\n",
              "      <td>1</td>\n",
              "      <td>Religion</td>\n",
              "      <td>0</td>\n",
              "    </tr>\n",
              "  </tbody>\n",
              "</table>\n",
              "<p>5 rows × 35 columns</p>\n",
              "</div>\n",
              "    <div class=\"colab-df-buttons\">\n",
              "\n",
              "  <div class=\"colab-df-container\">\n",
              "    <button class=\"colab-df-convert\" onclick=\"convertToInteractive('df-065f23f7-3443-459e-b85d-c70636bba9f3')\"\n",
              "            title=\"Convert this dataframe to an interactive table.\"\n",
              "            style=\"display:none;\">\n",
              "\n",
              "  <svg xmlns=\"http://www.w3.org/2000/svg\" height=\"24px\" viewBox=\"0 -960 960 960\">\n",
              "    <path d=\"M120-120v-720h720v720H120Zm60-500h600v-160H180v160Zm220 220h160v-160H400v160Zm0 220h160v-160H400v160ZM180-400h160v-160H180v160Zm440 0h160v-160H620v160ZM180-180h160v-160H180v160Zm440 0h160v-160H620v160Z\"/>\n",
              "  </svg>\n",
              "    </button>\n",
              "\n",
              "  <style>\n",
              "    .colab-df-container {\n",
              "      display:flex;\n",
              "      gap: 12px;\n",
              "    }\n",
              "\n",
              "    .colab-df-convert {\n",
              "      background-color: #E8F0FE;\n",
              "      border: none;\n",
              "      border-radius: 50%;\n",
              "      cursor: pointer;\n",
              "      display: none;\n",
              "      fill: #1967D2;\n",
              "      height: 32px;\n",
              "      padding: 0 0 0 0;\n",
              "      width: 32px;\n",
              "    }\n",
              "\n",
              "    .colab-df-convert:hover {\n",
              "      background-color: #E2EBFA;\n",
              "      box-shadow: 0px 1px 2px rgba(60, 64, 67, 0.3), 0px 1px 3px 1px rgba(60, 64, 67, 0.15);\n",
              "      fill: #174EA6;\n",
              "    }\n",
              "\n",
              "    .colab-df-buttons div {\n",
              "      margin-bottom: 4px;\n",
              "    }\n",
              "\n",
              "    [theme=dark] .colab-df-convert {\n",
              "      background-color: #3B4455;\n",
              "      fill: #D2E3FC;\n",
              "    }\n",
              "\n",
              "    [theme=dark] .colab-df-convert:hover {\n",
              "      background-color: #434B5C;\n",
              "      box-shadow: 0px 1px 3px 1px rgba(0, 0, 0, 0.15);\n",
              "      filter: drop-shadow(0px 1px 2px rgba(0, 0, 0, 0.3));\n",
              "      fill: #FFFFFF;\n",
              "    }\n",
              "  </style>\n",
              "\n",
              "    <script>\n",
              "      const buttonEl =\n",
              "        document.querySelector('#df-065f23f7-3443-459e-b85d-c70636bba9f3 button.colab-df-convert');\n",
              "      buttonEl.style.display =\n",
              "        google.colab.kernel.accessAllowed ? 'block' : 'none';\n",
              "\n",
              "      async function convertToInteractive(key) {\n",
              "        const element = document.querySelector('#df-065f23f7-3443-459e-b85d-c70636bba9f3');\n",
              "        const dataTable =\n",
              "          await google.colab.kernel.invokeFunction('convertToInteractive',\n",
              "                                                    [key], {});\n",
              "        if (!dataTable) return;\n",
              "\n",
              "        const docLinkHtml = 'Like what you see? Visit the ' +\n",
              "          '<a target=\"_blank\" href=https://colab.research.google.com/notebooks/data_table.ipynb>data table notebook</a>'\n",
              "          + ' to learn more about interactive tables.';\n",
              "        element.innerHTML = '';\n",
              "        dataTable['output_type'] = 'display_data';\n",
              "        await google.colab.output.renderOutput(dataTable, element);\n",
              "        const docLink = document.createElement('div');\n",
              "        docLink.innerHTML = docLinkHtml;\n",
              "        element.appendChild(docLink);\n",
              "      }\n",
              "    </script>\n",
              "  </div>\n",
              "\n",
              "\n",
              "    <div id=\"df-422b65c1-5c5f-4db8-9fd9-91d544a9a4a1\">\n",
              "      <button class=\"colab-df-quickchart\" onclick=\"quickchart('df-422b65c1-5c5f-4db8-9fd9-91d544a9a4a1')\"\n",
              "                title=\"Suggest charts\"\n",
              "                style=\"display:none;\">\n",
              "\n",
              "<svg xmlns=\"http://www.w3.org/2000/svg\" height=\"24px\"viewBox=\"0 0 24 24\"\n",
              "     width=\"24px\">\n",
              "    <g>\n",
              "        <path d=\"M19 3H5c-1.1 0-2 .9-2 2v14c0 1.1.9 2 2 2h14c1.1 0 2-.9 2-2V5c0-1.1-.9-2-2-2zM9 17H7v-7h2v7zm4 0h-2V7h2v10zm4 0h-2v-4h2v4z\"/>\n",
              "    </g>\n",
              "</svg>\n",
              "      </button>\n",
              "\n",
              "<style>\n",
              "  .colab-df-quickchart {\n",
              "      --bg-color: #E8F0FE;\n",
              "      --fill-color: #1967D2;\n",
              "      --hover-bg-color: #E2EBFA;\n",
              "      --hover-fill-color: #174EA6;\n",
              "      --disabled-fill-color: #AAA;\n",
              "      --disabled-bg-color: #DDD;\n",
              "  }\n",
              "\n",
              "  [theme=dark] .colab-df-quickchart {\n",
              "      --bg-color: #3B4455;\n",
              "      --fill-color: #D2E3FC;\n",
              "      --hover-bg-color: #434B5C;\n",
              "      --hover-fill-color: #FFFFFF;\n",
              "      --disabled-bg-color: #3B4455;\n",
              "      --disabled-fill-color: #666;\n",
              "  }\n",
              "\n",
              "  .colab-df-quickchart {\n",
              "    background-color: var(--bg-color);\n",
              "    border: none;\n",
              "    border-radius: 50%;\n",
              "    cursor: pointer;\n",
              "    display: none;\n",
              "    fill: var(--fill-color);\n",
              "    height: 32px;\n",
              "    padding: 0;\n",
              "    width: 32px;\n",
              "  }\n",
              "\n",
              "  .colab-df-quickchart:hover {\n",
              "    background-color: var(--hover-bg-color);\n",
              "    box-shadow: 0 1px 2px rgba(60, 64, 67, 0.3), 0 1px 3px 1px rgba(60, 64, 67, 0.15);\n",
              "    fill: var(--button-hover-fill-color);\n",
              "  }\n",
              "\n",
              "  .colab-df-quickchart-complete:disabled,\n",
              "  .colab-df-quickchart-complete:disabled:hover {\n",
              "    background-color: var(--disabled-bg-color);\n",
              "    fill: var(--disabled-fill-color);\n",
              "    box-shadow: none;\n",
              "  }\n",
              "\n",
              "  .colab-df-spinner {\n",
              "    border: 2px solid var(--fill-color);\n",
              "    border-color: transparent;\n",
              "    border-bottom-color: var(--fill-color);\n",
              "    animation:\n",
              "      spin 1s steps(1) infinite;\n",
              "  }\n",
              "\n",
              "  @keyframes spin {\n",
              "    0% {\n",
              "      border-color: transparent;\n",
              "      border-bottom-color: var(--fill-color);\n",
              "      border-left-color: var(--fill-color);\n",
              "    }\n",
              "    20% {\n",
              "      border-color: transparent;\n",
              "      border-left-color: var(--fill-color);\n",
              "      border-top-color: var(--fill-color);\n",
              "    }\n",
              "    30% {\n",
              "      border-color: transparent;\n",
              "      border-left-color: var(--fill-color);\n",
              "      border-top-color: var(--fill-color);\n",
              "      border-right-color: var(--fill-color);\n",
              "    }\n",
              "    40% {\n",
              "      border-color: transparent;\n",
              "      border-right-color: var(--fill-color);\n",
              "      border-top-color: var(--fill-color);\n",
              "    }\n",
              "    60% {\n",
              "      border-color: transparent;\n",
              "      border-right-color: var(--fill-color);\n",
              "    }\n",
              "    80% {\n",
              "      border-color: transparent;\n",
              "      border-right-color: var(--fill-color);\n",
              "      border-bottom-color: var(--fill-color);\n",
              "    }\n",
              "    90% {\n",
              "      border-color: transparent;\n",
              "      border-bottom-color: var(--fill-color);\n",
              "    }\n",
              "  }\n",
              "</style>\n",
              "\n",
              "      <script>\n",
              "        async function quickchart(key) {\n",
              "          const quickchartButtonEl =\n",
              "            document.querySelector('#' + key + ' button');\n",
              "          quickchartButtonEl.disabled = true;  // To prevent multiple clicks.\n",
              "          quickchartButtonEl.classList.add('colab-df-spinner');\n",
              "          try {\n",
              "            const charts = await google.colab.kernel.invokeFunction(\n",
              "                'suggestCharts', [key], {});\n",
              "          } catch (error) {\n",
              "            console.error('Error during call to suggestCharts:', error);\n",
              "          }\n",
              "          quickchartButtonEl.classList.remove('colab-df-spinner');\n",
              "          quickchartButtonEl.classList.add('colab-df-quickchart-complete');\n",
              "        }\n",
              "        (() => {\n",
              "          let quickchartButtonEl =\n",
              "            document.querySelector('#df-422b65c1-5c5f-4db8-9fd9-91d544a9a4a1 button');\n",
              "          quickchartButtonEl.style.display =\n",
              "            google.colab.kernel.accessAllowed ? 'block' : 'none';\n",
              "        })();\n",
              "      </script>\n",
              "    </div>\n",
              "\n",
              "    </div>\n",
              "  </div>\n"
            ],
            "application/vnd.google.colaboratory.intrinsic+json": {
              "type": "dataframe",
              "variable_name": "df"
            }
          },
          "metadata": {},
          "execution_count": 10
        }
      ],
      "source": [
        "df.head()"
      ]
    },
    {
      "cell_type": "code",
      "execution_count": null,
      "metadata": {
        "id": "D3SkQY1qDwyx",
        "outputId": "29572fc9-3de0-489c-a208-9f1fc5ec94dc",
        "colab": {
          "base_uri": "https://localhost:8080/"
        }
      },
      "outputs": [
        {
          "output_type": "execute_result",
          "data": {
            "text/plain": [
              "array(['Cash loans', 'Revolving loans'], dtype=object)"
            ]
          },
          "metadata": {},
          "execution_count": 11
        }
      ],
      "source": [
        "df['NAME_CONTRACT_TYPE'].unique()"
      ]
    },
    {
      "cell_type": "code",
      "execution_count": null,
      "metadata": {
        "id": "XcdvO0GUDwyy"
      },
      "outputs": [],
      "source": [
        "# 1. Cleanse\n",
        "# Two strategies:\n",
        "# 1. Drop the column entirely if it's not helpful data\n",
        "# 2. Fill the null data with a descriptive statistic (mean, median, mode)"
      ]
    },
    {
      "cell_type": "code",
      "execution_count": null,
      "metadata": {
        "id": "xeIBkDdHDwyy",
        "outputId": "de1390ac-5206-4c81-9cee-c879982cea86",
        "colab": {
          "base_uri": "https://localhost:8080/"
        }
      },
      "outputs": [
        {
          "output_type": "stream",
          "name": "stdout",
          "text": [
            "<class 'pandas.core.frame.DataFrame'>\n",
            "RangeIndex: 307511 entries, 0 to 307510\n",
            "Data columns (total 35 columns):\n",
            " #   Column                       Non-Null Count   Dtype  \n",
            "---  ------                       --------------   -----  \n",
            " 0   NAME_CONTRACT_TYPE           307511 non-null  object \n",
            " 1   CODE_GENDER                  307511 non-null  object \n",
            " 2   FLAG_OWN_CAR                 307511 non-null  object \n",
            " 3   FLAG_OWN_REALTY              307511 non-null  object \n",
            " 4   CNT_CHILDREN                 307511 non-null  int64  \n",
            " 5   AMT_INCOME_TOTAL             307511 non-null  float64\n",
            " 6   AMT_CREDIT                   307511 non-null  float64\n",
            " 7   AMT_ANNUITY                  307499 non-null  float64\n",
            " 8   AMT_GOODS_PRICE              307233 non-null  float64\n",
            " 9   NAME_TYPE_SUITE              306219 non-null  object \n",
            " 10  NAME_INCOME_TYPE             307511 non-null  object \n",
            " 11  NAME_EDUCATION_TYPE          307511 non-null  object \n",
            " 12  NAME_FAMILY_STATUS           307511 non-null  object \n",
            " 13  NAME_HOUSING_TYPE            307511 non-null  object \n",
            " 14  DAYS_BIRTH                   307511 non-null  int64  \n",
            " 15  DAYS_EMPLOYED                307511 non-null  int64  \n",
            " 16  DAYS_REGISTRATION            307511 non-null  float64\n",
            " 17  DAYS_ID_PUBLISH              307511 non-null  int64  \n",
            " 18  OWN_CAR_AGE                  104582 non-null  float64\n",
            " 19  FLAG_MOBIL                   307511 non-null  int64  \n",
            " 20  FLAG_EMP_PHONE               307511 non-null  int64  \n",
            " 21  FLAG_WORK_PHONE              307511 non-null  int64  \n",
            " 22  FLAG_CONT_MOBILE             307511 non-null  int64  \n",
            " 23  FLAG_PHONE                   307511 non-null  int64  \n",
            " 24  FLAG_EMAIL                   307511 non-null  int64  \n",
            " 25  OCCUPATION_TYPE              211120 non-null  object \n",
            " 26  CNT_FAM_MEMBERS              307509 non-null  float64\n",
            " 27  REG_REGION_NOT_LIVE_REGION   307511 non-null  int64  \n",
            " 28  REG_REGION_NOT_WORK_REGION   307511 non-null  int64  \n",
            " 29  LIVE_REGION_NOT_WORK_REGION  307511 non-null  int64  \n",
            " 30  REG_CITY_NOT_LIVE_CITY       307511 non-null  int64  \n",
            " 31  REG_CITY_NOT_WORK_CITY       307511 non-null  int64  \n",
            " 32  LIVE_CITY_NOT_WORK_CITY      307511 non-null  int64  \n",
            " 33  ORGANIZATION_TYPE            307511 non-null  object \n",
            " 34  TARGET                       307511 non-null  int64  \n",
            "dtypes: float64(7), int64(17), object(11)\n",
            "memory usage: 82.1+ MB\n"
          ]
        }
      ],
      "source": [
        "df.info()\n",
        "#df.info()\n",
        "#We see that the following six columns have null data:\n",
        "#AMT_ANNUITY (index 7), AMT_GOODS_PRICE (index 8), NAME_TYPE_SUITE (index 9), OWN_CAR_AGE (index 18),\n",
        "#OCCUPATION_TYPE (index 25), CNT_FAM_MEMBERS (index 26)\n",
        "#Note: These indices refer to the latest dataframe where two columns have been dropped."
      ]
    },
    {
      "cell_type": "code",
      "execution_count": null,
      "metadata": {
        "id": "qaJnLfTtDwyy",
        "outputId": "9a21a1d7-e491-462b-c622-dce866a754e9",
        "colab": {
          "base_uri": "https://localhost:8080/"
        }
      },
      "outputs": [
        {
          "output_type": "execute_result",
          "data": {
            "text/plain": [
              "24903.0"
            ]
          },
          "metadata": {},
          "execution_count": 14
        }
      ],
      "source": [
        "#a. AMT_ANNUITY; Description: Loan Annuity\n",
        "#Strategy: Fill the null data with the median value.\n",
        "#I decided to choose this strategy because the AMT_ANNUITY column provides important information about\n",
        "#how much each person is paying.\n",
        "med1 = df['AMT_ANNUITY'].median()\n",
        "med1\n",
        "#Median: $24903\n",
        "#med1 = df['AMT_ANNUITY'].median()\n",
        "#med1"
      ]
    },
    {
      "cell_type": "code",
      "execution_count": null,
      "metadata": {
        "id": "6M8qLGF7Dwyy",
        "outputId": "83a0b392-c451-4347-8703-560d9f97edbb",
        "colab": {
          "base_uri": "https://localhost:8080/"
        }
      },
      "outputs": [
        {
          "output_type": "stream",
          "name": "stderr",
          "text": [
            "/tmp/ipython-input-15-3648668441.py:1: FutureWarning: A value is trying to be set on a copy of a DataFrame or Series through chained assignment using an inplace method.\n",
            "The behavior will change in pandas 3.0. This inplace method will never work because the intermediate object on which we are setting values always behaves as a copy.\n",
            "\n",
            "For example, when doing 'df[col].method(value, inplace=True)', try using 'df.method({col: value}, inplace=True)' or df[col] = df[col].method(value) instead, to perform the operation inplace on the original object.\n",
            "\n",
            "\n",
            "  df['AMT_ANNUITY'].fillna(med1, inplace=True)\n"
          ]
        },
        {
          "output_type": "stream",
          "name": "stdout",
          "text": [
            "<class 'pandas.core.frame.DataFrame'>\n",
            "RangeIndex: 307511 entries, 0 to 307510\n",
            "Data columns (total 35 columns):\n",
            " #   Column                       Non-Null Count   Dtype  \n",
            "---  ------                       --------------   -----  \n",
            " 0   NAME_CONTRACT_TYPE           307511 non-null  object \n",
            " 1   CODE_GENDER                  307511 non-null  object \n",
            " 2   FLAG_OWN_CAR                 307511 non-null  object \n",
            " 3   FLAG_OWN_REALTY              307511 non-null  object \n",
            " 4   CNT_CHILDREN                 307511 non-null  int64  \n",
            " 5   AMT_INCOME_TOTAL             307511 non-null  float64\n",
            " 6   AMT_CREDIT                   307511 non-null  float64\n",
            " 7   AMT_ANNUITY                  307511 non-null  float64\n",
            " 8   AMT_GOODS_PRICE              307233 non-null  float64\n",
            " 9   NAME_TYPE_SUITE              306219 non-null  object \n",
            " 10  NAME_INCOME_TYPE             307511 non-null  object \n",
            " 11  NAME_EDUCATION_TYPE          307511 non-null  object \n",
            " 12  NAME_FAMILY_STATUS           307511 non-null  object \n",
            " 13  NAME_HOUSING_TYPE            307511 non-null  object \n",
            " 14  DAYS_BIRTH                   307511 non-null  int64  \n",
            " 15  DAYS_EMPLOYED                307511 non-null  int64  \n",
            " 16  DAYS_REGISTRATION            307511 non-null  float64\n",
            " 17  DAYS_ID_PUBLISH              307511 non-null  int64  \n",
            " 18  OWN_CAR_AGE                  104582 non-null  float64\n",
            " 19  FLAG_MOBIL                   307511 non-null  int64  \n",
            " 20  FLAG_EMP_PHONE               307511 non-null  int64  \n",
            " 21  FLAG_WORK_PHONE              307511 non-null  int64  \n",
            " 22  FLAG_CONT_MOBILE             307511 non-null  int64  \n",
            " 23  FLAG_PHONE                   307511 non-null  int64  \n",
            " 24  FLAG_EMAIL                   307511 non-null  int64  \n",
            " 25  OCCUPATION_TYPE              211120 non-null  object \n",
            " 26  CNT_FAM_MEMBERS              307509 non-null  float64\n",
            " 27  REG_REGION_NOT_LIVE_REGION   307511 non-null  int64  \n",
            " 28  REG_REGION_NOT_WORK_REGION   307511 non-null  int64  \n",
            " 29  LIVE_REGION_NOT_WORK_REGION  307511 non-null  int64  \n",
            " 30  REG_CITY_NOT_LIVE_CITY       307511 non-null  int64  \n",
            " 31  REG_CITY_NOT_WORK_CITY       307511 non-null  int64  \n",
            " 32  LIVE_CITY_NOT_WORK_CITY      307511 non-null  int64  \n",
            " 33  ORGANIZATION_TYPE            307511 non-null  object \n",
            " 34  TARGET                       307511 non-null  int64  \n",
            "dtypes: float64(7), int64(17), object(11)\n",
            "memory usage: 82.1+ MB\n"
          ]
        }
      ],
      "source": [
        "df['AMT_ANNUITY'].fillna(med1, inplace=True)\n",
        "df.info() #We see that the null values have now been filled for the AMT_ANNUITY column!"
      ]
    },
    {
      "cell_type": "code",
      "execution_count": null,
      "metadata": {
        "id": "8MoAFTuzDwyz",
        "outputId": "374b8367-cad9-41a7-8770-f04722c348f9",
        "colab": {
          "base_uri": "https://localhost:8080/"
        }
      },
      "outputs": [
        {
          "output_type": "execute_result",
          "data": {
            "text/plain": [
              "450000.0"
            ]
          },
          "metadata": {},
          "execution_count": 16
        }
      ],
      "source": [
        "#b. AMT_GOODS_PRICE; Description: For consumer loans it is the price of the goods for which the loan is given\n",
        "#Strategy: Fill the null data with the median value.\n",
        "#I decided to choose this strategy because the AMT_GOODS_PRICE column provides important information about\n",
        "#how much the goods, for which the loan was given, cost.\n",
        "med2 = df['AMT_GOODS_PRICE'].median()\n",
        "med2\n",
        "#Median: $450,000\n",
        "#med2 = df['AMT_GOODS_PRICE'].median()"
      ]
    },
    {
      "cell_type": "code",
      "execution_count": null,
      "metadata": {
        "id": "5XmYidzyDwyz",
        "outputId": "95283b6c-e542-4cb6-8d3c-ed5eea1ecd63",
        "colab": {
          "base_uri": "https://localhost:8080/"
        }
      },
      "outputs": [
        {
          "output_type": "stream",
          "name": "stderr",
          "text": [
            "/tmp/ipython-input-17-2119303866.py:1: FutureWarning: A value is trying to be set on a copy of a DataFrame or Series through chained assignment using an inplace method.\n",
            "The behavior will change in pandas 3.0. This inplace method will never work because the intermediate object on which we are setting values always behaves as a copy.\n",
            "\n",
            "For example, when doing 'df[col].method(value, inplace=True)', try using 'df.method({col: value}, inplace=True)' or df[col] = df[col].method(value) instead, to perform the operation inplace on the original object.\n",
            "\n",
            "\n",
            "  df['AMT_GOODS_PRICE'].fillna(med2, inplace=True)\n"
          ]
        },
        {
          "output_type": "stream",
          "name": "stdout",
          "text": [
            "<class 'pandas.core.frame.DataFrame'>\n",
            "RangeIndex: 307511 entries, 0 to 307510\n",
            "Data columns (total 35 columns):\n",
            " #   Column                       Non-Null Count   Dtype  \n",
            "---  ------                       --------------   -----  \n",
            " 0   NAME_CONTRACT_TYPE           307511 non-null  object \n",
            " 1   CODE_GENDER                  307511 non-null  object \n",
            " 2   FLAG_OWN_CAR                 307511 non-null  object \n",
            " 3   FLAG_OWN_REALTY              307511 non-null  object \n",
            " 4   CNT_CHILDREN                 307511 non-null  int64  \n",
            " 5   AMT_INCOME_TOTAL             307511 non-null  float64\n",
            " 6   AMT_CREDIT                   307511 non-null  float64\n",
            " 7   AMT_ANNUITY                  307511 non-null  float64\n",
            " 8   AMT_GOODS_PRICE              307511 non-null  float64\n",
            " 9   NAME_TYPE_SUITE              306219 non-null  object \n",
            " 10  NAME_INCOME_TYPE             307511 non-null  object \n",
            " 11  NAME_EDUCATION_TYPE          307511 non-null  object \n",
            " 12  NAME_FAMILY_STATUS           307511 non-null  object \n",
            " 13  NAME_HOUSING_TYPE            307511 non-null  object \n",
            " 14  DAYS_BIRTH                   307511 non-null  int64  \n",
            " 15  DAYS_EMPLOYED                307511 non-null  int64  \n",
            " 16  DAYS_REGISTRATION            307511 non-null  float64\n",
            " 17  DAYS_ID_PUBLISH              307511 non-null  int64  \n",
            " 18  OWN_CAR_AGE                  104582 non-null  float64\n",
            " 19  FLAG_MOBIL                   307511 non-null  int64  \n",
            " 20  FLAG_EMP_PHONE               307511 non-null  int64  \n",
            " 21  FLAG_WORK_PHONE              307511 non-null  int64  \n",
            " 22  FLAG_CONT_MOBILE             307511 non-null  int64  \n",
            " 23  FLAG_PHONE                   307511 non-null  int64  \n",
            " 24  FLAG_EMAIL                   307511 non-null  int64  \n",
            " 25  OCCUPATION_TYPE              211120 non-null  object \n",
            " 26  CNT_FAM_MEMBERS              307509 non-null  float64\n",
            " 27  REG_REGION_NOT_LIVE_REGION   307511 non-null  int64  \n",
            " 28  REG_REGION_NOT_WORK_REGION   307511 non-null  int64  \n",
            " 29  LIVE_REGION_NOT_WORK_REGION  307511 non-null  int64  \n",
            " 30  REG_CITY_NOT_LIVE_CITY       307511 non-null  int64  \n",
            " 31  REG_CITY_NOT_WORK_CITY       307511 non-null  int64  \n",
            " 32  LIVE_CITY_NOT_WORK_CITY      307511 non-null  int64  \n",
            " 33  ORGANIZATION_TYPE            307511 non-null  object \n",
            " 34  TARGET                       307511 non-null  int64  \n",
            "dtypes: float64(7), int64(17), object(11)\n",
            "memory usage: 82.1+ MB\n"
          ]
        }
      ],
      "source": [
        "df['AMT_GOODS_PRICE'].fillna(med2, inplace=True)\n",
        "df.info() #We see that the null values have now been filled!"
      ]
    },
    {
      "cell_type": "code",
      "execution_count": null,
      "metadata": {
        "id": "ZwfjMNyzDwyz"
      },
      "outputs": [],
      "source": [
        "#c. NAME_TYPE_SUITE; Description: Who was accompanying client when he was applying for the loan\n",
        "#Strategy: Drop the column entirely\n",
        "#I decided to choose this strategy because the NAME_TYPE_SUITE column does not provide helpful information.\n",
        "#The person accompanying the client is irrelevant to what we are interested in, namely, how fiscally\n",
        "#responsible the person is.\n",
        "del df['NAME_TYPE_SUITE']"
      ]
    },
    {
      "cell_type": "code",
      "execution_count": null,
      "metadata": {
        "id": "mBk0S6x2Dwyz",
        "outputId": "e7c58b7a-4422-41d4-a58f-df2e13c7031a",
        "colab": {
          "base_uri": "https://localhost:8080/"
        }
      },
      "outputs": [
        {
          "output_type": "stream",
          "name": "stdout",
          "text": [
            "<class 'pandas.core.frame.DataFrame'>\n",
            "RangeIndex: 307511 entries, 0 to 307510\n",
            "Data columns (total 34 columns):\n",
            " #   Column                       Non-Null Count   Dtype  \n",
            "---  ------                       --------------   -----  \n",
            " 0   NAME_CONTRACT_TYPE           307511 non-null  object \n",
            " 1   CODE_GENDER                  307511 non-null  object \n",
            " 2   FLAG_OWN_CAR                 307511 non-null  object \n",
            " 3   FLAG_OWN_REALTY              307511 non-null  object \n",
            " 4   CNT_CHILDREN                 307511 non-null  int64  \n",
            " 5   AMT_INCOME_TOTAL             307511 non-null  float64\n",
            " 6   AMT_CREDIT                   307511 non-null  float64\n",
            " 7   AMT_ANNUITY                  307511 non-null  float64\n",
            " 8   AMT_GOODS_PRICE              307511 non-null  float64\n",
            " 9   NAME_INCOME_TYPE             307511 non-null  object \n",
            " 10  NAME_EDUCATION_TYPE          307511 non-null  object \n",
            " 11  NAME_FAMILY_STATUS           307511 non-null  object \n",
            " 12  NAME_HOUSING_TYPE            307511 non-null  object \n",
            " 13  DAYS_BIRTH                   307511 non-null  int64  \n",
            " 14  DAYS_EMPLOYED                307511 non-null  int64  \n",
            " 15  DAYS_REGISTRATION            307511 non-null  float64\n",
            " 16  DAYS_ID_PUBLISH              307511 non-null  int64  \n",
            " 17  OWN_CAR_AGE                  104582 non-null  float64\n",
            " 18  FLAG_MOBIL                   307511 non-null  int64  \n",
            " 19  FLAG_EMP_PHONE               307511 non-null  int64  \n",
            " 20  FLAG_WORK_PHONE              307511 non-null  int64  \n",
            " 21  FLAG_CONT_MOBILE             307511 non-null  int64  \n",
            " 22  FLAG_PHONE                   307511 non-null  int64  \n",
            " 23  FLAG_EMAIL                   307511 non-null  int64  \n",
            " 24  OCCUPATION_TYPE              211120 non-null  object \n",
            " 25  CNT_FAM_MEMBERS              307509 non-null  float64\n",
            " 26  REG_REGION_NOT_LIVE_REGION   307511 non-null  int64  \n",
            " 27  REG_REGION_NOT_WORK_REGION   307511 non-null  int64  \n",
            " 28  LIVE_REGION_NOT_WORK_REGION  307511 non-null  int64  \n",
            " 29  REG_CITY_NOT_LIVE_CITY       307511 non-null  int64  \n",
            " 30  REG_CITY_NOT_WORK_CITY       307511 non-null  int64  \n",
            " 31  LIVE_CITY_NOT_WORK_CITY      307511 non-null  int64  \n",
            " 32  ORGANIZATION_TYPE            307511 non-null  object \n",
            " 33  TARGET                       307511 non-null  int64  \n",
            "dtypes: float64(7), int64(17), object(10)\n",
            "memory usage: 79.8+ MB\n"
          ]
        }
      ],
      "source": [
        "df.info() #Check that the column has been deleted"
      ]
    },
    {
      "cell_type": "code",
      "execution_count": null,
      "metadata": {
        "id": "8pUTqDO5Dwyz"
      },
      "outputs": [],
      "source": [
        "#d. OWN_CAR_AGE; Description: Age of client's car\n",
        "#Strategy: Drop the column entirely\n",
        "#I decided to choose this strategy because I deem the OWN_CAR_AGE column as not providing helpful information.\n",
        "#The age of the client's car is irrelevant to what we are interested in, namely, how fiscally\n",
        "#responsible the person is.\n",
        "del df['OWN_CAR_AGE']"
      ]
    },
    {
      "cell_type": "code",
      "execution_count": null,
      "metadata": {
        "id": "5VC6EiUKDwyz",
        "outputId": "3d8a5771-6373-4d87-bcf4-c565e74a85b6",
        "colab": {
          "base_uri": "https://localhost:8080/"
        }
      },
      "outputs": [
        {
          "output_type": "stream",
          "name": "stdout",
          "text": [
            "<class 'pandas.core.frame.DataFrame'>\n",
            "RangeIndex: 307511 entries, 0 to 307510\n",
            "Data columns (total 33 columns):\n",
            " #   Column                       Non-Null Count   Dtype  \n",
            "---  ------                       --------------   -----  \n",
            " 0   NAME_CONTRACT_TYPE           307511 non-null  object \n",
            " 1   CODE_GENDER                  307511 non-null  object \n",
            " 2   FLAG_OWN_CAR                 307511 non-null  object \n",
            " 3   FLAG_OWN_REALTY              307511 non-null  object \n",
            " 4   CNT_CHILDREN                 307511 non-null  int64  \n",
            " 5   AMT_INCOME_TOTAL             307511 non-null  float64\n",
            " 6   AMT_CREDIT                   307511 non-null  float64\n",
            " 7   AMT_ANNUITY                  307511 non-null  float64\n",
            " 8   AMT_GOODS_PRICE              307511 non-null  float64\n",
            " 9   NAME_INCOME_TYPE             307511 non-null  object \n",
            " 10  NAME_EDUCATION_TYPE          307511 non-null  object \n",
            " 11  NAME_FAMILY_STATUS           307511 non-null  object \n",
            " 12  NAME_HOUSING_TYPE            307511 non-null  object \n",
            " 13  DAYS_BIRTH                   307511 non-null  int64  \n",
            " 14  DAYS_EMPLOYED                307511 non-null  int64  \n",
            " 15  DAYS_REGISTRATION            307511 non-null  float64\n",
            " 16  DAYS_ID_PUBLISH              307511 non-null  int64  \n",
            " 17  FLAG_MOBIL                   307511 non-null  int64  \n",
            " 18  FLAG_EMP_PHONE               307511 non-null  int64  \n",
            " 19  FLAG_WORK_PHONE              307511 non-null  int64  \n",
            " 20  FLAG_CONT_MOBILE             307511 non-null  int64  \n",
            " 21  FLAG_PHONE                   307511 non-null  int64  \n",
            " 22  FLAG_EMAIL                   307511 non-null  int64  \n",
            " 23  OCCUPATION_TYPE              211120 non-null  object \n",
            " 24  CNT_FAM_MEMBERS              307509 non-null  float64\n",
            " 25  REG_REGION_NOT_LIVE_REGION   307511 non-null  int64  \n",
            " 26  REG_REGION_NOT_WORK_REGION   307511 non-null  int64  \n",
            " 27  LIVE_REGION_NOT_WORK_REGION  307511 non-null  int64  \n",
            " 28  REG_CITY_NOT_LIVE_CITY       307511 non-null  int64  \n",
            " 29  REG_CITY_NOT_WORK_CITY       307511 non-null  int64  \n",
            " 30  LIVE_CITY_NOT_WORK_CITY      307511 non-null  int64  \n",
            " 31  ORGANIZATION_TYPE            307511 non-null  object \n",
            " 32  TARGET                       307511 non-null  int64  \n",
            "dtypes: float64(6), int64(17), object(10)\n",
            "memory usage: 77.4+ MB\n"
          ]
        }
      ],
      "source": [
        "df.info() #Check that the column has been deleted"
      ]
    },
    {
      "cell_type": "code",
      "execution_count": null,
      "metadata": {
        "id": "KJYD6KmEDwy0",
        "colab": {
          "base_uri": "https://localhost:8080/"
        },
        "outputId": "da456964-6ceb-4300-df92-38f217825997"
      },
      "outputs": [
        {
          "output_type": "stream",
          "name": "stderr",
          "text": [
            "/tmp/ipython-input-22-1167855542.py:8: FutureWarning: A value is trying to be set on a copy of a DataFrame or Series through chained assignment using an inplace method.\n",
            "The behavior will change in pandas 3.0. This inplace method will never work because the intermediate object on which we are setting values always behaves as a copy.\n",
            "\n",
            "For example, when doing 'df[col].method(value, inplace=True)', try using 'df.method({col: value}, inplace=True)' or df[col] = df[col].method(value) instead, to perform the operation inplace on the original object.\n",
            "\n",
            "\n",
            "  df['OCCUPATION_TYPE'].fillna('NA', inplace=True)\n"
          ]
        }
      ],
      "source": [
        "#e. OCCUPATION_TYPE; Description: What kind of occupation does the client have\n",
        "#Strategy: Fill the null data with NA.\n",
        "#I decided to choose this strategy because the OCCUPATION_TYPE column provides relevant information about\n",
        "#the person's industry which is related to their socioeconomic status (SES). Their SES may correlate with\n",
        "#their level of fiscal responsibility. However, unlike the numerical data columns, this column contains\n",
        "#categorical data, which makes it harder to generalize a default fill-in value. Therefore, I decided to fill it\n",
        "#with the string 'NA'.\n",
        "df['OCCUPATION_TYPE'].fillna('NA', inplace=True)"
      ]
    },
    {
      "cell_type": "code",
      "execution_count": null,
      "metadata": {
        "id": "3b9lR8TiDwy0",
        "outputId": "a7bb859f-6182-4178-fdc1-d2de51440075",
        "colab": {
          "base_uri": "https://localhost:8080/"
        }
      },
      "outputs": [
        {
          "output_type": "stream",
          "name": "stdout",
          "text": [
            "<class 'pandas.core.frame.DataFrame'>\n",
            "RangeIndex: 307511 entries, 0 to 307510\n",
            "Data columns (total 33 columns):\n",
            " #   Column                       Non-Null Count   Dtype  \n",
            "---  ------                       --------------   -----  \n",
            " 0   NAME_CONTRACT_TYPE           307511 non-null  object \n",
            " 1   CODE_GENDER                  307511 non-null  object \n",
            " 2   FLAG_OWN_CAR                 307511 non-null  object \n",
            " 3   FLAG_OWN_REALTY              307511 non-null  object \n",
            " 4   CNT_CHILDREN                 307511 non-null  int64  \n",
            " 5   AMT_INCOME_TOTAL             307511 non-null  float64\n",
            " 6   AMT_CREDIT                   307511 non-null  float64\n",
            " 7   AMT_ANNUITY                  307511 non-null  float64\n",
            " 8   AMT_GOODS_PRICE              307511 non-null  float64\n",
            " 9   NAME_INCOME_TYPE             307511 non-null  object \n",
            " 10  NAME_EDUCATION_TYPE          307511 non-null  object \n",
            " 11  NAME_FAMILY_STATUS           307511 non-null  object \n",
            " 12  NAME_HOUSING_TYPE            307511 non-null  object \n",
            " 13  DAYS_BIRTH                   307511 non-null  int64  \n",
            " 14  DAYS_EMPLOYED                307511 non-null  int64  \n",
            " 15  DAYS_REGISTRATION            307511 non-null  float64\n",
            " 16  DAYS_ID_PUBLISH              307511 non-null  int64  \n",
            " 17  FLAG_MOBIL                   307511 non-null  int64  \n",
            " 18  FLAG_EMP_PHONE               307511 non-null  int64  \n",
            " 19  FLAG_WORK_PHONE              307511 non-null  int64  \n",
            " 20  FLAG_CONT_MOBILE             307511 non-null  int64  \n",
            " 21  FLAG_PHONE                   307511 non-null  int64  \n",
            " 22  FLAG_EMAIL                   307511 non-null  int64  \n",
            " 23  OCCUPATION_TYPE              307511 non-null  object \n",
            " 24  CNT_FAM_MEMBERS              307509 non-null  float64\n",
            " 25  REG_REGION_NOT_LIVE_REGION   307511 non-null  int64  \n",
            " 26  REG_REGION_NOT_WORK_REGION   307511 non-null  int64  \n",
            " 27  LIVE_REGION_NOT_WORK_REGION  307511 non-null  int64  \n",
            " 28  REG_CITY_NOT_LIVE_CITY       307511 non-null  int64  \n",
            " 29  REG_CITY_NOT_WORK_CITY       307511 non-null  int64  \n",
            " 30  LIVE_CITY_NOT_WORK_CITY      307511 non-null  int64  \n",
            " 31  ORGANIZATION_TYPE            307511 non-null  object \n",
            " 32  TARGET                       307511 non-null  int64  \n",
            "dtypes: float64(6), int64(17), object(10)\n",
            "memory usage: 77.4+ MB\n"
          ]
        }
      ],
      "source": [
        "df.info() #We see that the null values have now been filled."
      ]
    },
    {
      "cell_type": "code",
      "execution_count": null,
      "metadata": {
        "id": "jbUEnwuzDwy0",
        "outputId": "1dae0cd3-fbc9-4a2c-bfcb-47fba8317474",
        "colab": {
          "base_uri": "https://localhost:8080/"
        }
      },
      "outputs": [
        {
          "output_type": "execute_result",
          "data": {
            "text/plain": [
              "2.0"
            ]
          },
          "metadata": {},
          "execution_count": 24
        }
      ],
      "source": [
        "#f. CNT_FAM_MEMBERS; How many family members does client have\n",
        "#Strategy: Fill the null data with the mode.\n",
        "#I decided to choose this strategy because the CNT_FAM_MEMBERS column provides information about the person's\n",
        "#family size which may relate to their cost of living. Though I predict a weak correlation between family size\n",
        "#and the person defaulting on his/her loan, it may still be of interest. Here I choose to fill\n",
        "#the null data with the median as I did for the other columns.\n",
        "med3 = df['CNT_FAM_MEMBERS'].median()\n",
        "med3"
      ]
    },
    {
      "cell_type": "code",
      "execution_count": null,
      "metadata": {
        "id": "3LPeawwrDwy0",
        "colab": {
          "base_uri": "https://localhost:8080/"
        },
        "outputId": "3323619d-d600-49bb-e550-15099cb3c3f8"
      },
      "outputs": [
        {
          "output_type": "stream",
          "name": "stderr",
          "text": [
            "/tmp/ipython-input-25-2785223998.py:1: FutureWarning: A value is trying to be set on a copy of a DataFrame or Series through chained assignment using an inplace method.\n",
            "The behavior will change in pandas 3.0. This inplace method will never work because the intermediate object on which we are setting values always behaves as a copy.\n",
            "\n",
            "For example, when doing 'df[col].method(value, inplace=True)', try using 'df.method({col: value}, inplace=True)' or df[col] = df[col].method(value) instead, to perform the operation inplace on the original object.\n",
            "\n",
            "\n",
            "  df['CNT_FAM_MEMBERS'].fillna(med3, inplace=True)\n"
          ]
        }
      ],
      "source": [
        "df['CNT_FAM_MEMBERS'].fillna(med3, inplace=True)"
      ]
    },
    {
      "cell_type": "code",
      "execution_count": null,
      "metadata": {
        "id": "B7l-UAf3Dwy0",
        "outputId": "ca4b5810-b5c9-4c28-c625-c9c625f2667c",
        "colab": {
          "base_uri": "https://localhost:8080/"
        }
      },
      "outputs": [
        {
          "output_type": "stream",
          "name": "stdout",
          "text": [
            "<class 'pandas.core.frame.DataFrame'>\n",
            "RangeIndex: 307511 entries, 0 to 307510\n",
            "Data columns (total 33 columns):\n",
            " #   Column                       Non-Null Count   Dtype  \n",
            "---  ------                       --------------   -----  \n",
            " 0   NAME_CONTRACT_TYPE           307511 non-null  object \n",
            " 1   CODE_GENDER                  307511 non-null  object \n",
            " 2   FLAG_OWN_CAR                 307511 non-null  object \n",
            " 3   FLAG_OWN_REALTY              307511 non-null  object \n",
            " 4   CNT_CHILDREN                 307511 non-null  int64  \n",
            " 5   AMT_INCOME_TOTAL             307511 non-null  float64\n",
            " 6   AMT_CREDIT                   307511 non-null  float64\n",
            " 7   AMT_ANNUITY                  307511 non-null  float64\n",
            " 8   AMT_GOODS_PRICE              307511 non-null  float64\n",
            " 9   NAME_INCOME_TYPE             307511 non-null  object \n",
            " 10  NAME_EDUCATION_TYPE          307511 non-null  object \n",
            " 11  NAME_FAMILY_STATUS           307511 non-null  object \n",
            " 12  NAME_HOUSING_TYPE            307511 non-null  object \n",
            " 13  DAYS_BIRTH                   307511 non-null  int64  \n",
            " 14  DAYS_EMPLOYED                307511 non-null  int64  \n",
            " 15  DAYS_REGISTRATION            307511 non-null  float64\n",
            " 16  DAYS_ID_PUBLISH              307511 non-null  int64  \n",
            " 17  FLAG_MOBIL                   307511 non-null  int64  \n",
            " 18  FLAG_EMP_PHONE               307511 non-null  int64  \n",
            " 19  FLAG_WORK_PHONE              307511 non-null  int64  \n",
            " 20  FLAG_CONT_MOBILE             307511 non-null  int64  \n",
            " 21  FLAG_PHONE                   307511 non-null  int64  \n",
            " 22  FLAG_EMAIL                   307511 non-null  int64  \n",
            " 23  OCCUPATION_TYPE              307511 non-null  object \n",
            " 24  CNT_FAM_MEMBERS              307511 non-null  float64\n",
            " 25  REG_REGION_NOT_LIVE_REGION   307511 non-null  int64  \n",
            " 26  REG_REGION_NOT_WORK_REGION   307511 non-null  int64  \n",
            " 27  LIVE_REGION_NOT_WORK_REGION  307511 non-null  int64  \n",
            " 28  REG_CITY_NOT_LIVE_CITY       307511 non-null  int64  \n",
            " 29  REG_CITY_NOT_WORK_CITY       307511 non-null  int64  \n",
            " 30  LIVE_CITY_NOT_WORK_CITY      307511 non-null  int64  \n",
            " 31  ORGANIZATION_TYPE            307511 non-null  object \n",
            " 32  TARGET                       307511 non-null  int64  \n",
            "dtypes: float64(6), int64(17), object(10)\n",
            "memory usage: 77.4+ MB\n"
          ]
        }
      ],
      "source": [
        "df.info() #We see that the null values have now been filled.\n",
        "#Part 1 complete!"
      ]
    },
    {
      "cell_type": "code",
      "execution_count": null,
      "metadata": {
        "id": "LwVOkmbGDwy0",
        "outputId": "c724a5e8-9e58-4bec-babb-3cd353901f25",
        "colab": {
          "base_uri": "https://localhost:8080/",
          "height": 350
        }
      },
      "outputs": [
        {
          "output_type": "execute_result",
          "data": {
            "text/plain": [
              "        CNT_CHILDREN  AMT_INCOME_TOTAL    AMT_CREDIT    AMT_ANNUITY  \\\n",
              "count  307511.000000      3.075110e+05  3.075110e+05  307511.000000   \n",
              "mean        0.417052      1.687979e+05  5.990260e+05   27108.487841   \n",
              "std         0.722121      2.371231e+05  4.024908e+05   14493.461065   \n",
              "min         0.000000      2.565000e+04  4.500000e+04    1615.500000   \n",
              "25%         0.000000      1.125000e+05  2.700000e+05   16524.000000   \n",
              "50%         0.000000      1.471500e+05  5.135310e+05   24903.000000   \n",
              "75%         1.000000      2.025000e+05  8.086500e+05   34596.000000   \n",
              "max        19.000000      1.170000e+08  4.050000e+06  258025.500000   \n",
              "\n",
              "       AMT_GOODS_PRICE     DAYS_BIRTH  DAYS_EMPLOYED  DAYS_REGISTRATION  \\\n",
              "count     3.075110e+05  307511.000000  307511.000000      307511.000000   \n",
              "mean      5.383163e+05  -16036.995067   63815.045904       -4986.120328   \n",
              "std       3.692890e+05    4363.988632  141275.766519        3522.886321   \n",
              "min       4.050000e+04  -25229.000000  -17912.000000      -24672.000000   \n",
              "25%       2.385000e+05  -19682.000000   -2760.000000       -7479.500000   \n",
              "50%       4.500000e+05  -15750.000000   -1213.000000       -4504.000000   \n",
              "75%       6.795000e+05  -12413.000000    -289.000000       -2010.000000   \n",
              "max       4.050000e+06   -7489.000000  365243.000000           0.000000   \n",
              "\n",
              "       DAYS_ID_PUBLISH     FLAG_MOBIL  ...     FLAG_PHONE     FLAG_EMAIL  \\\n",
              "count    307511.000000  307511.000000  ...  307511.000000  307511.000000   \n",
              "mean      -2994.202373       0.999997  ...       0.281066       0.056720   \n",
              "std        1509.450419       0.001803  ...       0.449521       0.231307   \n",
              "min       -7197.000000       0.000000  ...       0.000000       0.000000   \n",
              "25%       -4299.000000       1.000000  ...       0.000000       0.000000   \n",
              "50%       -3254.000000       1.000000  ...       0.000000       0.000000   \n",
              "75%       -1720.000000       1.000000  ...       1.000000       0.000000   \n",
              "max           0.000000       1.000000  ...       1.000000       1.000000   \n",
              "\n",
              "       CNT_FAM_MEMBERS  REG_REGION_NOT_LIVE_REGION  \\\n",
              "count    307511.000000               307511.000000   \n",
              "mean          2.152664                    0.015144   \n",
              "std           0.910679                    0.122126   \n",
              "min           1.000000                    0.000000   \n",
              "25%           2.000000                    0.000000   \n",
              "50%           2.000000                    0.000000   \n",
              "75%           3.000000                    0.000000   \n",
              "max          20.000000                    1.000000   \n",
              "\n",
              "       REG_REGION_NOT_WORK_REGION  LIVE_REGION_NOT_WORK_REGION  \\\n",
              "count               307511.000000                307511.000000   \n",
              "mean                     0.050769                     0.040659   \n",
              "std                      0.219526                     0.197499   \n",
              "min                      0.000000                     0.000000   \n",
              "25%                      0.000000                     0.000000   \n",
              "50%                      0.000000                     0.000000   \n",
              "75%                      0.000000                     0.000000   \n",
              "max                      1.000000                     1.000000   \n",
              "\n",
              "       REG_CITY_NOT_LIVE_CITY  REG_CITY_NOT_WORK_CITY  \\\n",
              "count           307511.000000           307511.000000   \n",
              "mean                 0.078173                0.230454   \n",
              "std                  0.268444                0.421124   \n",
              "min                  0.000000                0.000000   \n",
              "25%                  0.000000                0.000000   \n",
              "50%                  0.000000                0.000000   \n",
              "75%                  0.000000                0.000000   \n",
              "max                  1.000000                1.000000   \n",
              "\n",
              "       LIVE_CITY_NOT_WORK_CITY         TARGET  \n",
              "count            307511.000000  307511.000000  \n",
              "mean                  0.179555       0.080729  \n",
              "std                   0.383817       0.272419  \n",
              "min                   0.000000       0.000000  \n",
              "25%                   0.000000       0.000000  \n",
              "50%                   0.000000       0.000000  \n",
              "75%                   0.000000       0.000000  \n",
              "max                   1.000000       1.000000  \n",
              "\n",
              "[8 rows x 23 columns]"
            ],
            "text/html": [
              "\n",
              "  <div id=\"df-cf624acd-8551-4d41-b25f-2b09a1475e0a\" class=\"colab-df-container\">\n",
              "    <div>\n",
              "<style scoped>\n",
              "    .dataframe tbody tr th:only-of-type {\n",
              "        vertical-align: middle;\n",
              "    }\n",
              "\n",
              "    .dataframe tbody tr th {\n",
              "        vertical-align: top;\n",
              "    }\n",
              "\n",
              "    .dataframe thead th {\n",
              "        text-align: right;\n",
              "    }\n",
              "</style>\n",
              "<table border=\"1\" class=\"dataframe\">\n",
              "  <thead>\n",
              "    <tr style=\"text-align: right;\">\n",
              "      <th></th>\n",
              "      <th>CNT_CHILDREN</th>\n",
              "      <th>AMT_INCOME_TOTAL</th>\n",
              "      <th>AMT_CREDIT</th>\n",
              "      <th>AMT_ANNUITY</th>\n",
              "      <th>AMT_GOODS_PRICE</th>\n",
              "      <th>DAYS_BIRTH</th>\n",
              "      <th>DAYS_EMPLOYED</th>\n",
              "      <th>DAYS_REGISTRATION</th>\n",
              "      <th>DAYS_ID_PUBLISH</th>\n",
              "      <th>FLAG_MOBIL</th>\n",
              "      <th>...</th>\n",
              "      <th>FLAG_PHONE</th>\n",
              "      <th>FLAG_EMAIL</th>\n",
              "      <th>CNT_FAM_MEMBERS</th>\n",
              "      <th>REG_REGION_NOT_LIVE_REGION</th>\n",
              "      <th>REG_REGION_NOT_WORK_REGION</th>\n",
              "      <th>LIVE_REGION_NOT_WORK_REGION</th>\n",
              "      <th>REG_CITY_NOT_LIVE_CITY</th>\n",
              "      <th>REG_CITY_NOT_WORK_CITY</th>\n",
              "      <th>LIVE_CITY_NOT_WORK_CITY</th>\n",
              "      <th>TARGET</th>\n",
              "    </tr>\n",
              "  </thead>\n",
              "  <tbody>\n",
              "    <tr>\n",
              "      <th>count</th>\n",
              "      <td>307511.000000</td>\n",
              "      <td>3.075110e+05</td>\n",
              "      <td>3.075110e+05</td>\n",
              "      <td>307511.000000</td>\n",
              "      <td>3.075110e+05</td>\n",
              "      <td>307511.000000</td>\n",
              "      <td>307511.000000</td>\n",
              "      <td>307511.000000</td>\n",
              "      <td>307511.000000</td>\n",
              "      <td>307511.000000</td>\n",
              "      <td>...</td>\n",
              "      <td>307511.000000</td>\n",
              "      <td>307511.000000</td>\n",
              "      <td>307511.000000</td>\n",
              "      <td>307511.000000</td>\n",
              "      <td>307511.000000</td>\n",
              "      <td>307511.000000</td>\n",
              "      <td>307511.000000</td>\n",
              "      <td>307511.000000</td>\n",
              "      <td>307511.000000</td>\n",
              "      <td>307511.000000</td>\n",
              "    </tr>\n",
              "    <tr>\n",
              "      <th>mean</th>\n",
              "      <td>0.417052</td>\n",
              "      <td>1.687979e+05</td>\n",
              "      <td>5.990260e+05</td>\n",
              "      <td>27108.487841</td>\n",
              "      <td>5.383163e+05</td>\n",
              "      <td>-16036.995067</td>\n",
              "      <td>63815.045904</td>\n",
              "      <td>-4986.120328</td>\n",
              "      <td>-2994.202373</td>\n",
              "      <td>0.999997</td>\n",
              "      <td>...</td>\n",
              "      <td>0.281066</td>\n",
              "      <td>0.056720</td>\n",
              "      <td>2.152664</td>\n",
              "      <td>0.015144</td>\n",
              "      <td>0.050769</td>\n",
              "      <td>0.040659</td>\n",
              "      <td>0.078173</td>\n",
              "      <td>0.230454</td>\n",
              "      <td>0.179555</td>\n",
              "      <td>0.080729</td>\n",
              "    </tr>\n",
              "    <tr>\n",
              "      <th>std</th>\n",
              "      <td>0.722121</td>\n",
              "      <td>2.371231e+05</td>\n",
              "      <td>4.024908e+05</td>\n",
              "      <td>14493.461065</td>\n",
              "      <td>3.692890e+05</td>\n",
              "      <td>4363.988632</td>\n",
              "      <td>141275.766519</td>\n",
              "      <td>3522.886321</td>\n",
              "      <td>1509.450419</td>\n",
              "      <td>0.001803</td>\n",
              "      <td>...</td>\n",
              "      <td>0.449521</td>\n",
              "      <td>0.231307</td>\n",
              "      <td>0.910679</td>\n",
              "      <td>0.122126</td>\n",
              "      <td>0.219526</td>\n",
              "      <td>0.197499</td>\n",
              "      <td>0.268444</td>\n",
              "      <td>0.421124</td>\n",
              "      <td>0.383817</td>\n",
              "      <td>0.272419</td>\n",
              "    </tr>\n",
              "    <tr>\n",
              "      <th>min</th>\n",
              "      <td>0.000000</td>\n",
              "      <td>2.565000e+04</td>\n",
              "      <td>4.500000e+04</td>\n",
              "      <td>1615.500000</td>\n",
              "      <td>4.050000e+04</td>\n",
              "      <td>-25229.000000</td>\n",
              "      <td>-17912.000000</td>\n",
              "      <td>-24672.000000</td>\n",
              "      <td>-7197.000000</td>\n",
              "      <td>0.000000</td>\n",
              "      <td>...</td>\n",
              "      <td>0.000000</td>\n",
              "      <td>0.000000</td>\n",
              "      <td>1.000000</td>\n",
              "      <td>0.000000</td>\n",
              "      <td>0.000000</td>\n",
              "      <td>0.000000</td>\n",
              "      <td>0.000000</td>\n",
              "      <td>0.000000</td>\n",
              "      <td>0.000000</td>\n",
              "      <td>0.000000</td>\n",
              "    </tr>\n",
              "    <tr>\n",
              "      <th>25%</th>\n",
              "      <td>0.000000</td>\n",
              "      <td>1.125000e+05</td>\n",
              "      <td>2.700000e+05</td>\n",
              "      <td>16524.000000</td>\n",
              "      <td>2.385000e+05</td>\n",
              "      <td>-19682.000000</td>\n",
              "      <td>-2760.000000</td>\n",
              "      <td>-7479.500000</td>\n",
              "      <td>-4299.000000</td>\n",
              "      <td>1.000000</td>\n",
              "      <td>...</td>\n",
              "      <td>0.000000</td>\n",
              "      <td>0.000000</td>\n",
              "      <td>2.000000</td>\n",
              "      <td>0.000000</td>\n",
              "      <td>0.000000</td>\n",
              "      <td>0.000000</td>\n",
              "      <td>0.000000</td>\n",
              "      <td>0.000000</td>\n",
              "      <td>0.000000</td>\n",
              "      <td>0.000000</td>\n",
              "    </tr>\n",
              "    <tr>\n",
              "      <th>50%</th>\n",
              "      <td>0.000000</td>\n",
              "      <td>1.471500e+05</td>\n",
              "      <td>5.135310e+05</td>\n",
              "      <td>24903.000000</td>\n",
              "      <td>4.500000e+05</td>\n",
              "      <td>-15750.000000</td>\n",
              "      <td>-1213.000000</td>\n",
              "      <td>-4504.000000</td>\n",
              "      <td>-3254.000000</td>\n",
              "      <td>1.000000</td>\n",
              "      <td>...</td>\n",
              "      <td>0.000000</td>\n",
              "      <td>0.000000</td>\n",
              "      <td>2.000000</td>\n",
              "      <td>0.000000</td>\n",
              "      <td>0.000000</td>\n",
              "      <td>0.000000</td>\n",
              "      <td>0.000000</td>\n",
              "      <td>0.000000</td>\n",
              "      <td>0.000000</td>\n",
              "      <td>0.000000</td>\n",
              "    </tr>\n",
              "    <tr>\n",
              "      <th>75%</th>\n",
              "      <td>1.000000</td>\n",
              "      <td>2.025000e+05</td>\n",
              "      <td>8.086500e+05</td>\n",
              "      <td>34596.000000</td>\n",
              "      <td>6.795000e+05</td>\n",
              "      <td>-12413.000000</td>\n",
              "      <td>-289.000000</td>\n",
              "      <td>-2010.000000</td>\n",
              "      <td>-1720.000000</td>\n",
              "      <td>1.000000</td>\n",
              "      <td>...</td>\n",
              "      <td>1.000000</td>\n",
              "      <td>0.000000</td>\n",
              "      <td>3.000000</td>\n",
              "      <td>0.000000</td>\n",
              "      <td>0.000000</td>\n",
              "      <td>0.000000</td>\n",
              "      <td>0.000000</td>\n",
              "      <td>0.000000</td>\n",
              "      <td>0.000000</td>\n",
              "      <td>0.000000</td>\n",
              "    </tr>\n",
              "    <tr>\n",
              "      <th>max</th>\n",
              "      <td>19.000000</td>\n",
              "      <td>1.170000e+08</td>\n",
              "      <td>4.050000e+06</td>\n",
              "      <td>258025.500000</td>\n",
              "      <td>4.050000e+06</td>\n",
              "      <td>-7489.000000</td>\n",
              "      <td>365243.000000</td>\n",
              "      <td>0.000000</td>\n",
              "      <td>0.000000</td>\n",
              "      <td>1.000000</td>\n",
              "      <td>...</td>\n",
              "      <td>1.000000</td>\n",
              "      <td>1.000000</td>\n",
              "      <td>20.000000</td>\n",
              "      <td>1.000000</td>\n",
              "      <td>1.000000</td>\n",
              "      <td>1.000000</td>\n",
              "      <td>1.000000</td>\n",
              "      <td>1.000000</td>\n",
              "      <td>1.000000</td>\n",
              "      <td>1.000000</td>\n",
              "    </tr>\n",
              "  </tbody>\n",
              "</table>\n",
              "<p>8 rows × 23 columns</p>\n",
              "</div>\n",
              "    <div class=\"colab-df-buttons\">\n",
              "\n",
              "  <div class=\"colab-df-container\">\n",
              "    <button class=\"colab-df-convert\" onclick=\"convertToInteractive('df-cf624acd-8551-4d41-b25f-2b09a1475e0a')\"\n",
              "            title=\"Convert this dataframe to an interactive table.\"\n",
              "            style=\"display:none;\">\n",
              "\n",
              "  <svg xmlns=\"http://www.w3.org/2000/svg\" height=\"24px\" viewBox=\"0 -960 960 960\">\n",
              "    <path d=\"M120-120v-720h720v720H120Zm60-500h600v-160H180v160Zm220 220h160v-160H400v160Zm0 220h160v-160H400v160ZM180-400h160v-160H180v160Zm440 0h160v-160H620v160ZM180-180h160v-160H180v160Zm440 0h160v-160H620v160Z\"/>\n",
              "  </svg>\n",
              "    </button>\n",
              "\n",
              "  <style>\n",
              "    .colab-df-container {\n",
              "      display:flex;\n",
              "      gap: 12px;\n",
              "    }\n",
              "\n",
              "    .colab-df-convert {\n",
              "      background-color: #E8F0FE;\n",
              "      border: none;\n",
              "      border-radius: 50%;\n",
              "      cursor: pointer;\n",
              "      display: none;\n",
              "      fill: #1967D2;\n",
              "      height: 32px;\n",
              "      padding: 0 0 0 0;\n",
              "      width: 32px;\n",
              "    }\n",
              "\n",
              "    .colab-df-convert:hover {\n",
              "      background-color: #E2EBFA;\n",
              "      box-shadow: 0px 1px 2px rgba(60, 64, 67, 0.3), 0px 1px 3px 1px rgba(60, 64, 67, 0.15);\n",
              "      fill: #174EA6;\n",
              "    }\n",
              "\n",
              "    .colab-df-buttons div {\n",
              "      margin-bottom: 4px;\n",
              "    }\n",
              "\n",
              "    [theme=dark] .colab-df-convert {\n",
              "      background-color: #3B4455;\n",
              "      fill: #D2E3FC;\n",
              "    }\n",
              "\n",
              "    [theme=dark] .colab-df-convert:hover {\n",
              "      background-color: #434B5C;\n",
              "      box-shadow: 0px 1px 3px 1px rgba(0, 0, 0, 0.15);\n",
              "      filter: drop-shadow(0px 1px 2px rgba(0, 0, 0, 0.3));\n",
              "      fill: #FFFFFF;\n",
              "    }\n",
              "  </style>\n",
              "\n",
              "    <script>\n",
              "      const buttonEl =\n",
              "        document.querySelector('#df-cf624acd-8551-4d41-b25f-2b09a1475e0a button.colab-df-convert');\n",
              "      buttonEl.style.display =\n",
              "        google.colab.kernel.accessAllowed ? 'block' : 'none';\n",
              "\n",
              "      async function convertToInteractive(key) {\n",
              "        const element = document.querySelector('#df-cf624acd-8551-4d41-b25f-2b09a1475e0a');\n",
              "        const dataTable =\n",
              "          await google.colab.kernel.invokeFunction('convertToInteractive',\n",
              "                                                    [key], {});\n",
              "        if (!dataTable) return;\n",
              "\n",
              "        const docLinkHtml = 'Like what you see? Visit the ' +\n",
              "          '<a target=\"_blank\" href=https://colab.research.google.com/notebooks/data_table.ipynb>data table notebook</a>'\n",
              "          + ' to learn more about interactive tables.';\n",
              "        element.innerHTML = '';\n",
              "        dataTable['output_type'] = 'display_data';\n",
              "        await google.colab.output.renderOutput(dataTable, element);\n",
              "        const docLink = document.createElement('div');\n",
              "        docLink.innerHTML = docLinkHtml;\n",
              "        element.appendChild(docLink);\n",
              "      }\n",
              "    </script>\n",
              "  </div>\n",
              "\n",
              "\n",
              "    <div id=\"df-2ac560fa-4810-4d54-97ff-452249bc0d1b\">\n",
              "      <button class=\"colab-df-quickchart\" onclick=\"quickchart('df-2ac560fa-4810-4d54-97ff-452249bc0d1b')\"\n",
              "                title=\"Suggest charts\"\n",
              "                style=\"display:none;\">\n",
              "\n",
              "<svg xmlns=\"http://www.w3.org/2000/svg\" height=\"24px\"viewBox=\"0 0 24 24\"\n",
              "     width=\"24px\">\n",
              "    <g>\n",
              "        <path d=\"M19 3H5c-1.1 0-2 .9-2 2v14c0 1.1.9 2 2 2h14c1.1 0 2-.9 2-2V5c0-1.1-.9-2-2-2zM9 17H7v-7h2v7zm4 0h-2V7h2v10zm4 0h-2v-4h2v4z\"/>\n",
              "    </g>\n",
              "</svg>\n",
              "      </button>\n",
              "\n",
              "<style>\n",
              "  .colab-df-quickchart {\n",
              "      --bg-color: #E8F0FE;\n",
              "      --fill-color: #1967D2;\n",
              "      --hover-bg-color: #E2EBFA;\n",
              "      --hover-fill-color: #174EA6;\n",
              "      --disabled-fill-color: #AAA;\n",
              "      --disabled-bg-color: #DDD;\n",
              "  }\n",
              "\n",
              "  [theme=dark] .colab-df-quickchart {\n",
              "      --bg-color: #3B4455;\n",
              "      --fill-color: #D2E3FC;\n",
              "      --hover-bg-color: #434B5C;\n",
              "      --hover-fill-color: #FFFFFF;\n",
              "      --disabled-bg-color: #3B4455;\n",
              "      --disabled-fill-color: #666;\n",
              "  }\n",
              "\n",
              "  .colab-df-quickchart {\n",
              "    background-color: var(--bg-color);\n",
              "    border: none;\n",
              "    border-radius: 50%;\n",
              "    cursor: pointer;\n",
              "    display: none;\n",
              "    fill: var(--fill-color);\n",
              "    height: 32px;\n",
              "    padding: 0;\n",
              "    width: 32px;\n",
              "  }\n",
              "\n",
              "  .colab-df-quickchart:hover {\n",
              "    background-color: var(--hover-bg-color);\n",
              "    box-shadow: 0 1px 2px rgba(60, 64, 67, 0.3), 0 1px 3px 1px rgba(60, 64, 67, 0.15);\n",
              "    fill: var(--button-hover-fill-color);\n",
              "  }\n",
              "\n",
              "  .colab-df-quickchart-complete:disabled,\n",
              "  .colab-df-quickchart-complete:disabled:hover {\n",
              "    background-color: var(--disabled-bg-color);\n",
              "    fill: var(--disabled-fill-color);\n",
              "    box-shadow: none;\n",
              "  }\n",
              "\n",
              "  .colab-df-spinner {\n",
              "    border: 2px solid var(--fill-color);\n",
              "    border-color: transparent;\n",
              "    border-bottom-color: var(--fill-color);\n",
              "    animation:\n",
              "      spin 1s steps(1) infinite;\n",
              "  }\n",
              "\n",
              "  @keyframes spin {\n",
              "    0% {\n",
              "      border-color: transparent;\n",
              "      border-bottom-color: var(--fill-color);\n",
              "      border-left-color: var(--fill-color);\n",
              "    }\n",
              "    20% {\n",
              "      border-color: transparent;\n",
              "      border-left-color: var(--fill-color);\n",
              "      border-top-color: var(--fill-color);\n",
              "    }\n",
              "    30% {\n",
              "      border-color: transparent;\n",
              "      border-left-color: var(--fill-color);\n",
              "      border-top-color: var(--fill-color);\n",
              "      border-right-color: var(--fill-color);\n",
              "    }\n",
              "    40% {\n",
              "      border-color: transparent;\n",
              "      border-right-color: var(--fill-color);\n",
              "      border-top-color: var(--fill-color);\n",
              "    }\n",
              "    60% {\n",
              "      border-color: transparent;\n",
              "      border-right-color: var(--fill-color);\n",
              "    }\n",
              "    80% {\n",
              "      border-color: transparent;\n",
              "      border-right-color: var(--fill-color);\n",
              "      border-bottom-color: var(--fill-color);\n",
              "    }\n",
              "    90% {\n",
              "      border-color: transparent;\n",
              "      border-bottom-color: var(--fill-color);\n",
              "    }\n",
              "  }\n",
              "</style>\n",
              "\n",
              "      <script>\n",
              "        async function quickchart(key) {\n",
              "          const quickchartButtonEl =\n",
              "            document.querySelector('#' + key + ' button');\n",
              "          quickchartButtonEl.disabled = true;  // To prevent multiple clicks.\n",
              "          quickchartButtonEl.classList.add('colab-df-spinner');\n",
              "          try {\n",
              "            const charts = await google.colab.kernel.invokeFunction(\n",
              "                'suggestCharts', [key], {});\n",
              "          } catch (error) {\n",
              "            console.error('Error during call to suggestCharts:', error);\n",
              "          }\n",
              "          quickchartButtonEl.classList.remove('colab-df-spinner');\n",
              "          quickchartButtonEl.classList.add('colab-df-quickchart-complete');\n",
              "        }\n",
              "        (() => {\n",
              "          let quickchartButtonEl =\n",
              "            document.querySelector('#df-2ac560fa-4810-4d54-97ff-452249bc0d1b button');\n",
              "          quickchartButtonEl.style.display =\n",
              "            google.colab.kernel.accessAllowed ? 'block' : 'none';\n",
              "        })();\n",
              "      </script>\n",
              "    </div>\n",
              "\n",
              "    </div>\n",
              "  </div>\n"
            ],
            "application/vnd.google.colaboratory.intrinsic+json": {
              "type": "dataframe"
            }
          },
          "metadata": {},
          "execution_count": 27
        }
      ],
      "source": [
        "# 2. Outliers\n",
        "# Search the data for outliers and remove them. Use the appropriate outlier method(s). Show all work.\n",
        "df.describe() #data frame statistics\n",
        "#Outliers to consider:\n",
        "#a. CNT_CHILDREN: max: 19 children\n",
        "#b. AMT_INCOME_TOTAL: max: 1.17 x 10^8\n",
        "#c. AMT_ANNUITY: max: $258025.50; compare with the mean of $27108.49\n",
        "#d. CNT_FAM_MEMBERS: max: 20 members\n",
        "\n",
        "#Note: I would consider the AMT_INCOME_TOTAL and the AMT_ANNUITY maxima to be valid data points.\n",
        "#However, I interpreted this second part of the project as an exercise in removing outliers. Statistically,\n",
        "#we can consider these to be outliers but if I were to actually complete this as a statistics project, I would\n",
        "#keep these two maxima because it is plausible to have someone whose income is $1.17 x 10^8 and someone's\n",
        "#annuity amount to be $258025.50.\n",
        "#The CNT_CHILDREN and CNT_FAM_MEMBERS extrema seem improbable, though not impossible. My final decision\n",
        "#was to remove these two maxima."
      ]
    },
    {
      "cell_type": "code",
      "execution_count": null,
      "metadata": {
        "id": "3l4WrUHaDwy0",
        "outputId": "7e386d6d-0e75-4793-eaa9-ab183e70cc65",
        "colab": {
          "base_uri": "https://localhost:8080/",
          "height": 600
        }
      },
      "outputs": [
        {
          "output_type": "execute_result",
          "data": {
            "text/plain": [
              "<function matplotlib.pyplot.show(close=None, block=None)>"
            ],
            "text/html": [
              "<div style=\"max-width:800px; border: 1px solid var(--colab-border-color);\"><style>\n",
              "      pre.function-repr-contents {\n",
              "        overflow-x: auto;\n",
              "        padding: 8px 12px;\n",
              "        max-height: 500px;\n",
              "      }\n",
              "\n",
              "      pre.function-repr-contents.function-repr-contents-collapsed {\n",
              "        cursor: pointer;\n",
              "        max-height: 100px;\n",
              "      }\n",
              "    </style>\n",
              "    <pre style=\"white-space: initial; background:\n",
              "         var(--colab-secondary-surface-color); padding: 8px 12px;\n",
              "         border-bottom: 1px solid var(--colab-border-color);\"><b>matplotlib.pyplot.show</b><br/>def show(*args, **kwargs) -&gt; None</pre><pre class=\"function-repr-contents function-repr-contents-collapsed\" style=\"\"><a class=\"filepath\" style=\"display:none\" href=\"#\">/usr/local/lib/python3.11/dist-packages/matplotlib/pyplot.py</a>Display all open figures.\n",
              "\n",
              "Parameters\n",
              "----------\n",
              "block : bool, optional\n",
              "    Whether to wait for all figures to be closed before returning.\n",
              "\n",
              "    If `True` block and run the GUI main loop until all figure windows\n",
              "    are closed.\n",
              "\n",
              "    If `False` ensure that all figure windows are displayed and return\n",
              "    immediately.  In this case, you are responsible for ensuring\n",
              "    that the event loop is running to have responsive figures.\n",
              "\n",
              "    Defaults to True in non-interactive mode and to False in interactive\n",
              "    mode (see `.pyplot.isinteractive`).\n",
              "\n",
              "See Also\n",
              "--------\n",
              "ion : Enable interactive mode, which shows / updates the figure after\n",
              "      every plotting command, so that calling ``show()`` is not necessary.\n",
              "ioff : Disable interactive mode.\n",
              "savefig : Save the figure to an image file instead of showing it on screen.\n",
              "\n",
              "Notes\n",
              "-----\n",
              "**Saving figures to file and showing a window at the same time**\n",
              "\n",
              "If you want an image file as well as a user interface window, use\n",
              "`.pyplot.savefig` before `.pyplot.show`. At the end of (a blocking)\n",
              "``show()`` the figure is closed and thus unregistered from pyplot. Calling\n",
              "`.pyplot.savefig` afterwards would save a new and thus empty figure. This\n",
              "limitation of command order does not apply if the show is non-blocking or\n",
              "if you keep a reference to the figure and use `.Figure.savefig`.\n",
              "\n",
              "**Auto-show in jupyter notebooks**\n",
              "\n",
              "The jupyter backends (activated via ``%matplotlib inline``,\n",
              "``%matplotlib notebook``, or ``%matplotlib widget``), call ``show()`` at\n",
              "the end of every cell by default. Thus, you usually don&#x27;t have to call it\n",
              "explicitly there.</pre>\n",
              "      <script>\n",
              "      if (google.colab.kernel.accessAllowed && google.colab.files && google.colab.files.view) {\n",
              "        for (const element of document.querySelectorAll('.filepath')) {\n",
              "          element.style.display = 'block'\n",
              "          element.onclick = (event) => {\n",
              "            event.preventDefault();\n",
              "            event.stopPropagation();\n",
              "            google.colab.files.view(element.textContent, 569);\n",
              "          };\n",
              "        }\n",
              "      }\n",
              "      for (const element of document.querySelectorAll('.function-repr-contents')) {\n",
              "        element.onclick = (event) => {\n",
              "          event.preventDefault();\n",
              "          event.stopPropagation();\n",
              "          element.classList.toggle('function-repr-contents-collapsed');\n",
              "        };\n",
              "      }\n",
              "      </script>\n",
              "      </div>"
            ]
          },
          "metadata": {},
          "execution_count": 28
        },
        {
          "output_type": "display_data",
          "data": {
            "text/plain": [
              "<Figure size 640x480 with 1 Axes>"
            ],
            "image/png": "[encoded data removed]"
          },
          "metadata": {}
        }
      ],
      "source": [
        "#a. CNT_CHILDREN outliers\n",
        "plt.scatter(df['CNT_CHILDREN'], df['CNT_CHILDREN']) #checking to see if there are other outliers besides the\n",
        "#data point of 19 children\n",
        "plt.show\n",
        "#plt.scatter(df['CNT_CHILDREN'], df['CNT_CHILDREN'])"
      ]
    },
    {
      "cell_type": "code",
      "execution_count": null,
      "metadata": {
        "id": "XiolxPVCDwy0",
        "outputId": "522db004-7a99-4e6d-e4ab-311e7fd57793",
        "colab": {
          "base_uri": "https://localhost:8080/"
        }
      },
      "outputs": [
        {
          "output_type": "execute_result",
          "data": {
            "text/plain": [
              "19"
            ]
          },
          "metadata": {},
          "execution_count": 29
        }
      ],
      "source": [
        "#the maximum value for CNT_CHILDREN (a max value of 19) is well above the other values\n",
        "childrenMax = df['CNT_CHILDREN'].max()\n",
        "childrenMax\n",
        "#childrenMax = df['CNT_CHILDREN'].max()\n",
        "#childrenMax"
      ]
    },
    {
      "cell_type": "code",
      "execution_count": null,
      "metadata": {
        "id": "v9ftYWtNDwy0",
        "outputId": "0d70376f-5dbc-4aa3-aed8-9f3a06d584f5",
        "colab": {
          "base_uri": "https://localhost:8080/"
        }
      },
      "outputs": [
        {
          "output_type": "execute_result",
          "data": {
            "text/plain": [
              "array([155369, 265784])"
            ]
          },
          "metadata": {},
          "execution_count": 30
        }
      ],
      "source": [
        "childrenMaxIndex = df[df['CNT_CHILDREN']==childrenMax].index.values\n",
        "childrenMaxIndex\n",
        "#Indices: 155369, 265784\n",
        "#childrenMaxIndex = df[df['CNT_CHILDREN']==childrenMax].index.values"
      ]
    },
    {
      "cell_type": "code",
      "execution_count": null,
      "metadata": {
        "id": "nPgufTN_Dwy1"
      },
      "outputs": [],
      "source": [
        "df = df.drop(childrenMaxIndex)\n",
        "#df = df.drop(childrenMaxIndex)"
      ]
    },
    {
      "cell_type": "code",
      "execution_count": null,
      "metadata": {
        "id": "qJpgQrZeDwy1",
        "outputId": "eb94e575-89dc-43c4-f0e8-09b206a7c29b",
        "colab": {
          "base_uri": "https://localhost:8080/",
          "height": 350
        }
      },
      "outputs": [
        {
          "output_type": "execute_result",
          "data": {
            "text/plain": [
              "        CNT_CHILDREN  AMT_INCOME_TOTAL    AMT_CREDIT    AMT_ANNUITY  \\\n",
              "count  307509.000000      3.075090e+05  3.075090e+05  307509.000000   \n",
              "mean        0.416931      1.687983e+05  5.990286e+05   27108.590397   \n",
              "std         0.720567      2.371239e+05  4.024908e+05   14493.450947   \n",
              "min         0.000000      2.565000e+04  4.500000e+04    1615.500000   \n",
              "25%         0.000000      1.125000e+05  2.700000e+05   16524.000000   \n",
              "50%         0.000000      1.471500e+05  5.135310e+05   24903.000000   \n",
              "75%         1.000000      2.025000e+05  8.086500e+05   34596.000000   \n",
              "max        14.000000      1.170000e+08  4.050000e+06  258025.500000   \n",
              "\n",
              "       AMT_GOODS_PRICE     DAYS_BIRTH  DAYS_EMPLOYED  DAYS_REGISTRATION  \\\n",
              "count     3.075090e+05  307509.000000  307509.000000      307509.000000   \n",
              "mean      5.383186e+05  -16037.029928   63815.469889       -4986.127297   \n",
              "std       3.692890e+05    4363.981307  141276.128113        3522.896099   \n",
              "min       4.050000e+04  -25229.000000  -17912.000000      -24672.000000   \n",
              "25%       2.385000e+05  -19682.000000   -2760.000000       -7480.000000   \n",
              "50%       4.500000e+05  -15750.000000   -1213.000000       -4504.000000   \n",
              "75%       6.795000e+05  -12413.000000    -289.000000       -2010.000000   \n",
              "max       4.050000e+06   -7489.000000  365243.000000           0.000000   \n",
              "\n",
              "       DAYS_ID_PUBLISH     FLAG_MOBIL  ...     FLAG_PHONE     FLAG_EMAIL  \\\n",
              "count    307509.000000  307509.000000  ...  307509.000000  307509.000000   \n",
              "mean      -2994.210973       0.999997  ...       0.281062       0.056720   \n",
              "std        1509.449710       0.001803  ...       0.449518       0.231308   \n",
              "min       -7197.000000       0.000000  ...       0.000000       0.000000   \n",
              "25%       -4299.000000       1.000000  ...       0.000000       0.000000   \n",
              "50%       -3254.000000       1.000000  ...       0.000000       0.000000   \n",
              "75%       -1720.000000       1.000000  ...       1.000000       0.000000   \n",
              "max           0.000000       1.000000  ...       1.000000       1.000000   \n",
              "\n",
              "       CNT_FAM_MEMBERS  REG_REGION_NOT_LIVE_REGION  \\\n",
              "count    307509.000000               307509.000000   \n",
              "mean          2.152548                    0.015144   \n",
              "std           0.909544                    0.122127   \n",
              "min           1.000000                    0.000000   \n",
              "25%           2.000000                    0.000000   \n",
              "50%           2.000000                    0.000000   \n",
              "75%           3.000000                    0.000000   \n",
              "max          16.000000                    1.000000   \n",
              "\n",
              "       REG_REGION_NOT_WORK_REGION  LIVE_REGION_NOT_WORK_REGION  \\\n",
              "count               307509.000000                307509.000000   \n",
              "mean                     0.050769                     0.040659   \n",
              "std                      0.219527                     0.197499   \n",
              "min                      0.000000                     0.000000   \n",
              "25%                      0.000000                     0.000000   \n",
              "50%                      0.000000                     0.000000   \n",
              "75%                      0.000000                     0.000000   \n",
              "max                      1.000000                     1.000000   \n",
              "\n",
              "       REG_CITY_NOT_LIVE_CITY  REG_CITY_NOT_WORK_CITY  \\\n",
              "count           307509.000000           307509.000000   \n",
              "mean                 0.078173                0.230455   \n",
              "std                  0.268445                0.421125   \n",
              "min                  0.000000                0.000000   \n",
              "25%                  0.000000                0.000000   \n",
              "50%                  0.000000                0.000000   \n",
              "75%                  0.000000                0.000000   \n",
              "max                  1.000000                1.000000   \n",
              "\n",
              "       LIVE_CITY_NOT_WORK_CITY         TARGET  \n",
              "count            307509.000000  307509.000000  \n",
              "mean                  0.179556       0.080729  \n",
              "std                   0.383818       0.272419  \n",
              "min                   0.000000       0.000000  \n",
              "25%                   0.000000       0.000000  \n",
              "50%                   0.000000       0.000000  \n",
              "75%                   0.000000       0.000000  \n",
              "max                   1.000000       1.000000  \n",
              "\n",
              "[8 rows x 23 columns]"
            ],
            "text/html": [
              "\n",
              "  <div id=\"df-060f9775-56c1-4d29-852b-6352c49757f1\" class=\"colab-df-container\">\n",
              "    <div>\n",
              "<style scoped>\n",
              "    .dataframe tbody tr th:only-of-type {\n",
              "        vertical-align: middle;\n",
              "    }\n",
              "\n",
              "    .dataframe tbody tr th {\n",
              "        vertical-align: top;\n",
              "    }\n",
              "\n",
              "    .dataframe thead th {\n",
              "        text-align: right;\n",
              "    }\n",
              "</style>\n",
              "<table border=\"1\" class=\"dataframe\">\n",
              "  <thead>\n",
              "    <tr style=\"text-align: right;\">\n",
              "      <th></th>\n",
              "      <th>CNT_CHILDREN</th>\n",
              "      <th>AMT_INCOME_TOTAL</th>\n",
              "      <th>AMT_CREDIT</th>\n",
              "      <th>AMT_ANNUITY</th>\n",
              "      <th>AMT_GOODS_PRICE</th>\n",
              "      <th>DAYS_BIRTH</th>\n",
              "      <th>DAYS_EMPLOYED</th>\n",
              "      <th>DAYS_REGISTRATION</th>\n",
              "      <th>DAYS_ID_PUBLISH</th>\n",
              "      <th>FLAG_MOBIL</th>\n",
              "      <th>...</th>\n",
              "      <th>FLAG_PHONE</th>\n",
              "      <th>FLAG_EMAIL</th>\n",
              "      <th>CNT_FAM_MEMBERS</th>\n",
              "      <th>REG_REGION_NOT_LIVE_REGION</th>\n",
              "      <th>REG_REGION_NOT_WORK_REGION</th>\n",
              "      <th>LIVE_REGION_NOT_WORK_REGION</th>\n",
              "      <th>REG_CITY_NOT_LIVE_CITY</th>\n",
              "      <th>REG_CITY_NOT_WORK_CITY</th>\n",
              "      <th>LIVE_CITY_NOT_WORK_CITY</th>\n",
              "      <th>TARGET</th>\n",
              "    </tr>\n",
              "  </thead>\n",
              "  <tbody>\n",
              "    <tr>\n",
              "      <th>count</th>\n",
              "      <td>307509.000000</td>\n",
              "      <td>3.075090e+05</td>\n",
              "      <td>3.075090e+05</td>\n",
              "      <td>307509.000000</td>\n",
              "      <td>3.075090e+05</td>\n",
              "      <td>307509.000000</td>\n",
              "      <td>307509.000000</td>\n",
              "      <td>307509.000000</td>\n",
              "      <td>307509.000000</td>\n",
              "      <td>307509.000000</td>\n",
              "      <td>...</td>\n",
              "      <td>307509.000000</td>\n",
              "      <td>307509.000000</td>\n",
              "      <td>307509.000000</td>\n",
              "      <td>307509.000000</td>\n",
              "      <td>307509.000000</td>\n",
              "      <td>307509.000000</td>\n",
              "      <td>307509.000000</td>\n",
              "      <td>307509.000000</td>\n",
              "      <td>307509.000000</td>\n",
              "      <td>307509.000000</td>\n",
              "    </tr>\n",
              "    <tr>\n",
              "      <th>mean</th>\n",
              "      <td>0.416931</td>\n",
              "      <td>1.687983e+05</td>\n",
              "      <td>5.990286e+05</td>\n",
              "      <td>27108.590397</td>\n",
              "      <td>5.383186e+05</td>\n",
              "      <td>-16037.029928</td>\n",
              "      <td>63815.469889</td>\n",
              "      <td>-4986.127297</td>\n",
              "      <td>-2994.210973</td>\n",
              "      <td>0.999997</td>\n",
              "      <td>...</td>\n",
              "      <td>0.281062</td>\n",
              "      <td>0.056720</td>\n",
              "      <td>2.152548</td>\n",
              "      <td>0.015144</td>\n",
              "      <td>0.050769</td>\n",
              "      <td>0.040659</td>\n",
              "      <td>0.078173</td>\n",
              "      <td>0.230455</td>\n",
              "      <td>0.179556</td>\n",
              "      <td>0.080729</td>\n",
              "    </tr>\n",
              "    <tr>\n",
              "      <th>std</th>\n",
              "      <td>0.720567</td>\n",
              "      <td>2.371239e+05</td>\n",
              "      <td>4.024908e+05</td>\n",
              "      <td>14493.450947</td>\n",
              "      <td>3.692890e+05</td>\n",
              "      <td>4363.981307</td>\n",
              "      <td>141276.128113</td>\n",
              "      <td>3522.896099</td>\n",
              "      <td>1509.449710</td>\n",
              "      <td>0.001803</td>\n",
              "      <td>...</td>\n",
              "      <td>0.449518</td>\n",
              "      <td>0.231308</td>\n",
              "      <td>0.909544</td>\n",
              "      <td>0.122127</td>\n",
              "      <td>0.219527</td>\n",
              "      <td>0.197499</td>\n",
              "      <td>0.268445</td>\n",
              "      <td>0.421125</td>\n",
              "      <td>0.383818</td>\n",
              "      <td>0.272419</td>\n",
              "    </tr>\n",
              "    <tr>\n",
              "      <th>min</th>\n",
              "      <td>0.000000</td>\n",
              "      <td>2.565000e+04</td>\n",
              "      <td>4.500000e+04</td>\n",
              "      <td>1615.500000</td>\n",
              "      <td>4.050000e+04</td>\n",
              "      <td>-25229.000000</td>\n",
              "      <td>-17912.000000</td>\n",
              "      <td>-24672.000000</td>\n",
              "      <td>-7197.000000</td>\n",
              "      <td>0.000000</td>\n",
              "      <td>...</td>\n",
              "      <td>0.000000</td>\n",
              "      <td>0.000000</td>\n",
              "      <td>1.000000</td>\n",
              "      <td>0.000000</td>\n",
              "      <td>0.000000</td>\n",
              "      <td>0.000000</td>\n",
              "      <td>0.000000</td>\n",
              "      <td>0.000000</td>\n",
              "      <td>0.000000</td>\n",
              "      <td>0.000000</td>\n",
              "    </tr>\n",
              "    <tr>\n",
              "      <th>25%</th>\n",
              "      <td>0.000000</td>\n",
              "      <td>1.125000e+05</td>\n",
              "      <td>2.700000e+05</td>\n",
              "      <td>16524.000000</td>\n",
              "      <td>2.385000e+05</td>\n",
              "      <td>-19682.000000</td>\n",
              "      <td>-2760.000000</td>\n",
              "      <td>-7480.000000</td>\n",
              "      <td>-4299.000000</td>\n",
              "      <td>1.000000</td>\n",
              "      <td>...</td>\n",
              "      <td>0.000000</td>\n",
              "      <td>0.000000</td>\n",
              "      <td>2.000000</td>\n",
              "      <td>0.000000</td>\n",
              "      <td>0.000000</td>\n",
              "      <td>0.000000</td>\n",
              "      <td>0.000000</td>\n",
              "      <td>0.000000</td>\n",
              "      <td>0.000000</td>\n",
              "      <td>0.000000</td>\n",
              "    </tr>\n",
              "    <tr>\n",
              "      <th>50%</th>\n",
              "      <td>0.000000</td>\n",
              "      <td>1.471500e+05</td>\n",
              "      <td>5.135310e+05</td>\n",
              "      <td>24903.000000</td>\n",
              "      <td>4.500000e+05</td>\n",
              "      <td>-15750.000000</td>\n",
              "      <td>-1213.000000</td>\n",
              "      <td>-4504.000000</td>\n",
              "      <td>-3254.000000</td>\n",
              "      <td>1.000000</td>\n",
              "      <td>...</td>\n",
              "      <td>0.000000</td>\n",
              "      <td>0.000000</td>\n",
              "      <td>2.000000</td>\n",
              "      <td>0.000000</td>\n",
              "      <td>0.000000</td>\n",
              "      <td>0.000000</td>\n",
              "      <td>0.000000</td>\n",
              "      <td>0.000000</td>\n",
              "      <td>0.000000</td>\n",
              "      <td>0.000000</td>\n",
              "    </tr>\n",
              "    <tr>\n",
              "      <th>75%</th>\n",
              "      <td>1.000000</td>\n",
              "      <td>2.025000e+05</td>\n",
              "      <td>8.086500e+05</td>\n",
              "      <td>34596.000000</td>\n",
              "      <td>6.795000e+05</td>\n",
              "      <td>-12413.000000</td>\n",
              "      <td>-289.000000</td>\n",
              "      <td>-2010.000000</td>\n",
              "      <td>-1720.000000</td>\n",
              "      <td>1.000000</td>\n",
              "      <td>...</td>\n",
              "      <td>1.000000</td>\n",
              "      <td>0.000000</td>\n",
              "      <td>3.000000</td>\n",
              "      <td>0.000000</td>\n",
              "      <td>0.000000</td>\n",
              "      <td>0.000000</td>\n",
              "      <td>0.000000</td>\n",
              "      <td>0.000000</td>\n",
              "      <td>0.000000</td>\n",
              "      <td>0.000000</td>\n",
              "    </tr>\n",
              "    <tr>\n",
              "      <th>max</th>\n",
              "      <td>14.000000</td>\n",
              "      <td>1.170000e+08</td>\n",
              "      <td>4.050000e+06</td>\n",
              "      <td>258025.500000</td>\n",
              "      <td>4.050000e+06</td>\n",
              "      <td>-7489.000000</td>\n",
              "      <td>365243.000000</td>\n",
              "      <td>0.000000</td>\n",
              "      <td>0.000000</td>\n",
              "      <td>1.000000</td>\n",
              "      <td>...</td>\n",
              "      <td>1.000000</td>\n",
              "      <td>1.000000</td>\n",
              "      <td>16.000000</td>\n",
              "      <td>1.000000</td>\n",
              "      <td>1.000000</td>\n",
              "      <td>1.000000</td>\n",
              "      <td>1.000000</td>\n",
              "      <td>1.000000</td>\n",
              "      <td>1.000000</td>\n",
              "      <td>1.000000</td>\n",
              "    </tr>\n",
              "  </tbody>\n",
              "</table>\n",
              "<p>8 rows × 23 columns</p>\n",
              "</div>\n",
              "    <div class=\"colab-df-buttons\">\n",
              "\n",
              "  <div class=\"colab-df-container\">\n",
              "    <button class=\"colab-df-convert\" onclick=\"convertToInteractive('df-060f9775-56c1-4d29-852b-6352c49757f1')\"\n",
              "            title=\"Convert this dataframe to an interactive table.\"\n",
              "            style=\"display:none;\">\n",
              "\n",
              "  <svg xmlns=\"http://www.w3.org/2000/svg\" height=\"24px\" viewBox=\"0 -960 960 960\">\n",
              "    <path d=\"M120-120v-720h720v720H120Zm60-500h600v-160H180v160Zm220 220h160v-160H400v160Zm0 220h160v-160H400v160ZM180-400h160v-160H180v160Zm440 0h160v-160H620v160ZM180-180h160v-160H180v160Zm440 0h160v-160H620v160Z\"/>\n",
              "  </svg>\n",
              "    </button>\n",
              "\n",
              "  <style>\n",
              "    .colab-df-container {\n",
              "      display:flex;\n",
              "      gap: 12px;\n",
              "    }\n",
              "\n",
              "    .colab-df-convert {\n",
              "      background-color: #E8F0FE;\n",
              "      border: none;\n",
              "      border-radius: 50%;\n",
              "      cursor: pointer;\n",
              "      display: none;\n",
              "      fill: #1967D2;\n",
              "      height: 32px;\n",
              "      padding: 0 0 0 0;\n",
              "      width: 32px;\n",
              "    }\n",
              "\n",
              "    .colab-df-convert:hover {\n",
              "      background-color: #E2EBFA;\n",
              "      box-shadow: 0px 1px 2px rgba(60, 64, 67, 0.3), 0px 1px 3px 1px rgba(60, 64, 67, 0.15);\n",
              "      fill: #174EA6;\n",
              "    }\n",
              "\n",
              "    .colab-df-buttons div {\n",
              "      margin-bottom: 4px;\n",
              "    }\n",
              "\n",
              "    [theme=dark] .colab-df-convert {\n",
              "      background-color: #3B4455;\n",
              "      fill: #D2E3FC;\n",
              "    }\n",
              "\n",
              "    [theme=dark] .colab-df-convert:hover {\n",
              "      background-color: #434B5C;\n",
              "      box-shadow: 0px 1px 3px 1px rgba(0, 0, 0, 0.15);\n",
              "      filter: drop-shadow(0px 1px 2px rgba(0, 0, 0, 0.3));\n",
              "      fill: #FFFFFF;\n",
              "    }\n",
              "  </style>\n",
              "\n",
              "    <script>\n",
              "      const buttonEl =\n",
              "        document.querySelector('#df-060f9775-56c1-4d29-852b-6352c49757f1 button.colab-df-convert');\n",
              "      buttonEl.style.display =\n",
              "        google.colab.kernel.accessAllowed ? 'block' : 'none';\n",
              "\n",
              "      async function convertToInteractive(key) {\n",
              "        const element = document.querySelector('#df-060f9775-56c1-4d29-852b-6352c49757f1');\n",
              "        const dataTable =\n",
              "          await google.colab.kernel.invokeFunction('convertToInteractive',\n",
              "                                                    [key], {});\n",
              "        if (!dataTable) return;\n",
              "\n",
              "        const docLinkHtml = 'Like what you see? Visit the ' +\n",
              "          '<a target=\"_blank\" href=https://colab.research.google.com/notebooks/data_table.ipynb>data table notebook</a>'\n",
              "          + ' to learn more about interactive tables.';\n",
              "        element.innerHTML = '';\n",
              "        dataTable['output_type'] = 'display_data';\n",
              "        await google.colab.output.renderOutput(dataTable, element);\n",
              "        const docLink = document.createElement('div');\n",
              "        docLink.innerHTML = docLinkHtml;\n",
              "        element.appendChild(docLink);\n",
              "      }\n",
              "    </script>\n",
              "  </div>\n",
              "\n",
              "\n",
              "    <div id=\"df-fe75026a-65b6-4802-a709-56788a75d526\">\n",
              "      <button class=\"colab-df-quickchart\" onclick=\"quickchart('df-fe75026a-65b6-4802-a709-56788a75d526')\"\n",
              "                title=\"Suggest charts\"\n",
              "                style=\"display:none;\">\n",
              "\n",
              "<svg xmlns=\"http://www.w3.org/2000/svg\" height=\"24px\"viewBox=\"0 0 24 24\"\n",
              "     width=\"24px\">\n",
              "    <g>\n",
              "        <path d=\"M19 3H5c-1.1 0-2 .9-2 2v14c0 1.1.9 2 2 2h14c1.1 0 2-.9 2-2V5c0-1.1-.9-2-2-2zM9 17H7v-7h2v7zm4 0h-2V7h2v10zm4 0h-2v-4h2v4z\"/>\n",
              "    </g>\n",
              "</svg>\n",
              "      </button>\n",
              "\n",
              "<style>\n",
              "  .colab-df-quickchart {\n",
              "      --bg-color: #E8F0FE;\n",
              "      --fill-color: #1967D2;\n",
              "      --hover-bg-color: #E2EBFA;\n",
              "      --hover-fill-color: #174EA6;\n",
              "      --disabled-fill-color: #AAA;\n",
              "      --disabled-bg-color: #DDD;\n",
              "  }\n",
              "\n",
              "  [theme=dark] .colab-df-quickchart {\n",
              "      --bg-color: #3B4455;\n",
              "      --fill-color: #D2E3FC;\n",
              "      --hover-bg-color: #434B5C;\n",
              "      --hover-fill-color: #FFFFFF;\n",
              "      --disabled-bg-color: #3B4455;\n",
              "      --disabled-fill-color: #666;\n",
              "  }\n",
              "\n",
              "  .colab-df-quickchart {\n",
              "    background-color: var(--bg-color);\n",
              "    border: none;\n",
              "    border-radius: 50%;\n",
              "    cursor: pointer;\n",
              "    display: none;\n",
              "    fill: var(--fill-color);\n",
              "    height: 32px;\n",
              "    padding: 0;\n",
              "    width: 32px;\n",
              "  }\n",
              "\n",
              "  .colab-df-quickchart:hover {\n",
              "    background-color: var(--hover-bg-color);\n",
              "    box-shadow: 0 1px 2px rgba(60, 64, 67, 0.3), 0 1px 3px 1px rgba(60, 64, 67, 0.15);\n",
              "    fill: var(--button-hover-fill-color);\n",
              "  }\n",
              "\n",
              "  .colab-df-quickchart-complete:disabled,\n",
              "  .colab-df-quickchart-complete:disabled:hover {\n",
              "    background-color: var(--disabled-bg-color);\n",
              "    fill: var(--disabled-fill-color);\n",
              "    box-shadow: none;\n",
              "  }\n",
              "\n",
              "  .colab-df-spinner {\n",
              "    border: 2px solid var(--fill-color);\n",
              "    border-color: transparent;\n",
              "    border-bottom-color: var(--fill-color);\n",
              "    animation:\n",
              "      spin 1s steps(1) infinite;\n",
              "  }\n",
              "\n",
              "  @keyframes spin {\n",
              "    0% {\n",
              "      border-color: transparent;\n",
              "      border-bottom-color: var(--fill-color);\n",
              "      border-left-color: var(--fill-color);\n",
              "    }\n",
              "    20% {\n",
              "      border-color: transparent;\n",
              "      border-left-color: var(--fill-color);\n",
              "      border-top-color: var(--fill-color);\n",
              "    }\n",
              "    30% {\n",
              "      border-color: transparent;\n",
              "      border-left-color: var(--fill-color);\n",
              "      border-top-color: var(--fill-color);\n",
              "      border-right-color: var(--fill-color);\n",
              "    }\n",
              "    40% {\n",
              "      border-color: transparent;\n",
              "      border-right-color: var(--fill-color);\n",
              "      border-top-color: var(--fill-color);\n",
              "    }\n",
              "    60% {\n",
              "      border-color: transparent;\n",
              "      border-right-color: var(--fill-color);\n",
              "    }\n",
              "    80% {\n",
              "      border-color: transparent;\n",
              "      border-right-color: var(--fill-color);\n",
              "      border-bottom-color: var(--fill-color);\n",
              "    }\n",
              "    90% {\n",
              "      border-color: transparent;\n",
              "      border-bottom-color: var(--fill-color);\n",
              "    }\n",
              "  }\n",
              "</style>\n",
              "\n",
              "      <script>\n",
              "        async function quickchart(key) {\n",
              "          const quickchartButtonEl =\n",
              "            document.querySelector('#' + key + ' button');\n",
              "          quickchartButtonEl.disabled = true;  // To prevent multiple clicks.\n",
              "          quickchartButtonEl.classList.add('colab-df-spinner');\n",
              "          try {\n",
              "            const charts = await google.colab.kernel.invokeFunction(\n",
              "                'suggestCharts', [key], {});\n",
              "          } catch (error) {\n",
              "            console.error('Error during call to suggestCharts:', error);\n",
              "          }\n",
              "          quickchartButtonEl.classList.remove('colab-df-spinner');\n",
              "          quickchartButtonEl.classList.add('colab-df-quickchart-complete');\n",
              "        }\n",
              "        (() => {\n",
              "          let quickchartButtonEl =\n",
              "            document.querySelector('#df-fe75026a-65b6-4802-a709-56788a75d526 button');\n",
              "          quickchartButtonEl.style.display =\n",
              "            google.colab.kernel.accessAllowed ? 'block' : 'none';\n",
              "        })();\n",
              "      </script>\n",
              "    </div>\n",
              "\n",
              "    </div>\n",
              "  </div>\n"
            ],
            "application/vnd.google.colaboratory.intrinsic+json": {
              "type": "dataframe"
            }
          },
          "metadata": {},
          "execution_count": 32
        }
      ],
      "source": [
        "df.describe() #Check to see that the two outliers have been dropped\n",
        "#Success! The maximum for CNT_CHILDREN is now 14."
      ]
    },
    {
      "cell_type": "code",
      "execution_count": null,
      "metadata": {
        "id": "axHRHqT3Dwy1",
        "outputId": "0a708b02-539f-4293-8248-a8a10b65f47e",
        "colab": {
          "base_uri": "https://localhost:8080/",
          "height": 600
        }
      },
      "outputs": [
        {
          "output_type": "execute_result",
          "data": {
            "text/plain": [
              "<function matplotlib.pyplot.show(close=None, block=None)>"
            ],
            "text/html": [
              "<div style=\"max-width:800px; border: 1px solid var(--colab-border-color);\"><style>\n",
              "      pre.function-repr-contents {\n",
              "        overflow-x: auto;\n",
              "        padding: 8px 12px;\n",
              "        max-height: 500px;\n",
              "      }\n",
              "\n",
              "      pre.function-repr-contents.function-repr-contents-collapsed {\n",
              "        cursor: pointer;\n",
              "        max-height: 100px;\n",
              "      }\n",
              "    </style>\n",
              "    <pre style=\"white-space: initial; background:\n",
              "         var(--colab-secondary-surface-color); padding: 8px 12px;\n",
              "         border-bottom: 1px solid var(--colab-border-color);\"><b>matplotlib.pyplot.show</b><br/>def show(*args, **kwargs) -&gt; None</pre><pre class=\"function-repr-contents function-repr-contents-collapsed\" style=\"\"><a class=\"filepath\" style=\"display:none\" href=\"#\">/usr/local/lib/python3.11/dist-packages/matplotlib/pyplot.py</a>Display all open figures.\n",
              "\n",
              "Parameters\n",
              "----------\n",
              "block : bool, optional\n",
              "    Whether to wait for all figures to be closed before returning.\n",
              "\n",
              "    If `True` block and run the GUI main loop until all figure windows\n",
              "    are closed.\n",
              "\n",
              "    If `False` ensure that all figure windows are displayed and return\n",
              "    immediately.  In this case, you are responsible for ensuring\n",
              "    that the event loop is running to have responsive figures.\n",
              "\n",
              "    Defaults to True in non-interactive mode and to False in interactive\n",
              "    mode (see `.pyplot.isinteractive`).\n",
              "\n",
              "See Also\n",
              "--------\n",
              "ion : Enable interactive mode, which shows / updates the figure after\n",
              "      every plotting command, so that calling ``show()`` is not necessary.\n",
              "ioff : Disable interactive mode.\n",
              "savefig : Save the figure to an image file instead of showing it on screen.\n",
              "\n",
              "Notes\n",
              "-----\n",
              "**Saving figures to file and showing a window at the same time**\n",
              "\n",
              "If you want an image file as well as a user interface window, use\n",
              "`.pyplot.savefig` before `.pyplot.show`. At the end of (a blocking)\n",
              "``show()`` the figure is closed and thus unregistered from pyplot. Calling\n",
              "`.pyplot.savefig` afterwards would save a new and thus empty figure. This\n",
              "limitation of command order does not apply if the show is non-blocking or\n",
              "if you keep a reference to the figure and use `.Figure.savefig`.\n",
              "\n",
              "**Auto-show in jupyter notebooks**\n",
              "\n",
              "The jupyter backends (activated via ``%matplotlib inline``,\n",
              "``%matplotlib notebook``, or ``%matplotlib widget``), call ``show()`` at\n",
              "the end of every cell by default. Thus, you usually don&#x27;t have to call it\n",
              "explicitly there.</pre>\n",
              "      <script>\n",
              "      if (google.colab.kernel.accessAllowed && google.colab.files && google.colab.files.view) {\n",
              "        for (const element of document.querySelectorAll('.filepath')) {\n",
              "          element.style.display = 'block'\n",
              "          element.onclick = (event) => {\n",
              "            event.preventDefault();\n",
              "            event.stopPropagation();\n",
              "            google.colab.files.view(element.textContent, 569);\n",
              "          };\n",
              "        }\n",
              "      }\n",
              "      for (const element of document.querySelectorAll('.function-repr-contents')) {\n",
              "        element.onclick = (event) => {\n",
              "          event.preventDefault();\n",
              "          event.stopPropagation();\n",
              "          element.classList.toggle('function-repr-contents-collapsed');\n",
              "        };\n",
              "      }\n",
              "      </script>\n",
              "      </div>"
            ]
          },
          "metadata": {},
          "execution_count": 33
        },
        {
          "output_type": "display_data",
          "data": {
            "text/plain": [
              "<Figure size 640x480 with 1 Axes>"
            ],
            "image/png": "[encoded data removed]"
          },
          "metadata": {}
        }
      ],
      "source": [
        "plt.scatter(df['CNT_CHILDREN'], df['CNT_CHILDREN']) #checking the data points again\n",
        "plt.show\n",
        "#We now have a much more compact data set in terms of CNT_CHILDREN."
      ]
    },
    {
      "cell_type": "code",
      "execution_count": null,
      "metadata": {
        "id": "UesY3iCgDwy1",
        "outputId": "b85d5656-fbf9-49dc-c28f-75e6d804358a",
        "colab": {
          "base_uri": "https://localhost:8080/",
          "height": 633
        }
      },
      "outputs": [
        {
          "output_type": "execute_result",
          "data": {
            "text/plain": [
              "<function matplotlib.pyplot.show(close=None, block=None)>"
            ],
            "text/html": [
              "<div style=\"max-width:800px; border: 1px solid var(--colab-border-color);\"><style>\n",
              "      pre.function-repr-contents {\n",
              "        overflow-x: auto;\n",
              "        padding: 8px 12px;\n",
              "        max-height: 500px;\n",
              "      }\n",
              "\n",
              "      pre.function-repr-contents.function-repr-contents-collapsed {\n",
              "        cursor: pointer;\n",
              "        max-height: 100px;\n",
              "      }\n",
              "    </style>\n",
              "    <pre style=\"white-space: initial; background:\n",
              "         var(--colab-secondary-surface-color); padding: 8px 12px;\n",
              "         border-bottom: 1px solid var(--colab-border-color);\"><b>matplotlib.pyplot.show</b><br/>def show(*args, **kwargs) -&gt; None</pre><pre class=\"function-repr-contents function-repr-contents-collapsed\" style=\"\"><a class=\"filepath\" style=\"display:none\" href=\"#\">/usr/local/lib/python3.11/dist-packages/matplotlib/pyplot.py</a>Display all open figures.\n",
              "\n",
              "Parameters\n",
              "----------\n",
              "block : bool, optional\n",
              "    Whether to wait for all figures to be closed before returning.\n",
              "\n",
              "    If `True` block and run the GUI main loop until all figure windows\n",
              "    are closed.\n",
              "\n",
              "    If `False` ensure that all figure windows are displayed and return\n",
              "    immediately.  In this case, you are responsible for ensuring\n",
              "    that the event loop is running to have responsive figures.\n",
              "\n",
              "    Defaults to True in non-interactive mode and to False in interactive\n",
              "    mode (see `.pyplot.isinteractive`).\n",
              "\n",
              "See Also\n",
              "--------\n",
              "ion : Enable interactive mode, which shows / updates the figure after\n",
              "      every plotting command, so that calling ``show()`` is not necessary.\n",
              "ioff : Disable interactive mode.\n",
              "savefig : Save the figure to an image file instead of showing it on screen.\n",
              "\n",
              "Notes\n",
              "-----\n",
              "**Saving figures to file and showing a window at the same time**\n",
              "\n",
              "If you want an image file as well as a user interface window, use\n",
              "`.pyplot.savefig` before `.pyplot.show`. At the end of (a blocking)\n",
              "``show()`` the figure is closed and thus unregistered from pyplot. Calling\n",
              "`.pyplot.savefig` afterwards would save a new and thus empty figure. This\n",
              "limitation of command order does not apply if the show is non-blocking or\n",
              "if you keep a reference to the figure and use `.Figure.savefig`.\n",
              "\n",
              "**Auto-show in jupyter notebooks**\n",
              "\n",
              "The jupyter backends (activated via ``%matplotlib inline``,\n",
              "``%matplotlib notebook``, or ``%matplotlib widget``), call ``show()`` at\n",
              "the end of every cell by default. Thus, you usually don&#x27;t have to call it\n",
              "explicitly there.</pre>\n",
              "      <script>\n",
              "      if (google.colab.kernel.accessAllowed && google.colab.files && google.colab.files.view) {\n",
              "        for (const element of document.querySelectorAll('.filepath')) {\n",
              "          element.style.display = 'block'\n",
              "          element.onclick = (event) => {\n",
              "            event.preventDefault();\n",
              "            event.stopPropagation();\n",
              "            google.colab.files.view(element.textContent, 569);\n",
              "          };\n",
              "        }\n",
              "      }\n",
              "      for (const element of document.querySelectorAll('.function-repr-contents')) {\n",
              "        element.onclick = (event) => {\n",
              "          event.preventDefault();\n",
              "          event.stopPropagation();\n",
              "          element.classList.toggle('function-repr-contents-collapsed');\n",
              "        };\n",
              "      }\n",
              "      </script>\n",
              "      </div>"
            ]
          },
          "metadata": {},
          "execution_count": 34
        },
        {
          "output_type": "display_data",
          "data": {
            "text/plain": [
              "<Figure size 640x480 with 1 Axes>"
            ],
            "image/png": "[encoded data removed]"
          },
          "metadata": {}
        }
      ],
      "source": [
        "#b. AMT_INCOME_TOTAL outliers\n",
        "plt.scatter(df['AMT_INCOME_TOTAL'], df['AMT_INCOME_TOTAL']) #checking to see if there are other outliers besides the\n",
        "#data point of $1.17 x 10^8\n",
        "plt.show"
      ]
    },
    {
      "cell_type": "code",
      "execution_count": null,
      "metadata": {
        "id": "Jdjep1PIDwy1",
        "outputId": "97a1c25d-686e-469d-a2cd-4941d9a3265f",
        "colab": {
          "base_uri": "https://localhost:8080/"
        }
      },
      "outputs": [
        {
          "output_type": "execute_result",
          "data": {
            "text/plain": [
              "117000000.0"
            ]
          },
          "metadata": {},
          "execution_count": 35
        }
      ],
      "source": [
        "#We see from the scatterplot that the data point of $1.17 x 10^8 is far above the others. Let's remove it.\n",
        "amtIncomeMax = df['AMT_INCOME_TOTAL'].max()\n",
        "amtIncomeMax\n",
        "#117,000,000"
      ]
    },
    {
      "cell_type": "code",
      "execution_count": null,
      "metadata": {
        "id": "8sCn8N7HDwy1",
        "outputId": "7caba316-c69d-4039-aae8-c14375361d05",
        "colab": {
          "base_uri": "https://localhost:8080/"
        }
      },
      "outputs": [
        {
          "output_type": "execute_result",
          "data": {
            "text/plain": [
              "array([12840])"
            ]
          },
          "metadata": {},
          "execution_count": 36
        }
      ],
      "source": [
        "amtIncomeMaxIndex = df[df['AMT_INCOME_TOTAL']==amtIncomeMax].index.values\n",
        "amtIncomeMaxIndex\n",
        "#Index: 12840\n",
        "#amtIncomeMaxIndex = df[df['AMT_INCOME_TOTAL']==amtIncomeMax].index.values"
      ]
    },
    {
      "cell_type": "code",
      "execution_count": null,
      "metadata": {
        "id": "Xxeul5t-Dwy1"
      },
      "outputs": [],
      "source": [
        "df = df.drop(amtIncomeMaxIndex)"
      ]
    },
    {
      "cell_type": "code",
      "execution_count": null,
      "metadata": {
        "id": "yq1fVxUIDwy1",
        "outputId": "ff6ce9d1-f302-49b0-d042-cfd329dfeb6a",
        "colab": {
          "base_uri": "https://localhost:8080/",
          "height": 350
        }
      },
      "outputs": [
        {
          "output_type": "execute_result",
          "data": {
            "text/plain": [
              "        CNT_CHILDREN  AMT_INCOME_TOTAL    AMT_CREDIT    AMT_ANNUITY  \\\n",
              "count  307508.000000      3.075080e+05  3.075080e+05  307508.000000   \n",
              "mean        0.416929      1.684184e+05  5.990287e+05   27108.593370   \n",
              "std         0.720567      1.088121e+05  4.024914e+05   14493.474419   \n",
              "min         0.000000      2.565000e+04  4.500000e+04    1615.500000   \n",
              "25%         0.000000      1.125000e+05  2.700000e+05   16524.000000   \n",
              "50%         0.000000      1.471500e+05  5.135310e+05   24903.000000   \n",
              "75%         1.000000      2.025000e+05  8.086500e+05   34596.000000   \n",
              "max        14.000000      1.800009e+07  4.050000e+06  258025.500000   \n",
              "\n",
              "       AMT_GOODS_PRICE     DAYS_BIRTH  DAYS_EMPLOYED  DAYS_REGISTRATION  \\\n",
              "count     3.075080e+05  307508.000000  307508.000000      307508.000000   \n",
              "mean      5.383189e+05  -16037.041056   63815.680412       -4986.121522   \n",
              "std       3.692896e+05    4363.984039  141276.309590        3522.900371   \n",
              "min       4.050000e+04  -25229.000000  -17912.000000      -24672.000000   \n",
              "25%       2.385000e+05  -19682.000000   -2760.000000       -7480.000000   \n",
              "50%       4.500000e+05  -15750.000000   -1213.500000       -4504.000000   \n",
              "75%       6.795000e+05  -12413.000000    -289.000000       -2009.750000   \n",
              "max       4.050000e+06   -7489.000000  365243.000000           0.000000   \n",
              "\n",
              "       DAYS_ID_PUBLISH     FLAG_MOBIL  ...     FLAG_PHONE     FLAG_EMAIL  \\\n",
              "count    307508.000000  307508.000000  ...  307508.000000  307508.000000   \n",
              "mean      -2994.208863       0.999997  ...       0.281063       0.056720   \n",
              "std        1509.451711       0.001803  ...       0.449519       0.231308   \n",
              "min       -7197.000000       0.000000  ...       0.000000       0.000000   \n",
              "25%       -4299.000000       1.000000  ...       0.000000       0.000000   \n",
              "50%       -3254.000000       1.000000  ...       0.000000       0.000000   \n",
              "75%       -1720.000000       1.000000  ...       1.000000       0.000000   \n",
              "max           0.000000       1.000000  ...       1.000000       1.000000   \n",
              "\n",
              "       CNT_FAM_MEMBERS  REG_REGION_NOT_LIVE_REGION  \\\n",
              "count    307508.000000               307508.000000   \n",
              "mean          2.152546                    0.015144   \n",
              "std           0.909544                    0.122127   \n",
              "min           1.000000                    0.000000   \n",
              "25%           2.000000                    0.000000   \n",
              "50%           2.000000                    0.000000   \n",
              "75%           3.000000                    0.000000   \n",
              "max          16.000000                    1.000000   \n",
              "\n",
              "       REG_REGION_NOT_WORK_REGION  LIVE_REGION_NOT_WORK_REGION  \\\n",
              "count               307508.000000                307508.000000   \n",
              "mean                     0.050769                     0.040659   \n",
              "std                      0.219527                     0.197500   \n",
              "min                      0.000000                     0.000000   \n",
              "25%                      0.000000                     0.000000   \n",
              "50%                      0.000000                     0.000000   \n",
              "75%                      0.000000                     0.000000   \n",
              "max                      1.000000                     1.000000   \n",
              "\n",
              "       REG_CITY_NOT_LIVE_CITY  REG_CITY_NOT_WORK_CITY  \\\n",
              "count           307508.000000           307508.000000   \n",
              "mean                 0.078174                0.230456   \n",
              "std                  0.268445                0.421125   \n",
              "min                  0.000000                0.000000   \n",
              "25%                  0.000000                0.000000   \n",
              "50%                  0.000000                0.000000   \n",
              "75%                  0.000000                0.000000   \n",
              "max                  1.000000                1.000000   \n",
              "\n",
              "       LIVE_CITY_NOT_WORK_CITY         TARGET  \n",
              "count            307508.000000  307508.000000  \n",
              "mean                  0.179556       0.080726  \n",
              "std                   0.383818       0.272415  \n",
              "min                   0.000000       0.000000  \n",
              "25%                   0.000000       0.000000  \n",
              "50%                   0.000000       0.000000  \n",
              "75%                   0.000000       0.000000  \n",
              "max                   1.000000       1.000000  \n",
              "\n",
              "[8 rows x 23 columns]"
            ],
            "text/html": [
              "\n",
              "  <div id=\"df-26331cff-903b-419b-9c20-63dcd5949632\" class=\"colab-df-container\">\n",
              "    <div>\n",
              "<style scoped>\n",
              "    .dataframe tbody tr th:only-of-type {\n",
              "        vertical-align: middle;\n",
              "    }\n",
              "\n",
              "    .dataframe tbody tr th {\n",
              "        vertical-align: top;\n",
              "    }\n",
              "\n",
              "    .dataframe thead th {\n",
              "        text-align: right;\n",
              "    }\n",
              "</style>\n",
              "<table border=\"1\" class=\"dataframe\">\n",
              "  <thead>\n",
              "    <tr style=\"text-align: right;\">\n",
              "      <th></th>\n",
              "      <th>CNT_CHILDREN</th>\n",
              "      <th>AMT_INCOME_TOTAL</th>\n",
              "      <th>AMT_CREDIT</th>\n",
              "      <th>AMT_ANNUITY</th>\n",
              "      <th>AMT_GOODS_PRICE</th>\n",
              "      <th>DAYS_BIRTH</th>\n",
              "      <th>DAYS_EMPLOYED</th>\n",
              "      <th>DAYS_REGISTRATION</th>\n",
              "      <th>DAYS_ID_PUBLISH</th>\n",
              "      <th>FLAG_MOBIL</th>\n",
              "      <th>...</th>\n",
              "      <th>FLAG_PHONE</th>\n",
              "      <th>FLAG_EMAIL</th>\n",
              "      <th>CNT_FAM_MEMBERS</th>\n",
              "      <th>REG_REGION_NOT_LIVE_REGION</th>\n",
              "      <th>REG_REGION_NOT_WORK_REGION</th>\n",
              "      <th>LIVE_REGION_NOT_WORK_REGION</th>\n",
              "      <th>REG_CITY_NOT_LIVE_CITY</th>\n",
              "      <th>REG_CITY_NOT_WORK_CITY</th>\n",
              "      <th>LIVE_CITY_NOT_WORK_CITY</th>\n",
              "      <th>TARGET</th>\n",
              "    </tr>\n",
              "  </thead>\n",
              "  <tbody>\n",
              "    <tr>\n",
              "      <th>count</th>\n",
              "      <td>307508.000000</td>\n",
              "      <td>3.075080e+05</td>\n",
              "      <td>3.075080e+05</td>\n",
              "      <td>307508.000000</td>\n",
              "      <td>3.075080e+05</td>\n",
              "      <td>307508.000000</td>\n",
              "      <td>307508.000000</td>\n",
              "      <td>307508.000000</td>\n",
              "      <td>307508.000000</td>\n",
              "      <td>307508.000000</td>\n",
              "      <td>...</td>\n",
              "      <td>307508.000000</td>\n",
              "      <td>307508.000000</td>\n",
              "      <td>307508.000000</td>\n",
              "      <td>307508.000000</td>\n",
              "      <td>307508.000000</td>\n",
              "      <td>307508.000000</td>\n",
              "      <td>307508.000000</td>\n",
              "      <td>307508.000000</td>\n",
              "      <td>307508.000000</td>\n",
              "      <td>307508.000000</td>\n",
              "    </tr>\n",
              "    <tr>\n",
              "      <th>mean</th>\n",
              "      <td>0.416929</td>\n",
              "      <td>1.684184e+05</td>\n",
              "      <td>5.990287e+05</td>\n",
              "      <td>27108.593370</td>\n",
              "      <td>5.383189e+05</td>\n",
              "      <td>-16037.041056</td>\n",
              "      <td>63815.680412</td>\n",
              "      <td>-4986.121522</td>\n",
              "      <td>-2994.208863</td>\n",
              "      <td>0.999997</td>\n",
              "      <td>...</td>\n",
              "      <td>0.281063</td>\n",
              "      <td>0.056720</td>\n",
              "      <td>2.152546</td>\n",
              "      <td>0.015144</td>\n",
              "      <td>0.050769</td>\n",
              "      <td>0.040659</td>\n",
              "      <td>0.078174</td>\n",
              "      <td>0.230456</td>\n",
              "      <td>0.179556</td>\n",
              "      <td>0.080726</td>\n",
              "    </tr>\n",
              "    <tr>\n",
              "      <th>std</th>\n",
              "      <td>0.720567</td>\n",
              "      <td>1.088121e+05</td>\n",
              "      <td>4.024914e+05</td>\n",
              "      <td>14493.474419</td>\n",
              "      <td>3.692896e+05</td>\n",
              "      <td>4363.984039</td>\n",
              "      <td>141276.309590</td>\n",
              "      <td>3522.900371</td>\n",
              "      <td>1509.451711</td>\n",
              "      <td>0.001803</td>\n",
              "      <td>...</td>\n",
              "      <td>0.449519</td>\n",
              "      <td>0.231308</td>\n",
              "      <td>0.909544</td>\n",
              "      <td>0.122127</td>\n",
              "      <td>0.219527</td>\n",
              "      <td>0.197500</td>\n",
              "      <td>0.268445</td>\n",
              "      <td>0.421125</td>\n",
              "      <td>0.383818</td>\n",
              "      <td>0.272415</td>\n",
              "    </tr>\n",
              "    <tr>\n",
              "      <th>min</th>\n",
              "      <td>0.000000</td>\n",
              "      <td>2.565000e+04</td>\n",
              "      <td>4.500000e+04</td>\n",
              "      <td>1615.500000</td>\n",
              "      <td>4.050000e+04</td>\n",
              "      <td>-25229.000000</td>\n",
              "      <td>-17912.000000</td>\n",
              "      <td>-24672.000000</td>\n",
              "      <td>-7197.000000</td>\n",
              "      <td>0.000000</td>\n",
              "      <td>...</td>\n",
              "      <td>0.000000</td>\n",
              "      <td>0.000000</td>\n",
              "      <td>1.000000</td>\n",
              "      <td>0.000000</td>\n",
              "      <td>0.000000</td>\n",
              "      <td>0.000000</td>\n",
              "      <td>0.000000</td>\n",
              "      <td>0.000000</td>\n",
              "      <td>0.000000</td>\n",
              "      <td>0.000000</td>\n",
              "    </tr>\n",
              "    <tr>\n",
              "      <th>25%</th>\n",
              "      <td>0.000000</td>\n",
              "      <td>1.125000e+05</td>\n",
              "      <td>2.700000e+05</td>\n",
              "      <td>16524.000000</td>\n",
              "      <td>2.385000e+05</td>\n",
              "      <td>-19682.000000</td>\n",
              "      <td>-2760.000000</td>\n",
              "      <td>-7480.000000</td>\n",
              "      <td>-4299.000000</td>\n",
              "      <td>1.000000</td>\n",
              "      <td>...</td>\n",
              "      <td>0.000000</td>\n",
              "      <td>0.000000</td>\n",
              "      <td>2.000000</td>\n",
              "      <td>0.000000</td>\n",
              "      <td>0.000000</td>\n",
              "      <td>0.000000</td>\n",
              "      <td>0.000000</td>\n",
              "      <td>0.000000</td>\n",
              "      <td>0.000000</td>\n",
              "      <td>0.000000</td>\n",
              "    </tr>\n",
              "    <tr>\n",
              "      <th>50%</th>\n",
              "      <td>0.000000</td>\n",
              "      <td>1.471500e+05</td>\n",
              "      <td>5.135310e+05</td>\n",
              "      <td>24903.000000</td>\n",
              "      <td>4.500000e+05</td>\n",
              "      <td>-15750.000000</td>\n",
              "      <td>-1213.500000</td>\n",
              "      <td>-4504.000000</td>\n",
              "      <td>-3254.000000</td>\n",
              "      <td>1.000000</td>\n",
              "      <td>...</td>\n",
              "      <td>0.000000</td>\n",
              "      <td>0.000000</td>\n",
              "      <td>2.000000</td>\n",
              "      <td>0.000000</td>\n",
              "      <td>0.000000</td>\n",
              "      <td>0.000000</td>\n",
              "      <td>0.000000</td>\n",
              "      <td>0.000000</td>\n",
              "      <td>0.000000</td>\n",
              "      <td>0.000000</td>\n",
              "    </tr>\n",
              "    <tr>\n",
              "      <th>75%</th>\n",
              "      <td>1.000000</td>\n",
              "      <td>2.025000e+05</td>\n",
              "      <td>8.086500e+05</td>\n",
              "      <td>34596.000000</td>\n",
              "      <td>6.795000e+05</td>\n",
              "      <td>-12413.000000</td>\n",
              "      <td>-289.000000</td>\n",
              "      <td>-2009.750000</td>\n",
              "      <td>-1720.000000</td>\n",
              "      <td>1.000000</td>\n",
              "      <td>...</td>\n",
              "      <td>1.000000</td>\n",
              "      <td>0.000000</td>\n",
              "      <td>3.000000</td>\n",
              "      <td>0.000000</td>\n",
              "      <td>0.000000</td>\n",
              "      <td>0.000000</td>\n",
              "      <td>0.000000</td>\n",
              "      <td>0.000000</td>\n",
              "      <td>0.000000</td>\n",
              "      <td>0.000000</td>\n",
              "    </tr>\n",
              "    <tr>\n",
              "      <th>max</th>\n",
              "      <td>14.000000</td>\n",
              "      <td>1.800009e+07</td>\n",
              "      <td>4.050000e+06</td>\n",
              "      <td>258025.500000</td>\n",
              "      <td>4.050000e+06</td>\n",
              "      <td>-7489.000000</td>\n",
              "      <td>365243.000000</td>\n",
              "      <td>0.000000</td>\n",
              "      <td>0.000000</td>\n",
              "      <td>1.000000</td>\n",
              "      <td>...</td>\n",
              "      <td>1.000000</td>\n",
              "      <td>1.000000</td>\n",
              "      <td>16.000000</td>\n",
              "      <td>1.000000</td>\n",
              "      <td>1.000000</td>\n",
              "      <td>1.000000</td>\n",
              "      <td>1.000000</td>\n",
              "      <td>1.000000</td>\n",
              "      <td>1.000000</td>\n",
              "      <td>1.000000</td>\n",
              "    </tr>\n",
              "  </tbody>\n",
              "</table>\n",
              "<p>8 rows × 23 columns</p>\n",
              "</div>\n",
              "    <div class=\"colab-df-buttons\">\n",
              "\n",
              "  <div class=\"colab-df-container\">\n",
              "    <button class=\"colab-df-convert\" onclick=\"convertToInteractive('df-26331cff-903b-419b-9c20-63dcd5949632')\"\n",
              "            title=\"Convert this dataframe to an interactive table.\"\n",
              "            style=\"display:none;\">\n",
              "\n",
              "  <svg xmlns=\"http://www.w3.org/2000/svg\" height=\"24px\" viewBox=\"0 -960 960 960\">\n",
              "    <path d=\"M120-120v-720h720v720H120Zm60-500h600v-160H180v160Zm220 220h160v-160H400v160Zm0 220h160v-160H400v160ZM180-400h160v-160H180v160Zm440 0h160v-160H620v160ZM180-180h160v-160H180v160Zm440 0h160v-160H620v160Z\"/>\n",
              "  </svg>\n",
              "    </button>\n",
              "\n",
              "  <style>\n",
              "    .colab-df-container {\n",
              "      display:flex;\n",
              "      gap: 12px;\n",
              "    }\n",
              "\n",
              "    .colab-df-convert {\n",
              "      background-color: #E8F0FE;\n",
              "      border: none;\n",
              "      border-radius: 50%;\n",
              "      cursor: pointer;\n",
              "      display: none;\n",
              "      fill: #1967D2;\n",
              "      height: 32px;\n",
              "      padding: 0 0 0 0;\n",
              "      width: 32px;\n",
              "    }\n",
              "\n",
              "    .colab-df-convert:hover {\n",
              "      background-color: #E2EBFA;\n",
              "      box-shadow: 0px 1px 2px rgba(60, 64, 67, 0.3), 0px 1px 3px 1px rgba(60, 64, 67, 0.15);\n",
              "      fill: #174EA6;\n",
              "    }\n",
              "\n",
              "    .colab-df-buttons div {\n",
              "      margin-bottom: 4px;\n",
              "    }\n",
              "\n",
              "    [theme=dark] .colab-df-convert {\n",
              "      background-color: #3B4455;\n",
              "      fill: #D2E3FC;\n",
              "    }\n",
              "\n",
              "    [theme=dark] .colab-df-convert:hover {\n",
              "      background-color: #434B5C;\n",
              "      box-shadow: 0px 1px 3px 1px rgba(0, 0, 0, 0.15);\n",
              "      filter: drop-shadow(0px 1px 2px rgba(0, 0, 0, 0.3));\n",
              "      fill: #FFFFFF;\n",
              "    }\n",
              "  </style>\n",
              "\n",
              "    <script>\n",
              "      const buttonEl =\n",
              "        document.querySelector('#df-26331cff-903b-419b-9c20-63dcd5949632 button.colab-df-convert');\n",
              "      buttonEl.style.display =\n",
              "        google.colab.kernel.accessAllowed ? 'block' : 'none';\n",
              "\n",
              "      async function convertToInteractive(key) {\n",
              "        const element = document.querySelector('#df-26331cff-903b-419b-9c20-63dcd5949632');\n",
              "        const dataTable =\n",
              "          await google.colab.kernel.invokeFunction('convertToInteractive',\n",
              "                                                    [key], {});\n",
              "        if (!dataTable) return;\n",
              "\n",
              "        const docLinkHtml = 'Like what you see? Visit the ' +\n",
              "          '<a target=\"_blank\" href=https://colab.research.google.com/notebooks/data_table.ipynb>data table notebook</a>'\n",
              "          + ' to learn more about interactive tables.';\n",
              "        element.innerHTML = '';\n",
              "        dataTable['output_type'] = 'display_data';\n",
              "        await google.colab.output.renderOutput(dataTable, element);\n",
              "        const docLink = document.createElement('div');\n",
              "        docLink.innerHTML = docLinkHtml;\n",
              "        element.appendChild(docLink);\n",
              "      }\n",
              "    </script>\n",
              "  </div>\n",
              "\n",
              "\n",
              "    <div id=\"df-22ca245c-ad95-4c8d-b357-981f8fbe31bc\">\n",
              "      <button class=\"colab-df-quickchart\" onclick=\"quickchart('df-22ca245c-ad95-4c8d-b357-981f8fbe31bc')\"\n",
              "                title=\"Suggest charts\"\n",
              "                style=\"display:none;\">\n",
              "\n",
              "<svg xmlns=\"http://www.w3.org/2000/svg\" height=\"24px\"viewBox=\"0 0 24 24\"\n",
              "     width=\"24px\">\n",
              "    <g>\n",
              "        <path d=\"M19 3H5c-1.1 0-2 .9-2 2v14c0 1.1.9 2 2 2h14c1.1 0 2-.9 2-2V5c0-1.1-.9-2-2-2zM9 17H7v-7h2v7zm4 0h-2V7h2v10zm4 0h-2v-4h2v4z\"/>\n",
              "    </g>\n",
              "</svg>\n",
              "      </button>\n",
              "\n",
              "<style>\n",
              "  .colab-df-quickchart {\n",
              "      --bg-color: #E8F0FE;\n",
              "      --fill-color: #1967D2;\n",
              "      --hover-bg-color: #E2EBFA;\n",
              "      --hover-fill-color: #174EA6;\n",
              "      --disabled-fill-color: #AAA;\n",
              "      --disabled-bg-color: #DDD;\n",
              "  }\n",
              "\n",
              "  [theme=dark] .colab-df-quickchart {\n",
              "      --bg-color: #3B4455;\n",
              "      --fill-color: #D2E3FC;\n",
              "      --hover-bg-color: #434B5C;\n",
              "      --hover-fill-color: #FFFFFF;\n",
              "      --disabled-bg-color: #3B4455;\n",
              "      --disabled-fill-color: #666;\n",
              "  }\n",
              "\n",
              "  .colab-df-quickchart {\n",
              "    background-color: var(--bg-color);\n",
              "    border: none;\n",
              "    border-radius: 50%;\n",
              "    cursor: pointer;\n",
              "    display: none;\n",
              "    fill: var(--fill-color);\n",
              "    height: 32px;\n",
              "    padding: 0;\n",
              "    width: 32px;\n",
              "  }\n",
              "\n",
              "  .colab-df-quickchart:hover {\n",
              "    background-color: var(--hover-bg-color);\n",
              "    box-shadow: 0 1px 2px rgba(60, 64, 67, 0.3), 0 1px 3px 1px rgba(60, 64, 67, 0.15);\n",
              "    fill: var(--button-hover-fill-color);\n",
              "  }\n",
              "\n",
              "  .colab-df-quickchart-complete:disabled,\n",
              "  .colab-df-quickchart-complete:disabled:hover {\n",
              "    background-color: var(--disabled-bg-color);\n",
              "    fill: var(--disabled-fill-color);\n",
              "    box-shadow: none;\n",
              "  }\n",
              "\n",
              "  .colab-df-spinner {\n",
              "    border: 2px solid var(--fill-color);\n",
              "    border-color: transparent;\n",
              "    border-bottom-color: var(--fill-color);\n",
              "    animation:\n",
              "      spin 1s steps(1) infinite;\n",
              "  }\n",
              "\n",
              "  @keyframes spin {\n",
              "    0% {\n",
              "      border-color: transparent;\n",
              "      border-bottom-color: var(--fill-color);\n",
              "      border-left-color: var(--fill-color);\n",
              "    }\n",
              "    20% {\n",
              "      border-color: transparent;\n",
              "      border-left-color: var(--fill-color);\n",
              "      border-top-color: var(--fill-color);\n",
              "    }\n",
              "    30% {\n",
              "      border-color: transparent;\n",
              "      border-left-color: var(--fill-color);\n",
              "      border-top-color: var(--fill-color);\n",
              "      border-right-color: var(--fill-color);\n",
              "    }\n",
              "    40% {\n",
              "      border-color: transparent;\n",
              "      border-right-color: var(--fill-color);\n",
              "      border-top-color: var(--fill-color);\n",
              "    }\n",
              "    60% {\n",
              "      border-color: transparent;\n",
              "      border-right-color: var(--fill-color);\n",
              "    }\n",
              "    80% {\n",
              "      border-color: transparent;\n",
              "      border-right-color: var(--fill-color);\n",
              "      border-bottom-color: var(--fill-color);\n",
              "    }\n",
              "    90% {\n",
              "      border-color: transparent;\n",
              "      border-bottom-color: var(--fill-color);\n",
              "    }\n",
              "  }\n",
              "</style>\n",
              "\n",
              "      <script>\n",
              "        async function quickchart(key) {\n",
              "          const quickchartButtonEl =\n",
              "            document.querySelector('#' + key + ' button');\n",
              "          quickchartButtonEl.disabled = true;  // To prevent multiple clicks.\n",
              "          quickchartButtonEl.classList.add('colab-df-spinner');\n",
              "          try {\n",
              "            const charts = await google.colab.kernel.invokeFunction(\n",
              "                'suggestCharts', [key], {});\n",
              "          } catch (error) {\n",
              "            console.error('Error during call to suggestCharts:', error);\n",
              "          }\n",
              "          quickchartButtonEl.classList.remove('colab-df-spinner');\n",
              "          quickchartButtonEl.classList.add('colab-df-quickchart-complete');\n",
              "        }\n",
              "        (() => {\n",
              "          let quickchartButtonEl =\n",
              "            document.querySelector('#df-22ca245c-ad95-4c8d-b357-981f8fbe31bc button');\n",
              "          quickchartButtonEl.style.display =\n",
              "            google.colab.kernel.accessAllowed ? 'block' : 'none';\n",
              "        })();\n",
              "      </script>\n",
              "    </div>\n",
              "\n",
              "    </div>\n",
              "  </div>\n"
            ],
            "application/vnd.google.colaboratory.intrinsic+json": {
              "type": "dataframe"
            }
          },
          "metadata": {},
          "execution_count": 38
        }
      ],
      "source": [
        "df.describe()"
      ]
    },
    {
      "cell_type": "code",
      "execution_count": null,
      "metadata": {
        "id": "LZgWPvroDwy1",
        "outputId": "0bc8b682-7c08-4d3a-a3b3-21f43fe3508a",
        "colab": {
          "base_uri": "https://localhost:8080/",
          "height": 633
        }
      },
      "outputs": [
        {
          "output_type": "execute_result",
          "data": {
            "text/plain": [
              "<function matplotlib.pyplot.show(close=None, block=None)>"
            ],
            "text/html": [
              "<div style=\"max-width:800px; border: 1px solid var(--colab-border-color);\"><style>\n",
              "      pre.function-repr-contents {\n",
              "        overflow-x: auto;\n",
              "        padding: 8px 12px;\n",
              "        max-height: 500px;\n",
              "      }\n",
              "\n",
              "      pre.function-repr-contents.function-repr-contents-collapsed {\n",
              "        cursor: pointer;\n",
              "        max-height: 100px;\n",
              "      }\n",
              "    </style>\n",
              "    <pre style=\"white-space: initial; background:\n",
              "         var(--colab-secondary-surface-color); padding: 8px 12px;\n",
              "         border-bottom: 1px solid var(--colab-border-color);\"><b>matplotlib.pyplot.show</b><br/>def show(*args, **kwargs) -&gt; None</pre><pre class=\"function-repr-contents function-repr-contents-collapsed\" style=\"\"><a class=\"filepath\" style=\"display:none\" href=\"#\">/usr/local/lib/python3.11/dist-packages/matplotlib/pyplot.py</a>Display all open figures.\n",
              "\n",
              "Parameters\n",
              "----------\n",
              "block : bool, optional\n",
              "    Whether to wait for all figures to be closed before returning.\n",
              "\n",
              "    If `True` block and run the GUI main loop until all figure windows\n",
              "    are closed.\n",
              "\n",
              "    If `False` ensure that all figure windows are displayed and return\n",
              "    immediately.  In this case, you are responsible for ensuring\n",
              "    that the event loop is running to have responsive figures.\n",
              "\n",
              "    Defaults to True in non-interactive mode and to False in interactive\n",
              "    mode (see `.pyplot.isinteractive`).\n",
              "\n",
              "See Also\n",
              "--------\n",
              "ion : Enable interactive mode, which shows / updates the figure after\n",
              "      every plotting command, so that calling ``show()`` is not necessary.\n",
              "ioff : Disable interactive mode.\n",
              "savefig : Save the figure to an image file instead of showing it on screen.\n",
              "\n",
              "Notes\n",
              "-----\n",
              "**Saving figures to file and showing a window at the same time**\n",
              "\n",
              "If you want an image file as well as a user interface window, use\n",
              "`.pyplot.savefig` before `.pyplot.show`. At the end of (a blocking)\n",
              "``show()`` the figure is closed and thus unregistered from pyplot. Calling\n",
              "`.pyplot.savefig` afterwards would save a new and thus empty figure. This\n",
              "limitation of command order does not apply if the show is non-blocking or\n",
              "if you keep a reference to the figure and use `.Figure.savefig`.\n",
              "\n",
              "**Auto-show in jupyter notebooks**\n",
              "\n",
              "The jupyter backends (activated via ``%matplotlib inline``,\n",
              "``%matplotlib notebook``, or ``%matplotlib widget``), call ``show()`` at\n",
              "the end of every cell by default. Thus, you usually don&#x27;t have to call it\n",
              "explicitly there.</pre>\n",
              "      <script>\n",
              "      if (google.colab.kernel.accessAllowed && google.colab.files && google.colab.files.view) {\n",
              "        for (const element of document.querySelectorAll('.filepath')) {\n",
              "          element.style.display = 'block'\n",
              "          element.onclick = (event) => {\n",
              "            event.preventDefault();\n",
              "            event.stopPropagation();\n",
              "            google.colab.files.view(element.textContent, 569);\n",
              "          };\n",
              "        }\n",
              "      }\n",
              "      for (const element of document.querySelectorAll('.function-repr-contents')) {\n",
              "        element.onclick = (event) => {\n",
              "          event.preventDefault();\n",
              "          event.stopPropagation();\n",
              "          element.classList.toggle('function-repr-contents-collapsed');\n",
              "        };\n",
              "      }\n",
              "      </script>\n",
              "      </div>"
            ]
          },
          "metadata": {},
          "execution_count": 39
        },
        {
          "output_type": "display_data",
          "data": {
            "text/plain": [
              "<Figure size 640x480 with 1 Axes>"
            ],
            "image/png": "[encoded data removed]"
          },
          "metadata": {}
        }
      ],
      "source": [
        "plt.scatter(df['AMT_INCOME_TOTAL'], df['AMT_INCOME_TOTAL']) #checking the data points again\n",
        "plt.show\n",
        "#We now have a more compact data set in terms of AMT_INCOME_TOTAL but it's still spread out.\n",
        "#Let's drop values using the IQR."
      ]
    },
    {
      "cell_type": "code",
      "execution_count": null,
      "metadata": {
        "id": "28YvAEfYDwy2",
        "outputId": "00af9ee1-0003-4d55-8907-989ebe6fc84f",
        "colab": {
          "base_uri": "https://localhost:8080/",
          "height": 418
        }
      },
      "outputs": [
        {
          "output_type": "error",
          "ename": "TypeError",
          "evalue": "unsupported operand type(s) for -: 'str' and 'str'",
          "traceback": [
            "\u001b[0;31m---------------------------------------------------------------------------\u001b[0m",
            "\u001b[0;31mTypeError\u001b[0m                                 Traceback (most recent call last)",
            "\u001b[0;32m/tmp/ipython-input-40-154732965.py\u001b[0m in \u001b[0;36m<cell line: 0>\u001b[0;34m()\u001b[0m\n\u001b[1;32m      1\u001b[0m \u001b[0;31m#Find Inter Quartile Range (IQR)\u001b[0m\u001b[0;34m\u001b[0m\u001b[0;34m\u001b[0m\u001b[0m\n\u001b[1;32m      2\u001b[0m \u001b[0;31m#Find the middle of the range between quantile 1 and quantile 3\u001b[0m\u001b[0;34m\u001b[0m\u001b[0;34m\u001b[0m\u001b[0m\n\u001b[0;32m----> 3\u001b[0;31m \u001b[0mQ1\u001b[0m \u001b[0;34m=\u001b[0m \u001b[0mdf\u001b[0m\u001b[0;34m.\u001b[0m\u001b[0mquantile\u001b[0m\u001b[0;34m(\u001b[0m\u001b[0;36m0.25\u001b[0m\u001b[0;34m)\u001b[0m\u001b[0;34m\u001b[0m\u001b[0;34m\u001b[0m\u001b[0m\n\u001b[0m\u001b[1;32m      4\u001b[0m \u001b[0mQ3\u001b[0m \u001b[0;34m=\u001b[0m \u001b[0mdf\u001b[0m\u001b[0;34m.\u001b[0m\u001b[0mquantile\u001b[0m\u001b[0;34m(\u001b[0m\u001b[0;36m0.75\u001b[0m\u001b[0;34m)\u001b[0m\u001b[0;34m\u001b[0m\u001b[0;34m\u001b[0m\u001b[0m\n\u001b[1;32m      5\u001b[0m \u001b[0;31m#subtract Q3 from Q1 - this will give the desired range of data\u001b[0m\u001b[0;34m\u001b[0m\u001b[0;34m\u001b[0m\u001b[0m\n",
            "\u001b[0;32m/usr/local/lib/python3.11/dist-packages/pandas/core/frame.py\u001b[0m in \u001b[0;36mquantile\u001b[0;34m(self, q, axis, numeric_only, interpolation, method)\u001b[0m\n\u001b[1;32m  12144\u001b[0m             \u001b[0;31m# error: List item 0 has incompatible type \"float | ExtensionArray |\u001b[0m\u001b[0;34m\u001b[0m\u001b[0;34m\u001b[0m\u001b[0m\n\u001b[1;32m  12145\u001b[0m             \u001b[0;31m# ndarray[Any, Any] | Index | Series | Sequence[float]\"; expected \"float\"\u001b[0m\u001b[0;34m\u001b[0m\u001b[0;34m\u001b[0m\u001b[0m\n\u001b[0;32m> 12146\u001b[0;31m             res_df = self.quantile(\n\u001b[0m\u001b[1;32m  12147\u001b[0m                 \u001b[0;34m[\u001b[0m\u001b[0mq\u001b[0m\u001b[0;34m]\u001b[0m\u001b[0;34m,\u001b[0m  \u001b[0;31m# type: ignore[list-item]\u001b[0m\u001b[0;34m\u001b[0m\u001b[0;34m\u001b[0m\u001b[0m\n\u001b[1;32m  12148\u001b[0m                 \u001b[0maxis\u001b[0m\u001b[0;34m=\u001b[0m\u001b[0maxis\u001b[0m\u001b[0;34m,\u001b[0m\u001b[0;34m\u001b[0m\u001b[0;34m\u001b[0m\u001b[0m\n",
            "\u001b[0;32m/usr/local/lib/python3.11/dist-packages/pandas/core/frame.py\u001b[0m in \u001b[0;36mquantile\u001b[0;34m(self, q, axis, numeric_only, interpolation, method)\u001b[0m\n\u001b[1;32m  12189\u001b[0m             )\n\u001b[1;32m  12190\u001b[0m         \u001b[0;32mif\u001b[0m \u001b[0mmethod\u001b[0m \u001b[0;34m==\u001b[0m \u001b[0;34m\"single\"\u001b[0m\u001b[0;34m:\u001b[0m\u001b[0;34m\u001b[0m\u001b[0;34m\u001b[0m\u001b[0m\n\u001b[0;32m> 12191\u001b[0;31m             \u001b[0mres\u001b[0m \u001b[0;34m=\u001b[0m \u001b[0mdata\u001b[0m\u001b[0;34m.\u001b[0m\u001b[0m_mgr\u001b[0m\u001b[0;34m.\u001b[0m\u001b[0mquantile\u001b[0m\u001b[0;34m(\u001b[0m\u001b[0mqs\u001b[0m\u001b[0;34m=\u001b[0m\u001b[0mq\u001b[0m\u001b[0;34m,\u001b[0m \u001b[0minterpolation\u001b[0m\u001b[0;34m=\u001b[0m\u001b[0minterpolation\u001b[0m\u001b[0;34m)\u001b[0m\u001b[0;34m\u001b[0m\u001b[0;34m\u001b[0m\u001b[0m\n\u001b[0m\u001b[1;32m  12192\u001b[0m         \u001b[0;32melif\u001b[0m \u001b[0mmethod\u001b[0m \u001b[0;34m==\u001b[0m \u001b[0;34m\"table\"\u001b[0m\u001b[0;34m:\u001b[0m\u001b[0;34m\u001b[0m\u001b[0;34m\u001b[0m\u001b[0m\n\u001b[1;32m  12193\u001b[0m             \u001b[0mvalid_interpolation\u001b[0m \u001b[0;34m=\u001b[0m \u001b[0;34m{\u001b[0m\u001b[0;34m\"nearest\"\u001b[0m\u001b[0;34m,\u001b[0m \u001b[0;34m\"lower\"\u001b[0m\u001b[0;34m,\u001b[0m \u001b[0;34m\"higher\"\u001b[0m\u001b[0;34m}\u001b[0m\u001b[0;34m\u001b[0m\u001b[0;34m\u001b[0m\u001b[0m\n",
            "\u001b[0;32m/usr/local/lib/python3.11/dist-packages/pandas/core/internals/managers.py\u001b[0m in \u001b[0;36mquantile\u001b[0;34m(self, qs, interpolation)\u001b[0m\n\u001b[1;32m   1546\u001b[0m         \u001b[0mnew_axes\u001b[0m\u001b[0;34m[\u001b[0m\u001b[0;36m1\u001b[0m\u001b[0;34m]\u001b[0m \u001b[0;34m=\u001b[0m \u001b[0mIndex\u001b[0m\u001b[0;34m(\u001b[0m\u001b[0mqs\u001b[0m\u001b[0;34m,\u001b[0m \u001b[0mdtype\u001b[0m\u001b[0;34m=\u001b[0m\u001b[0mnp\u001b[0m\u001b[0;34m.\u001b[0m\u001b[0mfloat64\u001b[0m\u001b[0;34m)\u001b[0m\u001b[0;34m\u001b[0m\u001b[0;34m\u001b[0m\u001b[0m\n\u001b[1;32m   1547\u001b[0m \u001b[0;34m\u001b[0m\u001b[0m\n\u001b[0;32m-> 1548\u001b[0;31m         blocks = [\n\u001b[0m\u001b[1;32m   1549\u001b[0m             \u001b[0mblk\u001b[0m\u001b[0;34m.\u001b[0m\u001b[0mquantile\u001b[0m\u001b[0;34m(\u001b[0m\u001b[0mqs\u001b[0m\u001b[0;34m=\u001b[0m\u001b[0mqs\u001b[0m\u001b[0;34m,\u001b[0m \u001b[0minterpolation\u001b[0m\u001b[0;34m=\u001b[0m\u001b[0minterpolation\u001b[0m\u001b[0;34m)\u001b[0m \u001b[0;32mfor\u001b[0m \u001b[0mblk\u001b[0m \u001b[0;32min\u001b[0m \u001b[0mself\u001b[0m\u001b[0;34m.\u001b[0m\u001b[0mblocks\u001b[0m\u001b[0;34m\u001b[0m\u001b[0;34m\u001b[0m\u001b[0m\n\u001b[1;32m   1550\u001b[0m         ]\n",
            "\u001b[0;32m/usr/local/lib/python3.11/dist-packages/pandas/core/internals/managers.py\u001b[0m in \u001b[0;36m<listcomp>\u001b[0;34m(.0)\u001b[0m\n\u001b[1;32m   1547\u001b[0m \u001b[0;34m\u001b[0m\u001b[0m\n\u001b[1;32m   1548\u001b[0m         blocks = [\n\u001b[0;32m-> 1549\u001b[0;31m             \u001b[0mblk\u001b[0m\u001b[0;34m.\u001b[0m\u001b[0mquantile\u001b[0m\u001b[0;34m(\u001b[0m\u001b[0mqs\u001b[0m\u001b[0;34m=\u001b[0m\u001b[0mqs\u001b[0m\u001b[0;34m,\u001b[0m \u001b[0minterpolation\u001b[0m\u001b[0;34m=\u001b[0m\u001b[0minterpolation\u001b[0m\u001b[0;34m)\u001b[0m \u001b[0;32mfor\u001b[0m \u001b[0mblk\u001b[0m \u001b[0;32min\u001b[0m \u001b[0mself\u001b[0m\u001b[0;34m.\u001b[0m\u001b[0mblocks\u001b[0m\u001b[0;34m\u001b[0m\u001b[0;34m\u001b[0m\u001b[0m\n\u001b[0m\u001b[1;32m   1550\u001b[0m         ]\n\u001b[1;32m   1551\u001b[0m \u001b[0;34m\u001b[0m\u001b[0m\n",
            "\u001b[0;32m/usr/local/lib/python3.11/dist-packages/pandas/core/internals/blocks.py\u001b[0m in \u001b[0;36mquantile\u001b[0;34m(self, qs, interpolation)\u001b[0m\n\u001b[1;32m   1889\u001b[0m         \u001b[0;32massert\u001b[0m \u001b[0mis_list_like\u001b[0m\u001b[0;34m(\u001b[0m\u001b[0mqs\u001b[0m\u001b[0;34m)\u001b[0m  \u001b[0;31m# caller is responsible for this\u001b[0m\u001b[0;34m\u001b[0m\u001b[0;34m\u001b[0m\u001b[0m\n\u001b[1;32m   1890\u001b[0m \u001b[0;34m\u001b[0m\u001b[0m\n\u001b[0;32m-> 1891\u001b[0;31m         \u001b[0mresult\u001b[0m \u001b[0;34m=\u001b[0m \u001b[0mquantile_compat\u001b[0m\u001b[0;34m(\u001b[0m\u001b[0mself\u001b[0m\u001b[0;34m.\u001b[0m\u001b[0mvalues\u001b[0m\u001b[0;34m,\u001b[0m \u001b[0mnp\u001b[0m\u001b[0;34m.\u001b[0m\u001b[0masarray\u001b[0m\u001b[0;34m(\u001b[0m\u001b[0mqs\u001b[0m\u001b[0;34m.\u001b[0m\u001b[0m_values\u001b[0m\u001b[0;34m)\u001b[0m\u001b[0;34m,\u001b[0m \u001b[0minterpolation\u001b[0m\u001b[0;34m)\u001b[0m\u001b[0;34m\u001b[0m\u001b[0;34m\u001b[0m\u001b[0m\n\u001b[0m\u001b[1;32m   1892\u001b[0m         \u001b[0;31m# ensure_block_shape needed for cases where we start with EA and result\u001b[0m\u001b[0;34m\u001b[0m\u001b[0;34m\u001b[0m\u001b[0m\n\u001b[1;32m   1893\u001b[0m         \u001b[0;31m#  is ndarray, e.g. IntegerArray, SparseArray\u001b[0m\u001b[0;34m\u001b[0m\u001b[0;34m\u001b[0m\u001b[0m\n",
            "\u001b[0;32m/usr/local/lib/python3.11/dist-packages/pandas/core/array_algos/quantile.py\u001b[0m in \u001b[0;36mquantile_compat\u001b[0;34m(values, qs, interpolation)\u001b[0m\n\u001b[1;32m     37\u001b[0m         \u001b[0mfill_value\u001b[0m \u001b[0;34m=\u001b[0m \u001b[0mna_value_for_dtype\u001b[0m\u001b[0;34m(\u001b[0m\u001b[0mvalues\u001b[0m\u001b[0;34m.\u001b[0m\u001b[0mdtype\u001b[0m\u001b[0;34m,\u001b[0m \u001b[0mcompat\u001b[0m\u001b[0;34m=\u001b[0m\u001b[0;32mFalse\u001b[0m\u001b[0;34m)\u001b[0m\u001b[0;34m\u001b[0m\u001b[0;34m\u001b[0m\u001b[0m\n\u001b[1;32m     38\u001b[0m         \u001b[0mmask\u001b[0m \u001b[0;34m=\u001b[0m \u001b[0misna\u001b[0m\u001b[0;34m(\u001b[0m\u001b[0mvalues\u001b[0m\u001b[0;34m)\u001b[0m\u001b[0;34m\u001b[0m\u001b[0;34m\u001b[0m\u001b[0m\n\u001b[0;32m---> 39\u001b[0;31m         \u001b[0;32mreturn\u001b[0m \u001b[0mquantile_with_mask\u001b[0m\u001b[0;34m(\u001b[0m\u001b[0mvalues\u001b[0m\u001b[0;34m,\u001b[0m \u001b[0mmask\u001b[0m\u001b[0;34m,\u001b[0m \u001b[0mfill_value\u001b[0m\u001b[0;34m,\u001b[0m \u001b[0mqs\u001b[0m\u001b[0;34m,\u001b[0m \u001b[0minterpolation\u001b[0m\u001b[0;34m)\u001b[0m\u001b[0;34m\u001b[0m\u001b[0;34m\u001b[0m\u001b[0m\n\u001b[0m\u001b[1;32m     40\u001b[0m     \u001b[0;32melse\u001b[0m\u001b[0;34m:\u001b[0m\u001b[0;34m\u001b[0m\u001b[0;34m\u001b[0m\u001b[0m\n\u001b[1;32m     41\u001b[0m         \u001b[0;32mreturn\u001b[0m \u001b[0mvalues\u001b[0m\u001b[0;34m.\u001b[0m\u001b[0m_quantile\u001b[0m\u001b[0;34m(\u001b[0m\u001b[0mqs\u001b[0m\u001b[0;34m,\u001b[0m \u001b[0minterpolation\u001b[0m\u001b[0;34m)\u001b[0m\u001b[0;34m\u001b[0m\u001b[0;34m\u001b[0m\u001b[0m\n",
            "\u001b[0;32m/usr/local/lib/python3.11/dist-packages/pandas/core/array_algos/quantile.py\u001b[0m in \u001b[0;36mquantile_with_mask\u001b[0;34m(values, mask, fill_value, qs, interpolation)\u001b[0m\n\u001b[1;32m     95\u001b[0m         \u001b[0mresult\u001b[0m \u001b[0;34m=\u001b[0m \u001b[0mnp\u001b[0m\u001b[0;34m.\u001b[0m\u001b[0mrepeat\u001b[0m\u001b[0;34m(\u001b[0m\u001b[0mflat\u001b[0m\u001b[0;34m,\u001b[0m \u001b[0mlen\u001b[0m\u001b[0;34m(\u001b[0m\u001b[0mvalues\u001b[0m\u001b[0;34m)\u001b[0m\u001b[0;34m)\u001b[0m\u001b[0;34m.\u001b[0m\u001b[0mreshape\u001b[0m\u001b[0;34m(\u001b[0m\u001b[0mlen\u001b[0m\u001b[0;34m(\u001b[0m\u001b[0mvalues\u001b[0m\u001b[0;34m)\u001b[0m\u001b[0;34m,\u001b[0m \u001b[0mlen\u001b[0m\u001b[0;34m(\u001b[0m\u001b[0mqs\u001b[0m\u001b[0;34m)\u001b[0m\u001b[0;34m)\u001b[0m\u001b[0;34m\u001b[0m\u001b[0;34m\u001b[0m\u001b[0m\n\u001b[1;32m     96\u001b[0m     \u001b[0;32melse\u001b[0m\u001b[0;34m:\u001b[0m\u001b[0;34m\u001b[0m\u001b[0;34m\u001b[0m\u001b[0m\n\u001b[0;32m---> 97\u001b[0;31m         result = _nanpercentile(\n\u001b[0m\u001b[1;32m     98\u001b[0m             \u001b[0mvalues\u001b[0m\u001b[0;34m,\u001b[0m\u001b[0;34m\u001b[0m\u001b[0;34m\u001b[0m\u001b[0m\n\u001b[1;32m     99\u001b[0m             \u001b[0mqs\u001b[0m \u001b[0;34m*\u001b[0m \u001b[0;36m100.0\u001b[0m\u001b[0;34m,\u001b[0m\u001b[0;34m\u001b[0m\u001b[0;34m\u001b[0m\u001b[0m\n",
            "\u001b[0;32m/usr/local/lib/python3.11/dist-packages/pandas/core/array_algos/quantile.py\u001b[0m in \u001b[0;36m_nanpercentile\u001b[0;34m(values, qs, na_value, mask, interpolation)\u001b[0m\n\u001b[1;32m    216\u001b[0m         \u001b[0;32mreturn\u001b[0m \u001b[0mresult\u001b[0m\u001b[0;34m\u001b[0m\u001b[0;34m\u001b[0m\u001b[0m\n\u001b[1;32m    217\u001b[0m     \u001b[0;32melse\u001b[0m\u001b[0;34m:\u001b[0m\u001b[0;34m\u001b[0m\u001b[0;34m\u001b[0m\u001b[0m\n\u001b[0;32m--> 218\u001b[0;31m         return np.percentile(\n\u001b[0m\u001b[1;32m    219\u001b[0m             \u001b[0mvalues\u001b[0m\u001b[0;34m,\u001b[0m\u001b[0;34m\u001b[0m\u001b[0;34m\u001b[0m\u001b[0m\n\u001b[1;32m    220\u001b[0m             \u001b[0mqs\u001b[0m\u001b[0;34m,\u001b[0m\u001b[0;34m\u001b[0m\u001b[0;34m\u001b[0m\u001b[0m\n",
            "\u001b[0;32m/usr/local/lib/python3.11/dist-packages/numpy/lib/_function_base_impl.py\u001b[0m in \u001b[0;36mpercentile\u001b[0;34m(a, q, axis, out, overwrite_input, method, keepdims, weights, interpolation)\u001b[0m\n\u001b[1;32m   4285\u001b[0m             \u001b[0;32mraise\u001b[0m \u001b[0mValueError\u001b[0m\u001b[0;34m(\u001b[0m\u001b[0;34m\"Weights must be non-negative.\"\u001b[0m\u001b[0;34m)\u001b[0m\u001b[0;34m\u001b[0m\u001b[0;34m\u001b[0m\u001b[0m\n\u001b[1;32m   4286\u001b[0m \u001b[0;34m\u001b[0m\u001b[0m\n\u001b[0;32m-> 4287\u001b[0;31m     return _quantile_unchecked(\n\u001b[0m\u001b[1;32m   4288\u001b[0m         a, q, axis, out, overwrite_input, method, keepdims, weights)\n\u001b[1;32m   4289\u001b[0m \u001b[0;34m\u001b[0m\u001b[0m\n",
            "\u001b[0;32m/usr/local/lib/python3.11/dist-packages/numpy/lib/_function_base_impl.py\u001b[0m in \u001b[0;36m_quantile_unchecked\u001b[0;34m(a, q, axis, out, overwrite_input, method, keepdims, weights)\u001b[0m\n\u001b[1;32m   4674\u001b[0m                         weights=None):\n\u001b[1;32m   4675\u001b[0m     \u001b[0;34m\"\"\"Assumes that q is in [0, 1], and is an ndarray\"\"\"\u001b[0m\u001b[0;34m\u001b[0m\u001b[0;34m\u001b[0m\u001b[0m\n\u001b[0;32m-> 4676\u001b[0;31m     return _ureduce(a,\n\u001b[0m\u001b[1;32m   4677\u001b[0m                     \u001b[0mfunc\u001b[0m\u001b[0;34m=\u001b[0m\u001b[0m_quantile_ureduce_func\u001b[0m\u001b[0;34m,\u001b[0m\u001b[0;34m\u001b[0m\u001b[0;34m\u001b[0m\u001b[0m\n\u001b[1;32m   4678\u001b[0m                     \u001b[0mq\u001b[0m\u001b[0;34m=\u001b[0m\u001b[0mq\u001b[0m\u001b[0;34m,\u001b[0m\u001b[0;34m\u001b[0m\u001b[0;34m\u001b[0m\u001b[0m\n",
            "\u001b[0;32m/usr/local/lib/python3.11/dist-packages/numpy/lib/_function_base_impl.py\u001b[0m in \u001b[0;36m_ureduce\u001b[0;34m(a, func, keepdims, **kwargs)\u001b[0m\n\u001b[1;32m   3762\u001b[0m                 \u001b[0mkwargs\u001b[0m\u001b[0;34m[\u001b[0m\u001b[0;34m'out'\u001b[0m\u001b[0;34m]\u001b[0m \u001b[0;34m=\u001b[0m \u001b[0mout\u001b[0m\u001b[0;34m[\u001b[0m\u001b[0;34m(\u001b[0m\u001b[0mEllipsis\u001b[0m\u001b[0;34m,\u001b[0m \u001b[0;34m)\u001b[0m \u001b[0;34m+\u001b[0m \u001b[0mindex_out\u001b[0m\u001b[0;34m]\u001b[0m\u001b[0;34m\u001b[0m\u001b[0;34m\u001b[0m\u001b[0m\n\u001b[1;32m   3763\u001b[0m \u001b[0;34m\u001b[0m\u001b[0m\n\u001b[0;32m-> 3764\u001b[0;31m     \u001b[0mr\u001b[0m \u001b[0;34m=\u001b[0m \u001b[0mfunc\u001b[0m\u001b[0;34m(\u001b[0m\u001b[0ma\u001b[0m\u001b[0;34m,\u001b[0m \u001b[0;34m**\u001b[0m\u001b[0mkwargs\u001b[0m\u001b[0;34m)\u001b[0m\u001b[0;34m\u001b[0m\u001b[0;34m\u001b[0m\u001b[0m\n\u001b[0m\u001b[1;32m   3765\u001b[0m \u001b[0;34m\u001b[0m\u001b[0m\n\u001b[1;32m   3766\u001b[0m     \u001b[0;32mif\u001b[0m \u001b[0mout\u001b[0m \u001b[0;32mis\u001b[0m \u001b[0;32mnot\u001b[0m \u001b[0;32mNone\u001b[0m\u001b[0;34m:\u001b[0m\u001b[0;34m\u001b[0m\u001b[0;34m\u001b[0m\u001b[0m\n",
            "\u001b[0;32m/usr/local/lib/python3.11/dist-packages/numpy/lib/_function_base_impl.py\u001b[0m in \u001b[0;36m_quantile_ureduce_func\u001b[0;34m(a, q, weights, axis, out, overwrite_input, method)\u001b[0m\n\u001b[1;32m   4851\u001b[0m             \u001b[0marr\u001b[0m \u001b[0;34m=\u001b[0m \u001b[0ma\u001b[0m\u001b[0;34m.\u001b[0m\u001b[0mcopy\u001b[0m\u001b[0;34m(\u001b[0m\u001b[0;34m)\u001b[0m\u001b[0;34m\u001b[0m\u001b[0;34m\u001b[0m\u001b[0m\n\u001b[1;32m   4852\u001b[0m             \u001b[0mwgt\u001b[0m \u001b[0;34m=\u001b[0m \u001b[0mweights\u001b[0m\u001b[0;34m\u001b[0m\u001b[0;34m\u001b[0m\u001b[0m\n\u001b[0;32m-> 4853\u001b[0;31m     result = _quantile(arr,\n\u001b[0m\u001b[1;32m   4854\u001b[0m                        \u001b[0mquantiles\u001b[0m\u001b[0;34m=\u001b[0m\u001b[0mq\u001b[0m\u001b[0;34m,\u001b[0m\u001b[0;34m\u001b[0m\u001b[0;34m\u001b[0m\u001b[0m\n\u001b[1;32m   4855\u001b[0m                        \u001b[0maxis\u001b[0m\u001b[0;34m=\u001b[0m\u001b[0maxis\u001b[0m\u001b[0;34m,\u001b[0m\u001b[0;34m\u001b[0m\u001b[0;34m\u001b[0m\u001b[0m\n",
            "\u001b[0;32m/usr/local/lib/python3.11/dist-packages/numpy/lib/_function_base_impl.py\u001b[0m in \u001b[0;36m_quantile\u001b[0;34m(arr, quantiles, axis, method, out, weights)\u001b[0m\n\u001b[1;32m   4983\u001b[0m             \u001b[0mresult_shape\u001b[0m \u001b[0;34m=\u001b[0m \u001b[0mvirtual_indexes\u001b[0m\u001b[0;34m.\u001b[0m\u001b[0mshape\u001b[0m \u001b[0;34m+\u001b[0m \u001b[0;34m(\u001b[0m\u001b[0;36m1\u001b[0m\u001b[0;34m,\u001b[0m\u001b[0;34m)\u001b[0m \u001b[0;34m*\u001b[0m \u001b[0;34m(\u001b[0m\u001b[0marr\u001b[0m\u001b[0;34m.\u001b[0m\u001b[0mndim\u001b[0m \u001b[0;34m-\u001b[0m \u001b[0;36m1\u001b[0m\u001b[0;34m)\u001b[0m\u001b[0;34m\u001b[0m\u001b[0;34m\u001b[0m\u001b[0m\n\u001b[1;32m   4984\u001b[0m             \u001b[0mgamma\u001b[0m \u001b[0;34m=\u001b[0m \u001b[0mgamma\u001b[0m\u001b[0;34m.\u001b[0m\u001b[0mreshape\u001b[0m\u001b[0;34m(\u001b[0m\u001b[0mresult_shape\u001b[0m\u001b[0;34m)\u001b[0m\u001b[0;34m\u001b[0m\u001b[0;34m\u001b[0m\u001b[0m\n\u001b[0;32m-> 4985\u001b[0;31m             result = _lerp(previous,\n\u001b[0m\u001b[1;32m   4986\u001b[0m                         \u001b[0mnext\u001b[0m\u001b[0;34m,\u001b[0m\u001b[0;34m\u001b[0m\u001b[0;34m\u001b[0m\u001b[0m\n\u001b[1;32m   4987\u001b[0m                         \u001b[0mgamma\u001b[0m\u001b[0;34m,\u001b[0m\u001b[0;34m\u001b[0m\u001b[0;34m\u001b[0m\u001b[0m\n",
            "\u001b[0;32m/usr/local/lib/python3.11/dist-packages/numpy/lib/_function_base_impl.py\u001b[0m in \u001b[0;36m_lerp\u001b[0;34m(a, b, t, out)\u001b[0m\n\u001b[1;32m   4777\u001b[0m         \u001b[0mOutput\u001b[0m \u001b[0marray\u001b[0m\u001b[0;34m.\u001b[0m\u001b[0;34m\u001b[0m\u001b[0;34m\u001b[0m\u001b[0m\n\u001b[1;32m   4778\u001b[0m     \"\"\"\n\u001b[0;32m-> 4779\u001b[0;31m     \u001b[0mdiff_b_a\u001b[0m \u001b[0;34m=\u001b[0m \u001b[0msubtract\u001b[0m\u001b[0;34m(\u001b[0m\u001b[0mb\u001b[0m\u001b[0;34m,\u001b[0m \u001b[0ma\u001b[0m\u001b[0;34m)\u001b[0m\u001b[0;34m\u001b[0m\u001b[0;34m\u001b[0m\u001b[0m\n\u001b[0m\u001b[1;32m   4780\u001b[0m     \u001b[0;31m# asanyarray is a stop-gap until gh-13105\u001b[0m\u001b[0;34m\u001b[0m\u001b[0;34m\u001b[0m\u001b[0m\n\u001b[1;32m   4781\u001b[0m     \u001b[0mlerp_interpolation\u001b[0m \u001b[0;34m=\u001b[0m \u001b[0masanyarray\u001b[0m\u001b[0;34m(\u001b[0m\u001b[0madd\u001b[0m\u001b[0;34m(\u001b[0m\u001b[0ma\u001b[0m\u001b[0;34m,\u001b[0m \u001b[0mdiff_b_a\u001b[0m \u001b[0;34m*\u001b[0m \u001b[0mt\u001b[0m\u001b[0;34m,\u001b[0m \u001b[0mout\u001b[0m\u001b[0;34m=\u001b[0m\u001b[0mout\u001b[0m\u001b[0;34m)\u001b[0m\u001b[0;34m)\u001b[0m\u001b[0;34m\u001b[0m\u001b[0;34m\u001b[0m\u001b[0m\n",
            "\u001b[0;31mTypeError\u001b[0m: unsupported operand type(s) for -: 'str' and 'str'"
          ]
        }
      ],
      "source": [
        "#Find Inter Quartile Range (IQR)\n",
        "#Find the middle of the range between quantile 1 and quantile 3\n",
        "Q1 = df.quantile(0.25)\n",
        "Q3 = df.quantile(0.75)\n",
        "#subtract Q3 from Q1 - this will give the desired range of data\n",
        "IQR = Q3 - Q1\n",
        "#here are the ranges for the entire table\n",
        "print(IQR)\n",
        "#Q1 = df.quantile(0.25)\n",
        "#Q3 = df.quantile(0.75)\n",
        "#IQR = Q3-Q1\n",
        "#print(IQR)"
      ]
    },
    {
      "cell_type": "code",
      "execution_count": null,
      "metadata": {
        "id": "AUuYj8RoDwy8"
      },
      "outputs": [],
      "source": [
        "#IQR just for the AMT_INCOME_TOTAL column\n",
        "IQRincomeTotal =  Q3['AMT_INCOME_TOTAL'] - Q1['AMT_INCOME_TOTAL']\n",
        "IQRincomeTotal"
      ]
    },
    {
      "cell_type": "code",
      "execution_count": null,
      "metadata": {
        "id": "kbdG9GW_Dwy8"
      },
      "outputs": [],
      "source": [
        "#set the lower acceptable limit\n",
        "#any value less than Q1 - (1.5*IQR) will be considered an outlier\n",
        "below = Q1['AMT_INCOME_TOTAL'] - 1.5 * IQRincomeTotal\n",
        "below\n",
        "#A negative value of -22500 so there won't be any lower outliers"
      ]
    },
    {
      "cell_type": "code",
      "execution_count": null,
      "metadata": {
        "id": "Y6eQeW8PDwy9"
      },
      "outputs": [],
      "source": [
        "#set the higher acceptable limit\n",
        "#any value above Q3 + (3*IQR) will be considered an outlier\n",
        "above = Q3['AMT_INCOME_TOTAL'] + 3 * IQRincomeTotal\n",
        "above\n",
        "#Note: After seeing the initial higher limit of $337,500.00, I decided to change the outlier coefficient from\n",
        "#1.5 to 3 to exclude only the extreme outliers.\n",
        "#above = 472500.0"
      ]
    },
    {
      "cell_type": "code",
      "execution_count": null,
      "metadata": {
        "id": "I5hbGGJvDwy9"
      },
      "outputs": [],
      "source": [
        "#Anything outside of above ($472,500.00) and below ($-22,500) will be considered an outlier.\n",
        "#The rows below are outliers. They are outside of the range of above and below.\n",
        "#This will show the list of outliers.\n",
        "df.loc[(df['AMT_INCOME_TOTAL']<below) | (df['AMT_INCOME_TOTAL'] > above)]\n",
        "#df.loc[(df['AMT_INCOME_TOTAL'] < below) | (df['AMT_INCOME_TOTAL'] > above)]"
      ]
    },
    {
      "cell_type": "code",
      "execution_count": null,
      "metadata": {
        "id": "dDIkaFheDwy9"
      },
      "outputs": [],
      "source": [
        "#Now we will create a new dataframe with only the non outliers.\n",
        "#Notice how the logic is flipped from the above statement.\n",
        "#This excludes all outliers and is written to a new dataframe.\n",
        "#To save keystrokes later on, I'll call it df2 instead of df_no_outlier\n",
        "df2 = df.loc[(df['AMT_INCOME_TOTAL'] >= below) & (df['AMT_INCOME_TOTAL'] <= above)]\n",
        "df2\n",
        "#At this point, there are now 304495 entries compared to the 307511 we started with.\n",
        "#df2=df.loc[(df['AMT_INCOME_TOTAL'] >= below) & (df['AMT_INCOME_TOTAL'] <= above)]"
      ]
    },
    {
      "cell_type": "code",
      "execution_count": null,
      "metadata": {
        "id": "6Ueds3BPDwy9"
      },
      "outputs": [],
      "source": [
        "plt.scatter(df2['AMT_INCOME_TOTAL'], df2['AMT_INCOME_TOTAL']) #checking the data points again\n",
        "plt.show\n",
        "#Now very compact in terms of income!"
      ]
    },
    {
      "cell_type": "code",
      "execution_count": null,
      "metadata": {
        "id": "VC5wNLFzDwy9"
      },
      "outputs": [],
      "source": [
        "#c. AMT_ANNUITY outliers\n",
        "plt.scatter(df2['AMT_ANNUITY'], df2['AMT_ANNUITY']) #let's examine the AMT_ANNUITY column\n",
        "plt.show"
      ]
    },
    {
      "cell_type": "code",
      "execution_count": null,
      "metadata": {
        "id": "HB9kboO7Dwy9"
      },
      "outputs": [],
      "source": [
        "#After dropping the outliers in the AMT_INCOME_TOTAL column,\n",
        "#the original maximum for AMT_ANNUITY ($258,025.50) was dropped as well.\n",
        "amtAnnuityMax = df2['AMT_ANNUITY'].max()\n",
        "amtAnnuityMax\n",
        "#The new maximum is $225,000.00"
      ]
    },
    {
      "cell_type": "code",
      "execution_count": null,
      "metadata": {
        "id": "y-T4Fk6YDwy9"
      },
      "outputs": [],
      "source": [
        "amtAnnuityMaxIndex = df2[df2['AMT_ANNUITY']==amtAnnuityMax].index.values\n",
        "amtAnnuityMaxIndex\n",
        "#Indices: 15501,  32100, 144204, 145707, 265026"
      ]
    },
    {
      "cell_type": "code",
      "execution_count": null,
      "metadata": {
        "id": "NZmwpDjYDwy9"
      },
      "outputs": [],
      "source": [
        "#We no longer have an outlier value to drop in AMT_ANNUITY (since we dropped them when dealing with the\n",
        "#AMT_INCOME_TOTAL column)."
      ]
    },
    {
      "cell_type": "code",
      "execution_count": null,
      "metadata": {
        "id": "DgFpvW1gDwy-"
      },
      "outputs": [],
      "source": [
        "#d. CNT_FAM_MEMBERS outliers\n",
        "plt.scatter(df2['CNT_FAM_MEMBERS'], df2['CNT_FAM_MEMBERS']) #And now let's explore the CNT_FAM_MEMBERS column\n",
        "plt.show\n",
        "#It seems the original outlier of 20 family members has been removed so no need to remove any more data points\n",
        "#from this column."
      ]
    },
    {
      "cell_type": "code",
      "execution_count": null,
      "metadata": {
        "id": "04aXb9kEDwy-"
      },
      "outputs": [],
      "source": [
        "#After dropping everything, let's reset the index values:\n",
        "df2 = df2.reset_index(drop=True)\n",
        "df2\n",
        "#df2 = df2.reset_index(drop=True)"
      ]
    },
    {
      "cell_type": "code",
      "execution_count": null,
      "metadata": {
        "id": "KGaCIjrQDwy-"
      },
      "outputs": [],
      "source": [
        "#Part 2 complete!"
      ]
    },
    {
      "cell_type": "code",
      "execution_count": null,
      "metadata": {
        "id": "RU4q3dUoDwy-"
      },
      "outputs": [],
      "source": [
        "# 3. Who are our clients?\n",
        "# The ABC Management team has no idea who their customers are. They don’t know anything about the type of\n",
        "# employment and age, income of their clients. They need to know some macro information about their data.\n",
        "# How much (total) do they have out in loans? How much are in default/late? What percentage of the business are\n",
        "# default and late?\n",
        "# Along with the information above, provide three other demographics of their customers.\n",
        "# Remember, we are dealing with senior management. The charts must be readable, meaningful and at a summary level.\n",
        "# Use at least one groupby or bin in your analysis."
      ]
    },
    {
      "cell_type": "code",
      "execution_count": null,
      "metadata": {
        "id": "8-FJbeo1Dwy-"
      },
      "outputs": [],
      "source": [
        "#a. Type of employment\n",
        "dfEmploySub = df2.groupby(['OCCUPATION_TYPE'])['OCCUPATION_TYPE'].count()\n",
        "#dfEmploySub = df2.groupby(['OCCUPATION_TYPE'])['OCCUPATION_TYPE'].count()"
      ]
    },
    {
      "cell_type": "code",
      "execution_count": null,
      "metadata": {
        "id": "0NbOBvaBDwy-"
      },
      "outputs": [],
      "source": [
        "dfEmploySub"
      ]
    },
    {
      "cell_type": "code",
      "execution_count": null,
      "metadata": {
        "id": "S3n1H5J-Dwy-"
      },
      "outputs": [],
      "source": [
        "type(dfEmploySub)"
      ]
    },
    {
      "cell_type": "code",
      "execution_count": null,
      "metadata": {
        "id": "JjKZKrVRDwy_"
      },
      "outputs": [],
      "source": [
        "dfEmploySub.plot(kind = 'barh', title = 'Occupation Types of Our Clients')\n",
        "plt.xlabel('Number of Clients')\n",
        "plt.ylabel('Occupation Type')\n",
        "#We see that, unfortunately, almost 100,000 clients did not provide information about their occupation type.\n",
        "#The industries with the largest counts among our clients are laborers, sales staff, core staff, and managers.\n",
        "#dfEmploySub.plot(kind = 'barh', title = 'Occupation Type of Our Clients')\n",
        "#plt.xlabel('Number of Clients')\n",
        "#plt.ylabel('Occupation Type')"
      ]
    },
    {
      "cell_type": "code",
      "execution_count": null,
      "metadata": {
        "id": "FrMYpA-BDwy_"
      },
      "outputs": [],
      "source": [
        "#Drop Occupation Type because there are too many NAs\n",
        "df2.drop(['OCCUPATION_TYPE'], axis=1, inplace=True) #8/1/22"
      ]
    },
    {
      "cell_type": "code",
      "execution_count": null,
      "metadata": {
        "id": "BspAqVjFDwy_"
      },
      "outputs": [],
      "source": [
        "#b. Age of Clients\n",
        "#Adding in an age column since our dataset has their age in days at the time of application.\n",
        "#And it's a negative number so I will divide by negative 365 days.\n",
        "df2['AGE'] = df2['DAYS_BIRTH']/(-365)\n",
        "#df2['AGE'] = df2['DAYS_BIRTH']/(-365)"
      ]
    },
    {
      "cell_type": "code",
      "execution_count": null,
      "metadata": {
        "id": "qFlyMcHlDwy_"
      },
      "outputs": [],
      "source": [
        "df2"
      ]
    },
    {
      "cell_type": "code",
      "execution_count": null,
      "metadata": {
        "id": "mpodbEGRDwy_"
      },
      "outputs": [],
      "source": [
        "#For exam:\n",
        "df2.describe()\n",
        "df2['Age Bin'] = pd.cut(df2['AGE'], bins = [20, 25, 30, 35, 40, 45, 50, 55, 60, 65, 70])\n",
        "#create a new column in the dataframe\n",
        "#use the cut method\n",
        "df2['Age Bin']\n",
        "(df2[['Age Bin', 'AGE']])\n",
        "\n",
        "#Let's give our own bin names\n",
        "df2['Age Bin'] = pd.cut(df2['AGE'],\n",
        "                        [20, 25, 30, 35, 40, 45, 50, 55, 60, 65, 70],\n",
        "                        labels=['20-25','25-30','30-35','35-40','40-45','45-50', '50-55', '55-60', '60-65', '65-70'])\n",
        "df2\n",
        "\n",
        "#Make sure that all buckets are filled or there may be issues running the report!\n",
        "df2.info()\n",
        "#Verified that the new Age Bin column has no null values (304495 non-null)."
      ]
    },
    {
      "cell_type": "code",
      "execution_count": null,
      "metadata": {
        "id": "eC5HlHCbDwy_"
      },
      "outputs": [],
      "source": [
        "#Check the spread of the age data before creating bins:\n",
        "plt.scatter(df2['AGE'], df2['AGE'])\n",
        "plt.show\n",
        "#plt.scatter(df2['AGE'], df2['AGE'])"
      ]
    },
    {
      "cell_type": "code",
      "execution_count": null,
      "metadata": {
        "id": "qMhX0D1-Dwy_"
      },
      "outputs": [],
      "source": [
        "df2.describe()\n",
        "#Min age is 20.517808; Max age is 69.120548"
      ]
    },
    {
      "cell_type": "code",
      "execution_count": null,
      "metadata": {
        "id": "s-soyIsRDwy_"
      },
      "outputs": [],
      "source": [
        "df2['Age Bin'] = pd.cut(df2['AGE'], bins = [20, 25, 30, 35, 40, 45, 50, 55, 60, 65, 70])\n",
        "#create a new column in the dataframe\n",
        "#use the cut method"
      ]
    },
    {
      "cell_type": "code",
      "execution_count": null,
      "metadata": {
        "id": "kOlLNoPgDwy_"
      },
      "outputs": [],
      "source": [
        "df2['Age Bin']"
      ]
    },
    {
      "cell_type": "code",
      "execution_count": null,
      "metadata": {
        "id": "-ymTeD03DwzA"
      },
      "outputs": [],
      "source": [
        "(df2[['Age Bin', 'AGE']])"
      ]
    },
    {
      "cell_type": "code",
      "execution_count": null,
      "metadata": {
        "id": "UT0uD2R3DwzA"
      },
      "outputs": [],
      "source": [
        "#Let's give our own bin names\n",
        "df2['Age Bin'] = pd.cut(df2['AGE'],\n",
        "                        [20, 25, 30, 35, 40, 45, 50, 55, 60, 65, 70],\n",
        "                        labels=['20-25','25-30','30-35','35-40','40-45','45-50', '50-55', '55-60', '60-65', '65-70'])\n",
        "df2\n",
        "#Note to Prof. Feldman: I know that in our class example we did not overlap the labels but I decided to do so here.\n",
        "#The original labels were '20-25', '26-30', etc. However, if we label it this way, the first data point with\n",
        "#an age of 25.92 would fall under the label '26-30' which would be incorrect."
      ]
    },
    {
      "cell_type": "code",
      "execution_count": null,
      "metadata": {
        "id": "BmYVBzNjDwzA"
      },
      "outputs": [],
      "source": [
        "#Make sure that all buckets are filled or there may be issues running the report!\n",
        "df2.info()\n",
        "#Verified that the new Age Bin column has no null values (304495 non-null)."
      ]
    },
    {
      "cell_type": "code",
      "execution_count": null,
      "metadata": {
        "id": "jZGJe47dDwzA"
      },
      "outputs": [],
      "source": [
        "#Exam:\n",
        "df2.head(50)\n",
        "dfAgeSub = df2.groupby(['Age Bin'])['Age Bin'].count() #isolate the Age Bin column\n",
        "dfAgeSub\n",
        "dfAgeSub.plot(kind = 'bar', title = 'Ages of Our Clients')\n",
        "plt.xlabel('Age Groups')\n",
        "plt.ylabel('Number of Clients')\n",
        "#We see that the age group with the most clients is the 35-40 age group."
      ]
    },
    {
      "cell_type": "code",
      "execution_count": null,
      "metadata": {
        "id": "UYIQjc6xDwzA"
      },
      "outputs": [],
      "source": [
        "df2.head(50)"
      ]
    },
    {
      "cell_type": "code",
      "execution_count": null,
      "metadata": {
        "id": "rpc1W0zxDwzA"
      },
      "outputs": [],
      "source": [
        "dfAgeSub = df2.groupby(['Age Bin'])['Age Bin'].count() #isolate the Age Bin column"
      ]
    },
    {
      "cell_type": "code",
      "execution_count": null,
      "metadata": {
        "id": "c3vokeP5DwzA"
      },
      "outputs": [],
      "source": [
        "dfAgeSub"
      ]
    },
    {
      "cell_type": "code",
      "execution_count": null,
      "metadata": {
        "id": "SyYTG9VhDwzA"
      },
      "outputs": [],
      "source": [
        "dfAgeSub.plot(kind = 'bar', title = 'Ages of Our Clients')\n",
        "plt.xlabel('Age Groups')\n",
        "plt.ylabel('Number of Clients')\n",
        "#We see that the age group with the most clients is the 35-40 age group."
      ]
    },
    {
      "cell_type": "code",
      "execution_count": null,
      "metadata": {
        "id": "SGi6-0sHDwzA"
      },
      "outputs": [],
      "source": [
        "#Note to self/Prof. Feldman: I originally tried using the following code to graph age.\n",
        "#This code mimics what we did in class but I ran into errors running these.\n",
        "\n",
        "#Attempt 1:\n",
        "#df2.plot(x=df2['Age Bin'], y=df2['AGE'], kind = 'bar', title = 'Ages of Our Clients')\n",
        "\n",
        "#Attempt 2:\n",
        "#A simple bar plot\n",
        "#plt.bar(df2['Age Bin'], df2['AGE'], color = 'b')\n",
        "#plt.show()"
      ]
    },
    {
      "cell_type": "code",
      "execution_count": null,
      "metadata": {
        "id": "yJoYbBCUDwzB"
      },
      "outputs": [],
      "source": [
        "#c. Income of Clients\n",
        "#Check the spread of the age data before creating bins:\n",
        "plt.scatter(df2['AMT_INCOME_TOTAL'], df2['AMT_INCOME_TOTAL'])\n",
        "plt.show()"
      ]
    },
    {
      "cell_type": "code",
      "execution_count": null,
      "metadata": {
        "id": "uXIM2F8VDwzB"
      },
      "outputs": [],
      "source": [
        "df2.describe()"
      ]
    },
    {
      "cell_type": "code",
      "execution_count": null,
      "metadata": {
        "id": "CeKbPruKDwzB"
      },
      "outputs": [],
      "source": [
        "#create a new column called Income Bin in the dataframe using the cut method\n",
        "df2['Income Bin'] = pd.cut(df2['AMT_INCOME_TOTAL'],\n",
        "                           bins = [0, 50000, 100000, 150000, 200000, 250000, 300000, 350000, 400000, 450000, 500000])"
      ]
    },
    {
      "cell_type": "code",
      "execution_count": null,
      "metadata": {
        "id": "KERrQC8pDwzB"
      },
      "outputs": [],
      "source": [
        "df2"
      ]
    },
    {
      "cell_type": "code",
      "execution_count": null,
      "metadata": {
        "id": "m27QvF_1DwzB"
      },
      "outputs": [],
      "source": [
        "#Let's give our own bin names\n",
        "df2['Income Bin'] = pd.cut(df2['AMT_INCOME_TOTAL'],\n",
        "                        [0, 50000, 100000, 150000, 200000, 250000, 300000, 350000, 400000, 450000, 500000],\n",
        "                        labels=['0-50k','50k-100k','100k-150k','150k-200k','200k-250k','250k-300k', '300k-350k',\n",
        "                                '350k-400k', '400k-450k', '450k-500k'])\n",
        "df2"
      ]
    },
    {
      "cell_type": "code",
      "execution_count": null,
      "metadata": {
        "id": "cxCmLrK8DwzB"
      },
      "outputs": [],
      "source": [
        "df2[['Income Bin', 'AMT_INCOME_TOTAL']] #checking if making bins worked all right"
      ]
    },
    {
      "cell_type": "code",
      "execution_count": null,
      "metadata": {
        "id": "pvKO-3JMDwzB"
      },
      "outputs": [],
      "source": [
        "df2.info() #Verifying that all Income Bin rows are filled (304495 non-null)"
      ]
    },
    {
      "cell_type": "code",
      "execution_count": null,
      "metadata": {
        "id": "avIloIRLDwzB"
      },
      "outputs": [],
      "source": [
        "dfIncomeSub = df2.groupby(['Income Bin'])['Income Bin'].count() #Isolate the Income Bin column\n",
        "dfIncomeSub"
      ]
    },
    {
      "cell_type": "code",
      "execution_count": null,
      "metadata": {
        "id": "p1LP3GCADwzB"
      },
      "outputs": [],
      "source": [
        "dfIncomeSub.plot(kind = 'bar', title = 'The Income Profile of Our Clients')\n",
        "plt.xlabel('Income Level')\n",
        "plt.ylabel('Number of Clients')\n",
        "#Note: It's not visible on the plot but there were 125 clients in the 450k-500k income bracket.\n",
        "#We see that the majority of our clients have an income between $50,000 and $250,000.\n",
        "#There are some in the 0-50k income bracket and a minority of our clients have above $250,000."
      ]
    },
    {
      "cell_type": "code",
      "execution_count": null,
      "metadata": {
        "id": "v0oV7labDwzB"
      },
      "outputs": [],
      "source": [
        "#Total out in loans\n",
        "df2['AMT_CREDIT'].sum()\n",
        "$180,828,450,571.5"
      ]
    },
    {
      "cell_type": "code",
      "execution_count": null,
      "metadata": {
        "id": "sKboUP2tDwzC"
      },
      "outputs": [],
      "source": [
        "#d. Total out in loans\n",
        "df2['AMT_CREDIT'].sum()\n",
        "#Answer (after omitting outliers): $180,828,450,571.50 ~ 180 billion\n",
        "#Note: Before omitting any outliers, the answer was $184,207,084,195.5 ~ 184 billion"
      ]
    },
    {
      "cell_type": "code",
      "execution_count": null,
      "metadata": {
        "id": "VLwlnPGADwzC"
      },
      "outputs": [],
      "source": [
        "#e. How many loans are in default/late?\n",
        "df2['TARGET'].sum()\n",
        "#Answer: 24,663 loans are in default/late\n",
        "#Note: Before omitting any outliers, the answer was 24825 loans."
      ]
    },
    {
      "cell_type": "code",
      "execution_count": null,
      "metadata": {
        "id": "49OqF3njDwzC"
      },
      "outputs": [],
      "source": [
        "#f. What percentage of the business are default and late?\n",
        "#The numerator uses the sum method which adds all the ones.\n",
        "#(The ones represent the loans that are in default/late.)\n",
        "#The denominator uses the count method which counts all rows.\n",
        "(df2['TARGET'].sum()/df2['TARGET'].count())*100\n",
        "#Answer: 8.099640388183714 percent.\n",
        "#Note: Before omitting any outliers, the answer was 8.072881945686495 percent.\n",
        "#After omitting outliers, the percentage went slightly up (by 0.02).\n",
        "#(df2['TARGET'].sum()/df2['TARGET'].count())*100"
      ]
    },
    {
      "cell_type": "code",
      "execution_count": null,
      "metadata": {
        "id": "HaQJ1hjYDwzC"
      },
      "outputs": [],
      "source": [
        "#Three other demographics\n",
        "#g. Level of highest education the client achieved\n",
        "dfEduSub = df2.groupby(['NAME_EDUCATION_TYPE'])['NAME_EDUCATION_TYPE'].count()\n",
        "dfEduSub"
      ]
    },
    {
      "cell_type": "code",
      "execution_count": null,
      "metadata": {
        "id": "sppFZbrRDwzC"
      },
      "outputs": [],
      "source": [
        "dfEduSub.plot(kind = 'bar', title = 'Education Level of Our Clients')\n",
        "plt.xlabel('Education Level')\n",
        "plt.ylabel('Number of Clients')\n",
        "#From the plot, we see that the two largest groups in terms of the education level of our clients are\n",
        "#higher education (72,890 clients) and secondary/secondary special (217,499 clients)."
      ]
    },
    {
      "cell_type": "code",
      "execution_count": null,
      "metadata": {
        "id": "DF-v3xz1DwzC"
      },
      "outputs": [],
      "source": [
        "#h. Type of organization where client works\n",
        "dfOrgSub = df2.groupby(['ORGANIZATION_TYPE'])['ORGANIZATION_TYPE'].count()\n",
        "dfOrgSub"
      ]
    },
    {
      "cell_type": "code",
      "execution_count": null,
      "metadata": {
        "id": "wTYvkil6DwzC"
      },
      "outputs": [],
      "source": [
        "fig = plt.figure(figsize=(15,5)) #Improving the display of our graph\n",
        "dfOrgSub.plot(kind = 'bar', title = 'Organization Type of Our Clients')\n",
        "plt.xlabel('Organization Type')\n",
        "plt.ylabel('Number of Clients')\n",
        "#We have many clients in non-descript categories, e.g., Industry: type n and Trade: type n.\n",
        "#The three most common categories in terms of organization type are Business Entity Type 3, Self-employed,\n",
        "#and XNA. It makes sense that many people taking out loans from our company are in the business world and\n",
        "#self-employed, perhaps entrepreneurs."
      ]
    },
    {
      "cell_type": "code",
      "execution_count": null,
      "metadata": {
        "id": "34erII-2DwzC"
      },
      "outputs": [],
      "source": [
        "#i. Family Status of our Clients\n",
        "dfFamSub = df2.groupby(['NAME_FAMILY_STATUS'])['NAME_FAMILY_STATUS'].count()\n",
        "dfFamSub"
      ]
    },
    {
      "cell_type": "code",
      "execution_count": null,
      "metadata": {
        "id": "wFmypcMqDwzG"
      },
      "outputs": [],
      "source": [
        "df2.info()"
      ]
    },
    {
      "cell_type": "code",
      "execution_count": null,
      "metadata": {
        "id": "-ksTCQS2DwzG"
      },
      "outputs": [],
      "source": [
        "dfFamSub.plot(kind = 'bar', title = 'Family Status of Our Clients')\n",
        "plt.xlabel('Family Status')\n",
        "plt.ylabel('Number of Clients')\n",
        "#Note: There are 2 clients whose family status is unknown.\n",
        "#A majority of our clients (194,368 out of 304,495 or 63.82%) are married.\n",
        "#The next largest category in terms of family status is single / not married, which makes up\n",
        "#45,007 out of 304,495 people or 14.78% of our clients."
      ]
    },
    {
      "cell_type": "code",
      "execution_count": null,
      "metadata": {
        "id": "XSjz-3NXDwzG"
      },
      "outputs": [],
      "source": [
        "#Part 3 complete!"
      ]
    },
    {
      "cell_type": "code",
      "execution_count": null,
      "metadata": {
        "id": "WYdYrr_7DwzG"
      },
      "outputs": [],
      "source": [
        "# 4. Who defaults or has problems replaying loans?\n",
        "# Create visualizations to show management qualities specific to those who are in default/late.\n",
        "# Show three meaningful visualizations.\n",
        "# Use at least one group/by or bin in your analysis."
      ]
    },
    {
      "cell_type": "code",
      "execution_count": null,
      "metadata": {
        "id": "hMvHNvcYDwzG"
      },
      "outputs": [],
      "source": [
        "df2.info()"
      ]
    },
    {
      "cell_type": "code",
      "execution_count": null,
      "metadata": {
        "id": "4rx3wZ05DwzG"
      },
      "outputs": [],
      "source": [
        "#a. Loan Defaults by Age Group\n",
        "dfAgeBinTar = df2.groupby(['Age Bin'],as_index=False)['TARGET'].count()\n",
        "#dfAgeBinTar2 = df2.groupby(['Age Bin'], as_index=True)['TARGET'].count()"
      ]
    },
    {
      "cell_type": "code",
      "execution_count": null,
      "metadata": {
        "id": "vMBJJFe3DwzG"
      },
      "outputs": [],
      "source": [
        "dfAgeBinTar"
      ]
    },
    {
      "cell_type": "code",
      "execution_count": null,
      "metadata": {
        "id": "_vY2HVl-DwzG"
      },
      "outputs": [],
      "source": [
        "#dfAgeBinTar2"
      ]
    },
    {
      "cell_type": "code",
      "execution_count": null,
      "metadata": {
        "id": "Ya6hvv2kDwzG"
      },
      "outputs": [],
      "source": [
        "fig = plt.figure(figsize= (12,5))\n",
        "plt.bar(dfAgeBinTar['Age Bin'], dfAgeBinTar['TARGET'], color = 'b')\n",
        "plt.xlabel('Age Groups')\n",
        "plt.ylabel('Number of Clients')\n",
        "plt.title('Loan Defaults by Age Group')\n",
        "#When examining loan defaults by age group, we see that the weights are somewhat normally distributed.\n",
        "#The age groups with the lowest number of loan defaults are clients between the ages of 20 to 25 and 65 to 70.\n",
        "#The age group with the highest number of defaults is the 35 to 40 year old age group."
      ]
    },
    {
      "cell_type": "code",
      "execution_count": null,
      "metadata": {
        "id": "ieLBqyNnDwzH"
      },
      "outputs": [],
      "source": [
        "#b. Loan Defaults by Income Group\n",
        "dfIncomeBinTar = df2.groupby(['Income Bin'],as_index=False)['TARGET'].count()"
      ]
    },
    {
      "cell_type": "code",
      "execution_count": null,
      "metadata": {
        "id": "J91VOBtKDwzH"
      },
      "outputs": [],
      "source": [
        "dfIncomeBinTar"
      ]
    },
    {
      "cell_type": "code",
      "execution_count": null,
      "metadata": {
        "id": "z-zOTEP2DwzH"
      },
      "outputs": [],
      "source": [
        "fig = plt.figure(figsize= (12,5))\n",
        "plt.bar(dfIncomeBinTar['Income Bin'], dfIncomeBinTar['TARGET'], color = 'b')\n",
        "plt.xlabel('Income Groups')\n",
        "plt.ylabel('Number of Clients')\n",
        "plt.title('Loan Defaults by Income Group')\n",
        "#When examining loan defaults by income group, we see that the income groups with the lowest number of loan\n",
        "#defaults are at the tails, that is, clients in the 0-50k (lowest) and the five highest income groups.\n",
        "#The income group with the highest number of defaults is the 100-150k income group.\n",
        "#That being said, this correlation should be taken with a grain of salt since we saw above that there is\n",
        "#an uneven distribution in the number of clients in terms of income level."
      ]
    },
    {
      "cell_type": "code",
      "execution_count": null,
      "metadata": {
        "id": "OGhZCon6DwzH"
      },
      "outputs": [],
      "source": [
        "#c. Loan Defaults by Education Level\n",
        "dfEduTar = df2.groupby(['NAME_EDUCATION_TYPE'],as_index=False)['TARGET'].count()"
      ]
    },
    {
      "cell_type": "code",
      "execution_count": null,
      "metadata": {
        "id": "QWePQnyZDwzH"
      },
      "outputs": [],
      "source": [
        "dfEduTar"
      ]
    },
    {
      "cell_type": "code",
      "execution_count": null,
      "metadata": {
        "id": "RynZ6PEVDwzH"
      },
      "outputs": [],
      "source": [
        "fig = plt.figure(figsize= (12,5))\n",
        "plt.bar(dfEduTar['NAME_EDUCATION_TYPE'], dfEduTar['TARGET'], color = 'b')\n",
        "plt.xlabel('Education Level')\n",
        "plt.ylabel('Number of Clients')\n",
        "plt.title('Loan Defaults by Education Level')\n",
        "\n",
        "#When examining loan defaults by education level, we see that the group with the highest number of defaults\n",
        "#is the secondary/secondary special education group, followed by the higher education group.\n",
        "#That being said, this conclusion should be taken with a grain of salt since we saw above that there is\n",
        "#an uneven distribution in the number of clients in terms of education level."
      ]
    },
    {
      "cell_type": "code",
      "execution_count": null,
      "metadata": {
        "id": "FyqJsBG3DwzH"
      },
      "outputs": [],
      "source": [
        "#Part 4 complete!"
      ]
    },
    {
      "cell_type": "code",
      "execution_count": null,
      "metadata": {
        "id": "8CRi-5H0DwzH"
      },
      "outputs": [],
      "source": [
        "# 5. Prepare the data for a regression analysis\n",
        "# The ABC management team has heard that it might be possible to use their data to make predictions.\n",
        "#They don’t know much about data analytics. We are hoping that an example of what is possible will help them\n",
        "#understand better.\n",
        "# Prepare the data file to run with a regression analysis. Use the techniques and methods discussed in class."
      ]
    },
    {
      "cell_type": "code",
      "execution_count": null,
      "metadata": {
        "id": "kg_Yd3EnDwzH"
      },
      "outputs": [],
      "source": [
        "import sklearn"
      ]
    },
    {
      "cell_type": "code",
      "execution_count": null,
      "metadata": {
        "id": "P5_v7V4DDwzH"
      },
      "outputs": [],
      "source": [
        "#from sklearn.linear_model import LinearRegression\n",
        "\n",
        "#Above line commented out because we'll be using LogisticRegression here."
      ]
    },
    {
      "cell_type": "code",
      "execution_count": null,
      "metadata": {
        "id": "HowX5PmtDwzH"
      },
      "outputs": [],
      "source": [
        "df2.info()\n",
        "#Note: The following columns are categorical:\n",
        "#NAME_CONTRACT_TYPE\n",
        "#CODE_GENDER\n",
        "#FLAG_OWN_CAR\n",
        "#FLAG_OWN_REALTY\n",
        "#NAME_INCOME_TYPE\n",
        "#NAME_EDUCATION_TYPE\n",
        "#NAME_FAMILY_STATUS\n",
        "#NAME_HOUSING_TYPE\n",
        "#OCCUPATION_TYPE\n",
        "#ORGANIZATION_TYPE\n",
        "#Age Bin\n",
        "#Income Bin"
      ]
    },
    {
      "cell_type": "code",
      "execution_count": null,
      "metadata": {
        "id": "Rj9SWr4yDwzH"
      },
      "outputs": [],
      "source": [
        "df2.head() #Let's examine the dataset again to decide if there are any other columns to drop"
      ]
    },
    {
      "cell_type": "code",
      "execution_count": null,
      "metadata": {
        "id": "JcEyu4KTDwzI"
      },
      "outputs": [],
      "source": [
        "X = df2\n",
        "#The following are the remaining categorical variables in our dataframe:\n",
        "#X = X.drop('NAME_CONTRACT_TYPE', axis = 1) #decided to include\n",
        "#X = X.drop('CODE_GENDER', axis = 1) #included\n",
        "#X = X.drop('FLAG_OWN_CAR', axis = 1) #included\n",
        "#X = X.drop('FLAG_OWN_REALTY', axis = 1) #included\n",
        "#X = X.drop('NAME_INCOME_TYPE', axis = 1) #included\n",
        "#X = X.drop('NAME_EDUCATION_TYPE', axis = 1) #included\n",
        "#X = X.drop('NAME_FAMILY_STATUS', axis = 1) #included\n",
        "#X = X.drop('NAME_HOUSING_TYPE', axis = 1) #included\n",
        "X = X.drop('OCCUPATION_TYPE', axis = 1) #drop since this column has null data\n",
        "X = X.drop('ORGANIZATION_TYPE', axis = 1) #drop since there are many unique values\n",
        "X = X.drop('Age Bin', axis = 1) #drop since we already have an age column\n",
        "X = X.drop('Income Bin', axis = 1) #drop since we already have a column that surveys income\n",
        "\n",
        "X = X.drop('REG_REGION_NOT_LIVE_REGION', axis = 1)\n",
        "X = X.drop('REG_REGION_NOT_WORK_REGION', axis = 1)\n",
        "X = X.drop('LIVE_REGION_NOT_WORK_REGION', axis = 1)\n",
        "X = X.drop('REG_CITY_NOT_LIVE_CITY', axis = 1)\n",
        "X = X.drop('REG_CITY_NOT_WORK_CITY', axis = 1)\n",
        "X = X.drop('LIVE_CITY_NOT_WORK_CITY', axis = 1)\n",
        "\n",
        "#Although some of these columns are of interest, we drop them for our Logistic Regression because\n",
        "#they are categorical variables and they contain many unique values.\n",
        "\n",
        "#I dropped the REG_REGION, LIVE_REGION, REG_CITY, and LIVE_CITY columns because they did not improve\n",
        "#the R^2 value. In part 1, I already dropped the OWN_CAR_AGE column\n",
        "#because I considerd it irrelevant to the TARGET variable (whether the client defaulted)."
      ]
    },
    {
      "cell_type": "code",
      "execution_count": null,
      "metadata": {
        "id": "lZUGh3O5DwzI"
      },
      "outputs": [],
      "source": [
        "X"
      ]
    },
    {
      "cell_type": "code",
      "execution_count": null,
      "metadata": {
        "id": "d1yRx4E6DwzI"
      },
      "outputs": [],
      "source": [
        "X = pd.get_dummies(X)"
      ]
    },
    {
      "cell_type": "code",
      "execution_count": null,
      "metadata": {
        "id": "K2AbhF_ZDwzI"
      },
      "outputs": [],
      "source": [
        "X"
      ]
    },
    {
      "cell_type": "code",
      "execution_count": null,
      "metadata": {
        "id": "HoIF6yUlDwzI"
      },
      "outputs": [],
      "source": [
        "X.info() #be sure that all predictor variables are numerical to prepare for regression"
      ]
    },
    {
      "cell_type": "code",
      "execution_count": null,
      "metadata": {
        "id": "uAB_X6riDwzI"
      },
      "outputs": [],
      "source": [
        "Y = df2['TARGET'] #We'll use the TARGET variable (whether the client defaulted) as the response variable\n",
        "X, Y"
      ]
    },
    {
      "cell_type": "code",
      "execution_count": null,
      "metadata": {
        "id": "PgMODAUYDwzI"
      },
      "outputs": [],
      "source": [
        "#Our X and Y have been defined, now we can fit the model.\n",
        "#lr = LinearRegression() #instantiate the Linear Regression object\n",
        "#lr.fit(X,Y)\n",
        "\n",
        "#Notes from Prof. Feldman Zoom Meeting: Logistic Regression is required here since the TARGET variable\n",
        "#is binary. (It takes on the two values of 0 and 1.)"
      ]
    },
    {
      "cell_type": "code",
      "execution_count": null,
      "metadata": {
        "id": "3yLpe67IDwzI"
      },
      "outputs": [],
      "source": [
        "from sklearn.linear_model import LogisticRegression"
      ]
    },
    {
      "cell_type": "code",
      "execution_count": null,
      "metadata": {
        "id": "Npl-QNjWDwzI"
      },
      "outputs": [],
      "source": [
        "lr = LogisticRegression() #instantiate the Logistic Regression object\n",
        "lr.fit(X,Y)"
      ]
    },
    {
      "cell_type": "code",
      "execution_count": null,
      "metadata": {
        "id": "PaFyax7UDwzI"
      },
      "outputs": [],
      "source": [
        "#Part 5 complete!"
      ]
    },
    {
      "cell_type": "code",
      "execution_count": null,
      "metadata": {
        "id": "i96ApTDCDwzI"
      },
      "outputs": [],
      "source": [
        "# 6. Run the regression analysis\n",
        "# Show scoring and a confusion matrix. You do not need to split the data.  Running it as a full dataset is fine."
      ]
    },
    {
      "cell_type": "code",
      "execution_count": null,
      "metadata": {
        "scrolled": true,
        "tags": [],
        "id": "J9055KE_DwzI"
      },
      "outputs": [],
      "source": [
        "#Scoring\n",
        "lr.score(X,Y) #R squared: 0.9189937437396345\n",
        "#We see that there is a strong correlation between the predictor variables we left in the dataframe\n",
        "#and the TARGET response variable (whether the client defaulted)."
      ]
    },
    {
      "cell_type": "code",
      "execution_count": null,
      "metadata": {
        "id": "4L2k3JstDwzI"
      },
      "outputs": [],
      "source": [
        "#Confusion Matrix\n",
        "pred_test = lr.predict(X)\n",
        "pred_test"
      ]
    },
    {
      "cell_type": "code",
      "execution_count": null,
      "metadata": {
        "id": "BqLKGhxmDwzJ"
      },
      "outputs": [],
      "source": [
        "from sklearn import metrics"
      ]
    },
    {
      "cell_type": "code",
      "execution_count": null,
      "metadata": {
        "id": "TcCSeZJJDwzJ"
      },
      "outputs": [],
      "source": [
        "Y"
      ]
    },
    {
      "cell_type": "code",
      "execution_count": null,
      "metadata": {
        "id": "1iCSYt-vDwzJ"
      },
      "outputs": [],
      "source": [
        "print(metrics.confusion_matrix(Y, pred_test))"
      ]
    },
    {
      "cell_type": "code",
      "execution_count": null,
      "metadata": {
        "id": "iiKf6rAiDwzJ"
      },
      "outputs": [],
      "source": [
        "cmtx = pd.DataFrame(\n",
        "    metrics.confusion_matrix(Y,pred_test),\n",
        "    index=['actual:yes', 'actual:no'],\n",
        "    columns=['pred:yes', 'pred:no']\n",
        ")\n",
        "print(cmtx)"
      ]
    },
    {
      "cell_type": "code",
      "execution_count": null,
      "metadata": {
        "id": "etf-fhrnDwzJ"
      },
      "outputs": [],
      "source": [
        "#Part 6 & Final Project complete!"
      ]
    },
    {
      "cell_type": "code",
      "execution_count": null,
      "metadata": {
        "id": "wC3W5MzWDwzJ"
      },
      "outputs": [],
      "source": [
        "from sklearn.model_selection import train_test_split\n",
        "from sklearn import metrics"
      ]
    },
    {
      "cell_type": "code",
      "execution_count": null,
      "metadata": {
        "id": "-a1hKlJbDwzJ"
      },
      "outputs": [],
      "source": [
        "#Exam Practice:\n",
        "X_train, X_test, y_train,y_test = train_test_split(X,Y, test_size=.3, random_state=42)"
      ]
    },
    {
      "cell_type": "code",
      "execution_count": null,
      "metadata": {
        "id": "5z55IYYkDwzJ"
      },
      "outputs": [],
      "source": [
        "X_train.shape"
      ]
    },
    {
      "cell_type": "code",
      "execution_count": null,
      "metadata": {
        "id": "if8iLI7ZDwzJ"
      },
      "outputs": [],
      "source": [
        "X_test.shape"
      ]
    },
    {
      "cell_type": "code",
      "execution_count": null,
      "metadata": {
        "id": "Ex-HyZOBDwzJ"
      },
      "outputs": [],
      "source": [
        "y_train.shape"
      ]
    },
    {
      "cell_type": "code",
      "execution_count": null,
      "metadata": {
        "id": "hZ_cngkpDwzJ"
      },
      "outputs": [],
      "source": [
        "y_test.shape"
      ]
    },
    {
      "cell_type": "code",
      "execution_count": null,
      "metadata": {
        "id": "0Bs61PPgDwzJ"
      },
      "outputs": [],
      "source": [
        "#run with the training set\n",
        "lr.fit(X_train,y_train)"
      ]
    },
    {
      "cell_type": "code",
      "execution_count": null,
      "metadata": {
        "id": "j3BYmdlZDwzK"
      },
      "outputs": [],
      "source": [
        "lr.score(X_train,y_train)"
      ]
    },
    {
      "cell_type": "code",
      "execution_count": null,
      "metadata": {
        "id": "1JZAiXAHDwzK"
      },
      "outputs": [],
      "source": [
        "pred_train = lr.predict(X_train)"
      ]
    },
    {
      "cell_type": "code",
      "execution_count": null,
      "metadata": {
        "id": "yB476LcwDwzK"
      },
      "outputs": [],
      "source": [
        "cmtx = pd.DataFrame(\n",
        "    metrics.confusion_matrix(y_train,pred_train),\n",
        "    index=['actual:yes', 'actual:no'],\n",
        "    columns=['pred:yes', 'pred:no']\n",
        ")\n",
        "print(cmtx)"
      ]
    },
    {
      "cell_type": "code",
      "execution_count": null,
      "metadata": {
        "id": "YFziTJGyDwzK"
      },
      "outputs": [],
      "source": [
        "##lets do this with the test set now"
      ]
    },
    {
      "cell_type": "code",
      "execution_count": null,
      "metadata": {
        "id": "l6nHsRZzDwzK"
      },
      "outputs": [],
      "source": [
        "lr.fit(X_test,y_test)"
      ]
    },
    {
      "cell_type": "code",
      "execution_count": null,
      "metadata": {
        "id": "fNPmIgXgDwzK"
      },
      "outputs": [],
      "source": [
        "lr.score(X_test,y_test)"
      ]
    },
    {
      "cell_type": "code",
      "execution_count": null,
      "metadata": {
        "id": "oYUoMpUUDwzK"
      },
      "outputs": [],
      "source": [
        "pred_test = lr.predict(X_test)"
      ]
    },
    {
      "cell_type": "code",
      "execution_count": null,
      "metadata": {
        "id": "QMIlEwBnDwzK"
      },
      "outputs": [],
      "source": [
        "cmtx = pd.DataFrame(\n",
        "    metrics.confusion_matrix(y_test,pred_test),\n",
        "    index=['actual:yes', 'actual:no'],\n",
        "    columns=['pred:yes', 'pred:no']\n",
        ")\n",
        "print(cmtx)"
      ]
    },
    {
      "cell_type": "code",
      "execution_count": null,
      "metadata": {
        "id": "_94jc95QDwzK"
      },
      "outputs": [],
      "source": []
    }
  ],
  "metadata": {
    "kernelspec": {
      "display_name": "Python 3 (ipykernel)",
      "language": "python",
      "name": "python3"
    },
    "language_info": {
      "codemirror_mode": {
        "name": "ipython",
        "version": 3
      },
      "file_extension": ".py",
      "mimetype": "text/x-python",
      "name": "python",
      "nbconvert_exporter": "python",
      "pygments_lexer": "ipython3",
      "version": "3.9.7"
    },
    "colab": {
      "provenance": []
    }
  },
  "nbformat": 4,
  "nbformat_minor": 0
}