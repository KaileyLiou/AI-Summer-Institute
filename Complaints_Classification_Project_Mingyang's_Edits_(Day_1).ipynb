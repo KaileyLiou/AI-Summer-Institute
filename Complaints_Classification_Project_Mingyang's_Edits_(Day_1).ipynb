{
  "cells": [
    {
      "cell_type": "markdown",
      "id": "f1c9048a",
      "metadata": {
        "id": "f1c9048a"
      },
      "source": [
        "**Importing the libraries and loading the data**"
      ]
    },
    {
      "cell_type": "code",
      "execution_count": 1,
      "id": "93f1cdad",
      "metadata": {
        "id": "93f1cdad",
        "outputId": "b8f513d7-e150-4052-a613-e0e465270c4a"
      },
      "outputs": [
        {
          "name": "stdout",
          "output_type": "stream",
          "text": [
            "Defaulting to user installation because normal site-packages is not writeable\n",
            "Requirement already satisfied: gdown in /Users/jaelynliou/Library/Python/3.8/lib/python/site-packages (5.2.0)\n",
            "Requirement already satisfied: beautifulsoup4 in /Users/jaelynliou/Library/Python/3.8/lib/python/site-packages (from gdown) (4.13.4)\n",
            "Requirement already satisfied: filelock in /Users/jaelynliou/Library/Python/3.8/lib/python/site-packages (from gdown) (3.16.1)\n",
            "Requirement already satisfied: requests[socks] in /Users/jaelynliou/Library/Python/3.8/lib/python/site-packages (from gdown) (2.32.4)\n",
            "Requirement already satisfied: tqdm in /Users/jaelynliou/Library/Python/3.8/lib/python/site-packages (from gdown) (4.67.1)\n",
            "Requirement already satisfied: soupsieve>1.2 in /Users/jaelynliou/Library/Python/3.8/lib/python/site-packages (from beautifulsoup4->gdown) (2.7)\n",
            "Requirement already satisfied: typing-extensions>=4.0.0 in /Users/jaelynliou/Library/Python/3.8/lib/python/site-packages (from beautifulsoup4->gdown) (4.13.2)\n",
            "Requirement already satisfied: charset_normalizer<4,>=2 in /Users/jaelynliou/Library/Python/3.8/lib/python/site-packages (from requests[socks]->gdown) (3.4.2)\n",
            "Requirement already satisfied: idna<4,>=2.5 in /Users/jaelynliou/Library/Python/3.8/lib/python/site-packages (from requests[socks]->gdown) (3.10)\n",
            "Requirement already satisfied: urllib3<3,>=1.21.1 in /Users/jaelynliou/Library/Python/3.8/lib/python/site-packages (from requests[socks]->gdown) (2.2.3)\n",
            "Requirement already satisfied: certifi>=2017.4.17 in /Users/jaelynliou/Library/Python/3.8/lib/python/site-packages (from requests[socks]->gdown) (2025.7.14)\n",
            "Requirement already satisfied: PySocks!=1.5.7,>=1.5.6 in /Users/jaelynliou/Library/Python/3.8/lib/python/site-packages (from requests[socks]->gdown) (1.7.1)\n"
          ]
        },
        {
          "name": "stderr",
          "output_type": "stream",
          "text": [
            "/Users/jaelynliou/Library/Python/3.8/lib/python/site-packages/urllib3/__init__.py:35: NotOpenSSLWarning: urllib3 v2 only supports OpenSSL 1.1.1+, currently the 'ssl' module is compiled with 'LibreSSL 2.8.3'. See: https://github.com/urllib3/urllib3/issues/3020\n",
            "  warnings.warn(\n"
          ]
        },
        {
          "name": "stdout",
          "output_type": "stream",
          "text": [
            "Defaulting to user installation because normal site-packages is not writeable\n",
            "Requirement already satisfied: pyLDAvis in /Users/jaelynliou/Library/Python/3.8/lib/python/site-packages (3.4.0)\n",
            "Requirement already satisfied: numpy>=1.22.0 in /Users/jaelynliou/Library/Python/3.8/lib/python/site-packages (from pyLDAvis) (1.24.4)\n",
            "Requirement already satisfied: scipy in /Users/jaelynliou/Library/Python/3.8/lib/python/site-packages (from pyLDAvis) (1.10.1)\n",
            "Requirement already satisfied: pandas>=1.3.4 in /Users/jaelynliou/Library/Python/3.8/lib/python/site-packages (from pyLDAvis) (2.0.3)\n",
            "Requirement already satisfied: joblib>=1.2.0 in /Users/jaelynliou/Library/Python/3.8/lib/python/site-packages (from pyLDAvis) (1.4.2)\n",
            "Requirement already satisfied: jinja2 in /Users/jaelynliou/Library/Python/3.8/lib/python/site-packages (from pyLDAvis) (3.1.6)\n",
            "Requirement already satisfied: numexpr in /Users/jaelynliou/Library/Python/3.8/lib/python/site-packages (from pyLDAvis) (2.8.6)\n",
            "Requirement already satisfied: funcy in /Users/jaelynliou/Library/Python/3.8/lib/python/site-packages (from pyLDAvis) (2.0)\n",
            "Requirement already satisfied: scikit-learn>=1.0.0 in /Users/jaelynliou/Library/Python/3.8/lib/python/site-packages (from pyLDAvis) (1.3.2)\n",
            "Requirement already satisfied: gensim in /Users/jaelynliou/Library/Python/3.8/lib/python/site-packages (from pyLDAvis) (4.3.3)\n",
            "Requirement already satisfied: setuptools in /Library/Developer/CommandLineTools/Library/Frameworks/Python3.framework/Versions/3.8/lib/python3.8/site-packages (from pyLDAvis) (49.2.1)\n",
            "Requirement already satisfied: python-dateutil>=2.8.2 in /Users/jaelynliou/Library/Python/3.8/lib/python/site-packages (from pandas>=1.3.4->pyLDAvis) (2.9.0.post0)\n",
            "Requirement already satisfied: pytz>=2020.1 in /Users/jaelynliou/Library/Python/3.8/lib/python/site-packages (from pandas>=1.3.4->pyLDAvis) (2025.2)\n",
            "Requirement already satisfied: tzdata>=2022.1 in /Users/jaelynliou/Library/Python/3.8/lib/python/site-packages (from pandas>=1.3.4->pyLDAvis) (2025.2)\n",
            "Requirement already satisfied: threadpoolctl>=2.0.0 in /Users/jaelynliou/Library/Python/3.8/lib/python/site-packages (from scikit-learn>=1.0.0->pyLDAvis) (3.5.0)\n",
            "Requirement already satisfied: smart-open>=1.8.1 in /Users/jaelynliou/Library/Python/3.8/lib/python/site-packages (from gensim->pyLDAvis) (7.3.0.post1)\n",
            "Requirement already satisfied: MarkupSafe>=2.0 in /Users/jaelynliou/Library/Python/3.8/lib/python/site-packages (from jinja2->pyLDAvis) (2.1.5)\n",
            "Requirement already satisfied: six>=1.5 in /Library/Developer/CommandLineTools/Library/Frameworks/Python3.framework/Versions/3.8/lib/python3.8/site-packages (from python-dateutil>=2.8.2->pandas>=1.3.4->pyLDAvis) (1.15.0)\n",
            "Requirement already satisfied: wrapt in /Users/jaelynliou/Library/Python/3.8/lib/python/site-packages (from smart-open>=1.8.1->gensim->pyLDAvis) (1.17.2)\n",
            "Note: you may need to restart the kernel to use updated packages.\n"
          ]
        },
        {
          "name": "stderr",
          "output_type": "stream",
          "text": [
            "[nltk_data] Downloading package stopwords to\n",
            "[nltk_data]     /Users/jaelynliou/nltk_data...\n",
            "[nltk_data]   Unzipping corpora/stopwords.zip.\n",
            "[nltk_data] Downloading package punkt to\n",
            "[nltk_data]     /Users/jaelynliou/nltk_data...\n",
            "[nltk_data]   Unzipping tokenizers/punkt.zip.\n"
          ]
        }
      ],
      "source": [
        "# some basic libraries\n",
        "\n",
        "import sys\n",
        "!{sys.executable} -m pip install gdown\n",
        "\n",
        "import pandas as pd\n",
        "import os\n",
        "import gdown\n",
        "import numpy as np\n",
        "import seaborn as sns\n",
        "import matplotlib.pyplot as plt\n",
        "import warnings\n",
        "warnings.filterwarnings(\"ignore\")\n",
        "import io\n",
        "\n",
        "# some libraries useful for text pre-processing and text data exploration\n",
        "import re, string\n",
        "%pip install pyLDAvis\n",
        "\n",
        "# Import necessary libraries\n",
        "import gensim\n",
        "import pyLDAvis\n",
        "import pyLDAvis.gensim_models\n",
        "import nltk\n",
        "from nltk.corpus import stopwords\n",
        "from nltk.tokenize import word_tokenize\n",
        "nltk.download('stopwords')\n",
        "nltk.download('punkt')\n",
        "from bs4 import BeautifulSoup\n",
        "from wordcloud import WordCloud\n",
        "\n",
        "# some libraries for for model-building and evaluation\n",
        "from sklearn.model_selection import train_test_split\n",
        "from sklearn.linear_model import LogisticRegression\n",
        "from sklearn.metrics import classification_report, f1_score, accuracy_score, confusion_matrix\n",
        "from sklearn.metrics import roc_curve, auc, roc_auc_score\n",
        "from sklearn.metrics import confusion_matrix, ConfusionMatrixDisplay\n",
        "\n",
        "\n",
        "from sklearn.svm import LinearSVC\n",
        "from sklearn.datasets import make_classification\n",
        "from sklearn.model_selection import train_test_split\n",
        "from sklearn.preprocessing import StandardScaler\n",
        "from sklearn.pipeline import make_pipeline\n",
        "from sklearn.metrics import accuracy_score, classification_report\n",
        "import numpy as np\n",
        "\n",
        "# some libraries for feature extraction from texts\n",
        "from sklearn.feature_extraction.text import TfidfVectorizer\n",
        "from sklearn.feature_extraction.text import CountVectorizer #bag of words\n",
        "from gensim.models import Word2Vec #word embedding\n"
      ]
    },
    {
      "cell_type": "code",
      "execution_count": 2,
      "id": "12839e42",
      "metadata": {
        "id": "12839e42",
        "outputId": "13e9b9ec-716b-4206-81f1-b197f5f47e47"
      },
      "outputs": [
        {
          "name": "stderr",
          "output_type": "stream",
          "text": [
            "/Users/jaelynliou/Library/Python/3.8/lib/python/site-packages/gdown/download.py:39: DeprecationWarning: Call to deprecated method findChildren. (Replaced by find_all) -- Deprecated since version 3.0.0.\n",
            "  for param in form.findChildren(\"input\", attrs={\"type\": \"hidden\"}):\n",
            "Downloading...\n",
            "From (original): https://drive.google.com/uc?id=1r5xDdeOsuwUDZy_1GVNf_hS8vxQ7LtEV\n",
            "From (redirected): https://drive.google.com/uc?id=1r5xDdeOsuwUDZy_1GVNf_hS8vxQ7LtEV&confirm=t&uuid=673a07e4-b36c-47df-a280-8c32728449f1\n",
            "To: /Users/jaelynliou/Documents/AI Summer Institute/Final Project/complaints.csv\n",
            "100%|██████████| 2.17G/2.17G [01:05<00:00, 33.3MB/s]\n"
          ]
        },
        {
          "data": {
            "text/html": [
              "<div>\n",
              "<style scoped>\n",
              "    .dataframe tbody tr th:only-of-type {\n",
              "        vertical-align: middle;\n",
              "    }\n",
              "\n",
              "    .dataframe tbody tr th {\n",
              "        vertical-align: top;\n",
              "    }\n",
              "\n",
              "    .dataframe thead th {\n",
              "        text-align: right;\n",
              "    }\n",
              "</style>\n",
              "<table border=\"1\" class=\"dataframe\">\n",
              "  <thead>\n",
              "    <tr style=\"text-align: right;\">\n",
              "      <th></th>\n",
              "      <th>Date received</th>\n",
              "      <th>Product</th>\n",
              "      <th>Sub-product</th>\n",
              "      <th>Issue</th>\n",
              "      <th>Sub-issue</th>\n",
              "      <th>Consumer complaint narrative</th>\n",
              "      <th>Company public response</th>\n",
              "      <th>Company</th>\n",
              "      <th>State</th>\n",
              "      <th>ZIP code</th>\n",
              "      <th>Tags</th>\n",
              "      <th>Consumer consent provided?</th>\n",
              "      <th>Submitted via</th>\n",
              "      <th>Date sent to company</th>\n",
              "      <th>Company response to consumer</th>\n",
              "      <th>Timely response?</th>\n",
              "      <th>Consumer disputed?</th>\n",
              "      <th>Complaint ID</th>\n",
              "    </tr>\n",
              "  </thead>\n",
              "  <tbody>\n",
              "    <tr>\n",
              "      <th>0</th>\n",
              "      <td>2022-12-25</td>\n",
              "      <td>Credit card or prepaid card</td>\n",
              "      <td>Gift card</td>\n",
              "      <td>Unexpected or other fees</td>\n",
              "      <td>NaN</td>\n",
              "      <td>NaN</td>\n",
              "      <td>NaN</td>\n",
              "      <td>Incomm Holdings Inc.</td>\n",
              "      <td>NY</td>\n",
              "      <td>11576.0</td>\n",
              "      <td>NaN</td>\n",
              "      <td>NaN</td>\n",
              "      <td>Web</td>\n",
              "      <td>2022-12-25</td>\n",
              "      <td>Untimely response</td>\n",
              "      <td>No</td>\n",
              "      <td>NaN</td>\n",
              "      <td>6358716</td>\n",
              "    </tr>\n",
              "    <tr>\n",
              "      <th>1</th>\n",
              "      <td>2022-10-17</td>\n",
              "      <td>Credit card or prepaid card</td>\n",
              "      <td>Store credit card</td>\n",
              "      <td>Closing your account</td>\n",
              "      <td>Can't close your account</td>\n",
              "      <td>NaN</td>\n",
              "      <td>NaN</td>\n",
              "      <td>Bread Financial Holdings, Inc.</td>\n",
              "      <td>PA</td>\n",
              "      <td>19610.0</td>\n",
              "      <td>NaN</td>\n",
              "      <td>NaN</td>\n",
              "      <td>Web</td>\n",
              "      <td>2023-01-03</td>\n",
              "      <td>Closed with explanation</td>\n",
              "      <td>Yes</td>\n",
              "      <td>NaN</td>\n",
              "      <td>6096325</td>\n",
              "    </tr>\n",
              "    <tr>\n",
              "      <th>2</th>\n",
              "      <td>2023-01-10</td>\n",
              "      <td>Credit reporting, credit repair services, or o...</td>\n",
              "      <td>Credit reporting</td>\n",
              "      <td>Incorrect information on your report</td>\n",
              "      <td>Information belongs to someone else</td>\n",
              "      <td>NaN</td>\n",
              "      <td>NaN</td>\n",
              "      <td>EQUIFAX, INC.</td>\n",
              "      <td>PA</td>\n",
              "      <td>19127.0</td>\n",
              "      <td>NaN</td>\n",
              "      <td>NaN</td>\n",
              "      <td>Web</td>\n",
              "      <td>2023-01-10</td>\n",
              "      <td>In progress</td>\n",
              "      <td>Yes</td>\n",
              "      <td>NaN</td>\n",
              "      <td>6413829</td>\n",
              "    </tr>\n",
              "    <tr>\n",
              "      <th>3</th>\n",
              "      <td>2022-12-31</td>\n",
              "      <td>Credit reporting, credit repair services, or o...</td>\n",
              "      <td>Credit reporting</td>\n",
              "      <td>Improper use of your report</td>\n",
              "      <td>Credit inquiries on your report that you don't...</td>\n",
              "      <td>NaN</td>\n",
              "      <td>Company has responded to the consumer and the ...</td>\n",
              "      <td>Experian Information Solutions Inc.</td>\n",
              "      <td>MO</td>\n",
              "      <td>63033.0</td>\n",
              "      <td>NaN</td>\n",
              "      <td>Consent not provided</td>\n",
              "      <td>Web</td>\n",
              "      <td>2022-12-31</td>\n",
              "      <td>Closed with non-monetary relief</td>\n",
              "      <td>Yes</td>\n",
              "      <td>NaN</td>\n",
              "      <td>6382980</td>\n",
              "    </tr>\n",
              "    <tr>\n",
              "      <th>4</th>\n",
              "      <td>2022-12-29</td>\n",
              "      <td>Credit card or prepaid card</td>\n",
              "      <td>General-purpose prepaid card</td>\n",
              "      <td>Unexpected or other fees</td>\n",
              "      <td>NaN</td>\n",
              "      <td>NaN</td>\n",
              "      <td>NaN</td>\n",
              "      <td>AMERICAN EXPRESS COMPANY</td>\n",
              "      <td>CA</td>\n",
              "      <td>90746.0</td>\n",
              "      <td>NaN</td>\n",
              "      <td>NaN</td>\n",
              "      <td>Web</td>\n",
              "      <td>2022-12-29</td>\n",
              "      <td>Closed with explanation</td>\n",
              "      <td>Yes</td>\n",
              "      <td>NaN</td>\n",
              "      <td>6375967</td>\n",
              "    </tr>\n",
              "  </tbody>\n",
              "</table>\n",
              "</div>"
            ],
            "text/plain": [
              "  Date received                                            Product  \\\n",
              "0    2022-12-25                        Credit card or prepaid card   \n",
              "1    2022-10-17                        Credit card or prepaid card   \n",
              "2    2023-01-10  Credit reporting, credit repair services, or o...   \n",
              "3    2022-12-31  Credit reporting, credit repair services, or o...   \n",
              "4    2022-12-29                        Credit card or prepaid card   \n",
              "\n",
              "                    Sub-product                                 Issue  \\\n",
              "0                     Gift card              Unexpected or other fees   \n",
              "1             Store credit card                  Closing your account   \n",
              "2              Credit reporting  Incorrect information on your report   \n",
              "3              Credit reporting           Improper use of your report   \n",
              "4  General-purpose prepaid card              Unexpected or other fees   \n",
              "\n",
              "                                           Sub-issue  \\\n",
              "0                                                NaN   \n",
              "1                           Can't close your account   \n",
              "2                Information belongs to someone else   \n",
              "3  Credit inquiries on your report that you don't...   \n",
              "4                                                NaN   \n",
              "\n",
              "  Consumer complaint narrative  \\\n",
              "0                          NaN   \n",
              "1                          NaN   \n",
              "2                          NaN   \n",
              "3                          NaN   \n",
              "4                          NaN   \n",
              "\n",
              "                             Company public response  \\\n",
              "0                                                NaN   \n",
              "1                                                NaN   \n",
              "2                                                NaN   \n",
              "3  Company has responded to the consumer and the ...   \n",
              "4                                                NaN   \n",
              "\n",
              "                               Company State ZIP code Tags  \\\n",
              "0                 Incomm Holdings Inc.    NY  11576.0  NaN   \n",
              "1       Bread Financial Holdings, Inc.    PA  19610.0  NaN   \n",
              "2                        EQUIFAX, INC.    PA  19127.0  NaN   \n",
              "3  Experian Information Solutions Inc.    MO  63033.0  NaN   \n",
              "4             AMERICAN EXPRESS COMPANY    CA  90746.0  NaN   \n",
              "\n",
              "  Consumer consent provided? Submitted via Date sent to company  \\\n",
              "0                        NaN           Web           2022-12-25   \n",
              "1                        NaN           Web           2023-01-03   \n",
              "2                        NaN           Web           2023-01-10   \n",
              "3       Consent not provided           Web           2022-12-31   \n",
              "4                        NaN           Web           2022-12-29   \n",
              "\n",
              "      Company response to consumer Timely response? Consumer disputed?  \\\n",
              "0                Untimely response               No                NaN   \n",
              "1          Closed with explanation              Yes                NaN   \n",
              "2                      In progress              Yes                NaN   \n",
              "3  Closed with non-monetary relief              Yes                NaN   \n",
              "4          Closed with explanation              Yes                NaN   \n",
              "\n",
              "   Complaint ID  \n",
              "0       6358716  \n",
              "1       6096325  \n",
              "2       6413829  \n",
              "3       6382980  \n",
              "4       6375967  "
            ]
          },
          "execution_count": 2,
          "metadata": {},
          "output_type": "execute_result"
        }
      ],
      "source": [
        "url = 'https://drive.google.com/file/d/1r5xDdeOsuwUDZy_1GVNf_hS8vxQ7LtEV/view?usp=share_link'\n",
        "\n",
        "# Extract file ID from the URL\n",
        "file_id = url.split('/')[-2]\n",
        "\n",
        "# Construct the download URL\n",
        "dwn_url = f'https://drive.google.com/uc?id={file_id}'\n",
        "\n",
        "# Download the file\n",
        "output = 'complaints.csv'\n",
        "# gdown.download(dwn_url, output, quiet=False)\n",
        "\n",
        "# Download only if file doesn't already exist\n",
        "if not os.path.exists(output):\n",
        "    gdown.download(dwn_url, output, quiet = False)\n",
        "else:\n",
        "    print(\"File already exists. Skipping download.\")\n",
        "\n",
        "# Read the downloaded CSV file into a DataFrame\n",
        "data = pd.read_csv(output)\n",
        "\n",
        "data.head()\n"
      ]
    },
    {
      "cell_type": "code",
      "execution_count": 3,
      "id": "f08084c0",
      "metadata": {
        "id": "f08084c0",
        "outputId": "02e73957-d6d1-45c0-b3b2-bd188e2ab350"
      },
      "outputs": [
        {
          "data": {
            "text/plain": [
              "Company\n",
              "EQUIFAX, INC.                                    562111\n",
              "TRANSUNION INTERMEDIATE HOLDINGS, INC.           467190\n",
              "Experian Information Solutions Inc.              436041\n",
              "BANK OF AMERICA, NATIONAL ASSOCIATION            121461\n",
              "WELLS FARGO & COMPANY                            103010\n",
              "                                                  ...  \n",
              "Commonwealth Auto Credit, LLC                         1\n",
              "REVERSE e MORTGAGE LLC Dba CrossPoint Funding         1\n",
              "Gregg & Gregg, P.C.                                   1\n",
              "Nationwide TFS, LLC                                   1\n",
              "BAY VALLEY                                            1\n",
              "Name: count, Length: 6611, dtype: int64"
            ]
          },
          "execution_count": 3,
          "metadata": {},
          "output_type": "execute_result"
        }
      ],
      "source": [
        "data['Company'].value_counts() # # Counts the number of occurrences of each unique value in the 'Company' column"
      ]
    },
    {
      "cell_type": "code",
      "execution_count": 4,
      "id": "6081a5fe",
      "metadata": {
        "id": "6081a5fe",
        "outputId": "5a2e5526-beb1-4153-b99a-5970a99cff99"
      },
      "outputs": [
        {
          "data": {
            "text/html": [
              "<div>\n",
              "<style scoped>\n",
              "    .dataframe tbody tr th:only-of-type {\n",
              "        vertical-align: middle;\n",
              "    }\n",
              "\n",
              "    .dataframe tbody tr th {\n",
              "        vertical-align: top;\n",
              "    }\n",
              "\n",
              "    .dataframe thead th {\n",
              "        text-align: right;\n",
              "    }\n",
              "</style>\n",
              "<table border=\"1\" class=\"dataframe\">\n",
              "  <thead>\n",
              "    <tr style=\"text-align: right;\">\n",
              "      <th></th>\n",
              "      <th>Date received</th>\n",
              "      <th>Product</th>\n",
              "      <th>Sub-product</th>\n",
              "      <th>Issue</th>\n",
              "      <th>Sub-issue</th>\n",
              "      <th>Consumer complaint narrative</th>\n",
              "      <th>Company public response</th>\n",
              "      <th>Company</th>\n",
              "      <th>State</th>\n",
              "      <th>ZIP code</th>\n",
              "      <th>Tags</th>\n",
              "      <th>Consumer consent provided?</th>\n",
              "      <th>Submitted via</th>\n",
              "      <th>Date sent to company</th>\n",
              "      <th>Company response to consumer</th>\n",
              "      <th>Timely response?</th>\n",
              "      <th>Consumer disputed?</th>\n",
              "      <th>Complaint ID</th>\n",
              "    </tr>\n",
              "  </thead>\n",
              "  <tbody>\n",
              "    <tr>\n",
              "      <th>55</th>\n",
              "      <td>2022-12-30</td>\n",
              "      <td>Money transfer, virtual currency, or money ser...</td>\n",
              "      <td>Domestic (US) money transfer</td>\n",
              "      <td>Other transaction problem</td>\n",
              "      <td>NaN</td>\n",
              "      <td>A Wire transfer of {$23000.00} was initiated o...</td>\n",
              "      <td>Company has responded to the consumer and the ...</td>\n",
              "      <td>CITIBANK, N.A.</td>\n",
              "      <td>CA</td>\n",
              "      <td>91730.0</td>\n",
              "      <td>NaN</td>\n",
              "      <td>Consent provided</td>\n",
              "      <td>Web</td>\n",
              "      <td>2022-12-30</td>\n",
              "      <td>Closed with explanation</td>\n",
              "      <td>Yes</td>\n",
              "      <td>NaN</td>\n",
              "      <td>6378719</td>\n",
              "    </tr>\n",
              "    <tr>\n",
              "      <th>75</th>\n",
              "      <td>2022-12-26</td>\n",
              "      <td>Checking or savings account</td>\n",
              "      <td>Checking account</td>\n",
              "      <td>Closing an account</td>\n",
              "      <td>Can't close your account</td>\n",
              "      <td>My father passed away on XX/XX/2022. I informe...</td>\n",
              "      <td>Company has responded to the consumer and the ...</td>\n",
              "      <td>CITIBANK, N.A.</td>\n",
              "      <td>WA</td>\n",
              "      <td>98102.0</td>\n",
              "      <td>NaN</td>\n",
              "      <td>Consent provided</td>\n",
              "      <td>Web</td>\n",
              "      <td>2022-12-26</td>\n",
              "      <td>Closed with explanation</td>\n",
              "      <td>Yes</td>\n",
              "      <td>NaN</td>\n",
              "      <td>6361109</td>\n",
              "    </tr>\n",
              "    <tr>\n",
              "      <th>80</th>\n",
              "      <td>2022-12-25</td>\n",
              "      <td>Credit card or prepaid card</td>\n",
              "      <td>General-purpose credit card or charge card</td>\n",
              "      <td>Problem with a purchase shown on your statement</td>\n",
              "      <td>Credit card company isn't resolving a dispute ...</td>\n",
              "      <td>Back in XXXX of 2021, I bought a XXXXXXXX XXXX...</td>\n",
              "      <td>Company has responded to the consumer and the ...</td>\n",
              "      <td>CITIBANK, N.A.</td>\n",
              "      <td>SC</td>\n",
              "      <td>29072.0</td>\n",
              "      <td>NaN</td>\n",
              "      <td>Consent provided</td>\n",
              "      <td>Web</td>\n",
              "      <td>2022-12-25</td>\n",
              "      <td>Closed with monetary relief</td>\n",
              "      <td>Yes</td>\n",
              "      <td>NaN</td>\n",
              "      <td>6359652</td>\n",
              "    </tr>\n",
              "    <tr>\n",
              "      <th>154</th>\n",
              "      <td>2022-12-28</td>\n",
              "      <td>Credit card or prepaid card</td>\n",
              "      <td>Store credit card</td>\n",
              "      <td>Problem with a purchase shown on your statement</td>\n",
              "      <td>Credit card company isn't resolving a dispute ...</td>\n",
              "      <td>I am a platinum card holder with Macys. I gene...</td>\n",
              "      <td>Company has responded to the consumer and the ...</td>\n",
              "      <td>CITIBANK, N.A.</td>\n",
              "      <td>DC</td>\n",
              "      <td>20012.0</td>\n",
              "      <td>NaN</td>\n",
              "      <td>Consent provided</td>\n",
              "      <td>Web</td>\n",
              "      <td>2022-12-28</td>\n",
              "      <td>Closed with explanation</td>\n",
              "      <td>Yes</td>\n",
              "      <td>NaN</td>\n",
              "      <td>6368493</td>\n",
              "    </tr>\n",
              "    <tr>\n",
              "      <th>234</th>\n",
              "      <td>2022-12-07</td>\n",
              "      <td>Credit reporting, credit repair services, or o...</td>\n",
              "      <td>Credit reporting</td>\n",
              "      <td>Improper use of your report</td>\n",
              "      <td>Credit inquiries on your report that you don't...</td>\n",
              "      <td>I disputed the unknown inquires and the compan...</td>\n",
              "      <td>Company has responded to the consumer and the ...</td>\n",
              "      <td>CITIBANK, N.A.</td>\n",
              "      <td>MD</td>\n",
              "      <td>20743.0</td>\n",
              "      <td>NaN</td>\n",
              "      <td>Consent provided</td>\n",
              "      <td>Web</td>\n",
              "      <td>2022-12-30</td>\n",
              "      <td>Closed with explanation</td>\n",
              "      <td>Yes</td>\n",
              "      <td>NaN</td>\n",
              "      <td>6286123</td>\n",
              "    </tr>\n",
              "  </tbody>\n",
              "</table>\n",
              "</div>"
            ],
            "text/plain": [
              "    Date received                                            Product  \\\n",
              "55     2022-12-30  Money transfer, virtual currency, or money ser...   \n",
              "75     2022-12-26                        Checking or savings account   \n",
              "80     2022-12-25                        Credit card or prepaid card   \n",
              "154    2022-12-28                        Credit card or prepaid card   \n",
              "234    2022-12-07  Credit reporting, credit repair services, or o...   \n",
              "\n",
              "                                    Sub-product  \\\n",
              "55                 Domestic (US) money transfer   \n",
              "75                             Checking account   \n",
              "80   General-purpose credit card or charge card   \n",
              "154                           Store credit card   \n",
              "234                            Credit reporting   \n",
              "\n",
              "                                               Issue  \\\n",
              "55                         Other transaction problem   \n",
              "75                                Closing an account   \n",
              "80   Problem with a purchase shown on your statement   \n",
              "154  Problem with a purchase shown on your statement   \n",
              "234                      Improper use of your report   \n",
              "\n",
              "                                             Sub-issue  \\\n",
              "55                                                 NaN   \n",
              "75                            Can't close your account   \n",
              "80   Credit card company isn't resolving a dispute ...   \n",
              "154  Credit card company isn't resolving a dispute ...   \n",
              "234  Credit inquiries on your report that you don't...   \n",
              "\n",
              "                          Consumer complaint narrative  \\\n",
              "55   A Wire transfer of {$23000.00} was initiated o...   \n",
              "75   My father passed away on XX/XX/2022. I informe...   \n",
              "80   Back in XXXX of 2021, I bought a XXXXXXXX XXXX...   \n",
              "154  I am a platinum card holder with Macys. I gene...   \n",
              "234  I disputed the unknown inquires and the compan...   \n",
              "\n",
              "                               Company public response         Company State  \\\n",
              "55   Company has responded to the consumer and the ...  CITIBANK, N.A.    CA   \n",
              "75   Company has responded to the consumer and the ...  CITIBANK, N.A.    WA   \n",
              "80   Company has responded to the consumer and the ...  CITIBANK, N.A.    SC   \n",
              "154  Company has responded to the consumer and the ...  CITIBANK, N.A.    DC   \n",
              "234  Company has responded to the consumer and the ...  CITIBANK, N.A.    MD   \n",
              "\n",
              "    ZIP code Tags Consumer consent provided? Submitted via  \\\n",
              "55   91730.0  NaN           Consent provided           Web   \n",
              "75   98102.0  NaN           Consent provided           Web   \n",
              "80   29072.0  NaN           Consent provided           Web   \n",
              "154  20012.0  NaN           Consent provided           Web   \n",
              "234  20743.0  NaN           Consent provided           Web   \n",
              "\n",
              "    Date sent to company Company response to consumer Timely response?  \\\n",
              "55            2022-12-30      Closed with explanation              Yes   \n",
              "75            2022-12-26      Closed with explanation              Yes   \n",
              "80            2022-12-25  Closed with monetary relief              Yes   \n",
              "154           2022-12-28      Closed with explanation              Yes   \n",
              "234           2022-12-30      Closed with explanation              Yes   \n",
              "\n",
              "    Consumer disputed?  Complaint ID  \n",
              "55                 NaN       6378719  \n",
              "75                 NaN       6361109  \n",
              "80                 NaN       6359652  \n",
              "154                NaN       6368493  \n",
              "234                NaN       6286123  "
            ]
          },
          "execution_count": 4,
          "metadata": {},
          "output_type": "execute_result"
        }
      ],
      "source": [
        "# Filters the dataset to only include rows where the 'Company' column is exactly 'CITIBANK, N.A.'\n",
        "citigroup_data = data[data['Company'] == 'CITIBANK, N.A.']\n",
        "\n",
        "# Displays the first 5 rows of the filtered DataFrame to preview the data\n",
        "citigroup_data.head()"
      ]
    },
    {
      "cell_type": "code",
      "execution_count": 5,
      "id": "27110270",
      "metadata": {
        "id": "27110270",
        "outputId": "4ff0470c-d985-4e9b-895c-b9bdc9bf219e"
      },
      "outputs": [
        {
          "name": "stdout",
          "output_type": "stream",
          "text": [
            "Timely response?\n",
            "Yes    80158\n",
            "No       369\n",
            "Name: count, dtype: int64\n"
          ]
        },
        {
          "data": {
            "text/plain": [
              "<Axes: xlabel='Timely response?', ylabel='count'>"
            ]
          },
          "execution_count": 5,
          "metadata": {},
          "output_type": "execute_result"
        },
        {
          "data": {
            "image/png": "[encoded data removed]",
            "text/plain": [
              "<Figure size 640x480 with 1 Axes>"
            ]
          },
          "metadata": {},
          "output_type": "display_data"
        }
      ],
      "source": [
        "# Counts the number of 'Yes' and 'No' (or other unique values) in the 'Timely response?' column of the Citibank data\n",
        "x = citigroup_data['Timely response?'].value_counts()\n",
        "\n",
        "# Prints the count of each response category (e.g., how many timely and untimely responses)\n",
        "print(x)\n",
        "\n",
        "# Creates a bar plot to visualize the count of timely responses\n",
        "sns.barplot(x=x.index, y=x)  # x-axis: response categories ('Yes', 'No'), y-axis: their counts\n"
      ]
    },
    {
      "cell_type": "code",
      "execution_count": null,
      "id": "1c0e25fc",
      "metadata": {
        "id": "1c0e25fc",
        "outputId": "a4276265-4ce6-45a8-ecea-29d24c0ddcd6"
      },
      "outputs": [
        {
          "name": "stdout",
          "output_type": "stream",
          "text": [
            "Consumer disputed?\n",
            "No     28071\n",
            "Yes     6697\n",
            "Name: count, dtype: int64\n"
          ]
        },
        {
          "data": {
            "text/plain": [
              "<Axes: xlabel='Consumer disputed?', ylabel='count'>"
            ]
          },
          "execution_count": 12,
          "metadata": {},
          "output_type": "execute_result"
        },
        {
          "data": {
            "image/png": "[encoded data removed]",
            "text/plain": [
              "<Figure size 640x480 with 1 Axes>"
            ]
          },
          "metadata": {},
          "output_type": "display_data"
        }
      ],
      "source": [
        "# Counts how many times each unique value (e.g., 'Yes', 'No') appears in the 'Consumer disputed?' column\n",
        "x = ???\n",
        "\n",
        "# Prints the result — the number of disputed vs. non-disputed complaints\n",
        "print(x)\n",
        "\n",
        "# Plots a bar chart showing how often consumers disputed the complaint resolution\n",
        "sns.barplot(x=x.index, y=x)  # x-axis: dispute categories ('Yes', 'No'), y-axis: number of cases\n"
      ]
    },
    {
      "cell_type": "code",
      "execution_count": null,
      "id": "f734f4c1",
      "metadata": {
        "id": "f734f4c1",
        "outputId": "9df26b9e-e049-484f-e751-db3002313998"
      },
      "outputs": [
        {
          "name": "stdout",
          "output_type": "stream",
          "text": [
            "Product\n",
            "Credit card or prepaid card                                                     22092\n",
            "Credit card                                                                     16817\n",
            "Mortgage                                                                        10249\n",
            "Checking or savings account                                                      8967\n",
            "Credit reporting, credit repair services, or other personal consumer reports     7868\n",
            "Debt collection                                                                  6859\n",
            "Bank account or service                                                          4450\n",
            "Money transfer, virtual currency, or money service                                844\n",
            "Consumer Loan                                                                     765\n",
            "Student loan                                                                      737\n",
            "Credit reporting                                                                  267\n",
            "Payday loan, title loan, or personal loan                                         214\n",
            "Prepaid card                                                                      206\n",
            "Money transfers                                                                   102\n",
            "Vehicle loan or lease                                                              34\n",
            "Other financial service                                                            34\n",
            "Payday loan                                                                        22\n",
            "Name: count, dtype: int64\n"
          ]
        },
        {
          "data": {
            "text/plain": [
              "<Axes: title={'center': 'Count of Different Products'}, xlabel='Product', ylabel='count'>"
            ]
          },
          "execution_count": 13,
          "metadata": {},
          "output_type": "execute_result"
        },
        {
          "data": {
            "image/png": "[encoded data removed]",
            "text/plain": [
              "<Figure size 640x480 with 1 Axes>"
            ]
          },
          "metadata": {},
          "output_type": "display_data"
        }
      ],
      "source": [
        "# Count the number of occurrences of each product type in Citibank complaints\n",
        "x = citigroup_data['Product'].value_counts()\n",
        "\n",
        "# Print the frequency of each product to the console\n",
        "print(x)\n",
        "\n",
        "# Rotate x-axis labels by 45 degrees to avoid overlapping and align them to the right\n",
        "plt.xticks(rotation=45, ha='right')\n",
        "\n",
        "# Set a title for the bar chart\n",
        "plt.title(\"Count of Different Products\", color='black')\n",
        "\n",
        "# Create a dictionary to rename long or grouped product labels for better readability\n",
        "new_labels = {\n",
        "    'Credit reporting, credit repair services, or other personal consumer reports': 'Credit Services',\n",
        "    'Money transfer, virtual currency, or money service': 'Money Services',\n",
        "    'Payday loan, title loan, or personal loan': 'Loan Services'\n",
        "}\n",
        "\n",
        "# Create a barplot using seaborn to show the count of each product\n",
        "ax = sns.barplot(x=x.index, y=x)\n",
        "\n",
        "# Get the current x-axis labels from the plot\n",
        "current_labels = [item.get_text() for item in ax.get_xticklabels()]\n",
        "\n",
        "# Replace long labels with simplified versions using the dictionary (if a match exists)\n",
        "updated_labels = [new_labels.get(label, label) for label in current_labels]\n",
        "\n",
        "# Apply the updated, shortened labels to the x-axis\n",
        "ax.set_xticklabels(updated_labels)\n",
        "\n",
        "# Plot another barplot with red color overlay\n",
        "sns.barplot(x=x.index, y=x, color='red')  # This creates a second red barplot on top\n"
      ]
    },
    {
      "cell_type": "code",
      "execution_count": null,
      "id": "a55d4bd7",
      "metadata": {
        "id": "a55d4bd7",
        "outputId": "0dd4e1cc-12a2-4d2f-fd4e-5075b20e466f"
      },
      "outputs": [
        {
          "name": "stdout",
          "output_type": "stream",
          "text": [
            "Consumer consent provided?\n",
            "Consent provided        29628\n",
            "Consent not provided    18006\n",
            "Other                     999\n",
            "Consent withdrawn         188\n",
            "Name: count, dtype: int64\n"
          ]
        },
        {
          "data": {
            "text/plain": [
              "<Axes: xlabel='Consumer consent provided?', ylabel='count'>"
            ]
          },
          "execution_count": 16,
          "metadata": {},
          "output_type": "execute_result"
        },
        {
          "data": {
            "image/png": "[encoded data removed]",
            "text/plain": [
              "<Figure size 1500x800 with 1 Axes>"
            ]
          },
          "metadata": {},
          "output_type": "display_data"
        }
      ],
      "source": [
        "# Count how many times each unique value appears in the 'Consumer consent provided?' column\n",
        "x = citigroup_data['Consumer consent provided?'].value_counts()\n",
        "\n",
        "# Print the result to see the exact counts (e.g., 'Yes', 'No', 'N/A')\n",
        "print(x)\n",
        "\n",
        "# Set the size of the figure to make the plot larger and more readable (15 inches wide, 8 inches tall)\n",
        "plt.figure(figsize=(15, 8))\n",
        "\n",
        "# Create a bar plot to visualize the distribution of consumer consent statuses\n",
        "sns.barplot(x=x.index, y=x)  # x-axis: categories of consent, y-axis: their counts"
      ]
    },
    {
      "cell_type": "code",
      "execution_count": null,
      "id": "9c7d57c6",
      "metadata": {
        "id": "9c7d57c6",
        "outputId": "42f52806-a8f1-494b-f76c-22a67fec2819"
      },
      "outputs": [
        {
          "name": "stdout",
          "output_type": "stream",
          "text": [
            "Date sent to company\n",
            "2012-06-21    96\n",
            "2021-12-03    78\n",
            "2020-06-25    71\n",
            "2016-06-30    61\n",
            "2018-04-28    61\n",
            "              ..\n",
            "2013-05-05     1\n",
            "2014-09-07     1\n",
            "2013-06-02     1\n",
            "2013-03-30     1\n",
            "2015-06-21     1\n",
            "Name: count, Length: 3919, dtype: int64\n"
          ]
        }
      ],
      "source": [
        "# Count the number of complaints sent to the company on each unique date\n",
        "x = citigroup_data['Date sent to company'].value_counts()\n",
        "\n",
        "# Print the counts to see how many complaints were sent on each date\n",
        "print(x)"
      ]
    },
    {
      "cell_type": "markdown",
      "id": "a6a07c62",
      "metadata": {
        "id": "a6a07c62"
      },
      "source": [
        "**Pre text processing**"
      ]
    },
    {
      "cell_type": "markdown",
      "id": "3a8ec0da",
      "metadata": {
        "id": "3a8ec0da"
      },
      "source": [
        "Stemming"
      ]
    },
    {
      "cell_type": "code",
      "execution_count": null,
      "id": "93c6bc8c",
      "metadata": {
        "id": "93c6bc8c"
      },
      "outputs": [],
      "source": [
        "def text_stemming(text):\n",
        "    # Convert the input to string in case it isn't (to avoid errors)\n",
        "    text = str(text)\n",
        "\n",
        "    # Initialize the Porter stemmer from NLTK (used to reduce words to their root form)\n",
        "    stemmer = nltk.porter.PorterStemmer()\n",
        "\n",
        "    # Split the text into individual words (tokens), stem each token, then join back into a single string\n",
        "    stemmed = ???\n",
        "\n",
        "    # Return the stemmed version of the text\n",
        "    return stemmed"
      ]
    }
  ],
  "metadata": {
    "colab": {
      "provenance": []
    },
    "kernelspec": {
      "display_name": "Python 3",
      "language": "python",
      "name": "python3"
    },
    "language_info": {
      "codemirror_mode": {
        "name": "ipython",
        "version": 3
      },
      "file_extension": ".py",
      "mimetype": "text/x-python",
      "name": "python",
      "nbconvert_exporter": "python",
      "pygments_lexer": "ipython3",
      "version": "3.8.9"
    }
  },
  "nbformat": 4,
  "nbformat_minor": 5
}
